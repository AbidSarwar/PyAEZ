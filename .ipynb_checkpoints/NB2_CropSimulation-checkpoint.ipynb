{
 "cells": [
  {
   "cell_type": "markdown",
   "metadata": {},
   "source": [
    "<br>"
   ]
  },
  {
   "cell_type": "markdown",
   "metadata": {},
   "source": [
    "# Notebook II - Crop Simulation\n",
    "\n",
    "<hr>\n",
    "<hr>"
   ]
  },
  {
   "cell_type": "markdown",
   "metadata": {},
   "source": [
    "## Importing Libraries"
   ]
  },
  {
   "cell_type": "code",
   "execution_count": 6,
   "metadata": {},
   "outputs": [],
   "source": [
    "'''import supporting libraries'''\n",
    "\n",
    "import numpy as np\n",
    "import matplotlib.pyplot as plt\n",
    "import imageio\n",
    "\n",
    "import sys\n",
    "sys.path.append('./code/') # add path to source code directory"
   ]
  },
  {
   "cell_type": "markdown",
   "metadata": {},
   "source": [
    "## Reading Data"
   ]
  },
  {
   "cell_type": "code",
   "execution_count": 7,
   "metadata": {},
   "outputs": [],
   "source": [
    "'''reading climate data'''\n",
    "\n",
    "min_temp = np.load('./sample_data/input/climate/min_temp.npy') # Celcius\n",
    "max_temp = np.load('./sample_data/input/climate/max_temp.npy') # Celcius\n",
    "precipitation = np.load('./sample_data/input/climate/precipitation.npy') # mm / day\n",
    "short_rad = np.load('./sample_data/input/climate/short_rad.npy') # W/m^2\n",
    "wind_speed = np.load('./sample_data/input/climate/wind_speed.npy') # m/s\n",
    "rel_humidity = np.load('./sample_data/input/climate/relative_humidity.npy') # Fraction, and assumed as a constant 0.70"
   ]
  },
  {
   "cell_type": "code",
   "execution_count": 8,
   "metadata": {},
   "outputs": [],
   "source": [
    "'''reading study area and elevation data'''\n",
    "\n",
    "# admin_mask = imageio.imread('./sample_data/input/LAO_Admin.tif');\n",
    "# srtm_elevation = imageio.imread('./sample_data/input/SRTM_Elevation.tif'); # m\n",
    "\n",
    "admin_mask = np.load('./sample_data/input/LAO_Admin.npy');\n",
    "srtm_elevation = np.load('./sample_data/input/SRTM_Elevation.npy'); # m"
   ]
  },
  {
   "cell_type": "markdown",
   "metadata": {},
   "source": [
    "## Crop Simulation"
   ]
  },
  {
   "cell_type": "code",
   "execution_count": 9,
   "metadata": {},
   "outputs": [],
   "source": [
    "'''importing library'''\n",
    "\n",
    "import CropSimulation\n",
    "aez = CropSimulation.CropSimulation()\n",
    "\n",
    "import UtilitiesCalc\n",
    "obj_utilities = UtilitiesCalc.UtilitiesCalc()"
   ]
  },
  {
   "cell_type": "code",
   "execution_count": 13,
   "metadata": {
    "scrolled": false
   },
   "outputs": [
    {
     "name": "stdout",
     "output_type": "stream",
     "text": [
      "index: 2\n",
      "0.75\n"
     ]
    }
   ],
   "source": [
    "'''setting input data'''\n",
    "\n",
    "# latitude limits of the study area\n",
    "lat_min = 13.90\n",
    "lat_max = 22.51\n",
    "\n",
    "aez.setMonthlyClimateData(min_temp, max_temp, precipitation, short_rad, wind_speed, rel_humidity)\n",
    "aez.setLocationTerrainData(lat_min=lat_min, lat_max=lat_max, elevation=srtm_elevation)\n",
    "aez.setStudyAreaMask(admin_mask=admin_mask, no_data_value=0)\n",
    "\n",
    "# aez.setCropParameters(LAI=4, HI=0.4, legume=0, adaptability=2, cycle_len=105, D1=0.75, D2=0.75)\n",
    "# aez.setCropCycleParameters(stage_per=[10, 30, 30, 30], kc=[1.1, 1.2, 1], kc_all=1.1, yloss_f=[1, 2, 2.5, 1], yloss_f_all=2)\n",
    "aez.setPerennialCropParametersFromCSV('./sample_data/input/crop_parameters.csv', 'Wheat')\n",
    "# aez.setCropParametersFromCSV('./sample_data/input/Crop_parameters.csv', 'Rice', is_perennial=False)\n",
    "\n",
    "aez.setSoilWaterParameters(Sa=100*np.ones((admin_mask.shape)), pc=0.5)"
   ]
  },
  {
   "cell_type": "code",
   "execution_count": 14,
   "metadata": {},
   "outputs": [],
   "source": [
    "'''setting study area, climate screening (optional)'''\n",
    "\n",
    "# aez.setStudyAreaMask(admin_mask=admin_mask, no_data_value=0)\n",
    "\n",
    "#tclimate = imageio.imread('.\\Outputs\\OutputV1_25Km\\ThermalClimate.tif');\n",
    "#aez.setThermalClimateScreening(tclimate, [1,2])\n",
    "\n",
    "\n",
    "\n",
    "\n",
    "# user has to select a csv file, containing thermal rules\n",
    "# use below function to set thermal rules\n",
    "# must be given a csv file with thermal rules to continue\n",
    "\n",
    "aez.ReadThermalScreeningRulesFromCSV(\"./sample_data/input/thermalScreeningRules.csv\")\n",
    "\n",
    "aez.setLGPTScreening([75,75,75],[105,105,105])\n",
    "#aez.setTSumScreening([2000,2000,2000],[3000,3000,3000])\n",
    "\n",
    "tprofile_1 = [100,100,100,100,100,100,100,100,100,100,100,100,100,100,100,100,100,100]\n",
    "aez.setTProfileScreening(tprofile_1,tprofile_1)\n",
    "\n"
   ]
  },
  {
   "cell_type": "code",
   "execution_count": 15,
   "metadata": {
    "scrolled": true
   },
   "outputs": [
    {
     "name": "stdout",
     "output_type": "stream",
     "text": [
      "Done: 0 %\n",
      "Done: 0 %\n",
      "Done: 0 %\n",
      "Done: 1 %\n",
      "Done: 2 %\n",
      "Done: 3 %\n",
      "Done: 5 %\n",
      "Done: 7 %\n",
      "Done: 10 %\n",
      "Done: 15 %\n",
      "Done: 20 %\n",
      "Done: 25 %\n",
      "Done: 30 %\n",
      "Done: 34 %\n",
      "Done: 39 %\n",
      "Done: 42 %\n",
      "Done: 45 %\n",
      "Done: 48 %\n",
      "Done: 52 %\n",
      "Done: 57 %\n",
      "Done: 61 %\n",
      "Done: 64 %\n",
      "Done: 66 %\n",
      "Done: 68 %\n",
      "Done: 69 %\n",
      "Done: 71 %\n",
      "Done: 73 %\n",
      "Done: 74 %\n",
      "Done: 76 %\n",
      "Done: 79 %\n",
      "Done: 81 %\n",
      "Done: 84 %\n",
      "Done: 85 %\n",
      "Done: 87 %\n",
      "Done: 90 %\n",
      "Done: 92 %\n",
      "Done: 95 %\n",
      "Done: 97 %\n",
      "Done: 98 %\n",
      "Done: 99 %\n",
      "Simulations Completed !\n"
     ]
    }
   ],
   "source": [
    "'''run simulations'''\n",
    "\n",
    "aez.simulateCropCycle( start_doy=1, end_doy=365, step_doy=4, leap_year=False) # results are in kg / hectare"
   ]
  },
  {
   "cell_type": "code",
   "execution_count": 16,
   "metadata": {},
   "outputs": [
    {
     "ename": "ValueError",
     "evalue": "zero-size array to reduction operation maximum which has no identity",
     "output_type": "error",
     "traceback": [
      "\u001b[1;31m---------------------------------------------------------------------------\u001b[0m",
      "\u001b[1;31mValueError\u001b[0m                                Traceback (most recent call last)",
      "\u001b[1;32m<ipython-input-16-736afaabff69>\u001b[0m in \u001b[0;36m<module>\u001b[1;34m\u001b[0m\n\u001b[0;32m      7\u001b[0m \u001b[1;33m\u001b[0m\u001b[0m\n\u001b[0;32m      8\u001b[0m \u001b[1;31m## get classified output\u001b[0m\u001b[1;33m\u001b[0m\u001b[1;33m\u001b[0m\u001b[1;33m\u001b[0m\u001b[0m\n\u001b[1;32m----> 9\u001b[1;33m \u001b[0myield_map_rain_class\u001b[0m \u001b[1;33m=\u001b[0m \u001b[0mobj_utilities\u001b[0m\u001b[1;33m.\u001b[0m\u001b[0mclassifyFinalYield\u001b[0m\u001b[1;33m(\u001b[0m\u001b[0myield_map_rain\u001b[0m\u001b[1;33m)\u001b[0m\u001b[1;33m\u001b[0m\u001b[1;33m\u001b[0m\u001b[0m\n\u001b[0m\u001b[0;32m     10\u001b[0m \u001b[0myield_map_irr_class\u001b[0m \u001b[1;33m=\u001b[0m \u001b[0mobj_utilities\u001b[0m\u001b[1;33m.\u001b[0m\u001b[0mclassifyFinalYield\u001b[0m\u001b[1;33m(\u001b[0m\u001b[0myield_map_irr\u001b[0m\u001b[1;33m)\u001b[0m\u001b[1;33m\u001b[0m\u001b[1;33m\u001b[0m\u001b[0m\n",
      "\u001b[1;32mD:\\3. Py-AEZ\\PyAEZ\\code\\UtilitiesCalc.py\u001b[0m in \u001b[0;36mclassifyFinalYield\u001b[1;34m(self, est_yield)\u001b[0m\n\u001b[0;32m     64\u001b[0m         '''\n\u001b[0;32m     65\u001b[0m \u001b[1;33m\u001b[0m\u001b[0m\n\u001b[1;32m---> 66\u001b[1;33m         \u001b[0mest_yield_max\u001b[0m \u001b[1;33m=\u001b[0m \u001b[0mnp\u001b[0m\u001b[1;33m.\u001b[0m\u001b[0mamax\u001b[0m\u001b[1;33m(\u001b[0m \u001b[0mest_yield\u001b[0m\u001b[1;33m[\u001b[0m\u001b[0mest_yield\u001b[0m\u001b[1;33m>\u001b[0m\u001b[1;36m0\u001b[0m\u001b[1;33m]\u001b[0m \u001b[1;33m)\u001b[0m\u001b[1;33m\u001b[0m\u001b[1;33m\u001b[0m\u001b[0m\n\u001b[0m\u001b[0;32m     67\u001b[0m         \u001b[0mest_yield_min\u001b[0m \u001b[1;33m=\u001b[0m \u001b[0mnp\u001b[0m\u001b[1;33m.\u001b[0m\u001b[0mamin\u001b[0m\u001b[1;33m(\u001b[0m \u001b[0mest_yield\u001b[0m\u001b[1;33m[\u001b[0m\u001b[0mest_yield\u001b[0m\u001b[1;33m>\u001b[0m\u001b[1;36m0\u001b[0m\u001b[1;33m]\u001b[0m \u001b[1;33m)\u001b[0m\u001b[1;33m\u001b[0m\u001b[1;33m\u001b[0m\u001b[0m\n\u001b[0;32m     68\u001b[0m \u001b[1;33m\u001b[0m\u001b[0m\n",
      "\u001b[1;32m<__array_function__ internals>\u001b[0m in \u001b[0;36mamax\u001b[1;34m(*args, **kwargs)\u001b[0m\n",
      "\u001b[1;32m~\\anaconda3\\envs\\env\\lib\\site-packages\\numpy\\core\\fromnumeric.py\u001b[0m in \u001b[0;36mamax\u001b[1;34m(a, axis, out, keepdims, initial, where)\u001b[0m\n\u001b[0;32m   2731\u001b[0m     \u001b[1;36m5\u001b[0m\u001b[1;33m\u001b[0m\u001b[1;33m\u001b[0m\u001b[0m\n\u001b[0;32m   2732\u001b[0m     \"\"\"\n\u001b[1;32m-> 2733\u001b[1;33m     return _wrapreduction(a, np.maximum, 'max', axis, None, out,\n\u001b[0m\u001b[0;32m   2734\u001b[0m                           keepdims=keepdims, initial=initial, where=where)\n\u001b[0;32m   2735\u001b[0m \u001b[1;33m\u001b[0m\u001b[0m\n",
      "\u001b[1;32m~\\anaconda3\\envs\\env\\lib\\site-packages\\numpy\\core\\fromnumeric.py\u001b[0m in \u001b[0;36m_wrapreduction\u001b[1;34m(obj, ufunc, method, axis, dtype, out, **kwargs)\u001b[0m\n\u001b[0;32m     85\u001b[0m                 \u001b[1;32mreturn\u001b[0m \u001b[0mreduction\u001b[0m\u001b[1;33m(\u001b[0m\u001b[0maxis\u001b[0m\u001b[1;33m=\u001b[0m\u001b[0maxis\u001b[0m\u001b[1;33m,\u001b[0m \u001b[0mout\u001b[0m\u001b[1;33m=\u001b[0m\u001b[0mout\u001b[0m\u001b[1;33m,\u001b[0m \u001b[1;33m**\u001b[0m\u001b[0mpasskwargs\u001b[0m\u001b[1;33m)\u001b[0m\u001b[1;33m\u001b[0m\u001b[1;33m\u001b[0m\u001b[0m\n\u001b[0;32m     86\u001b[0m \u001b[1;33m\u001b[0m\u001b[0m\n\u001b[1;32m---> 87\u001b[1;33m     \u001b[1;32mreturn\u001b[0m \u001b[0mufunc\u001b[0m\u001b[1;33m.\u001b[0m\u001b[0mreduce\u001b[0m\u001b[1;33m(\u001b[0m\u001b[0mobj\u001b[0m\u001b[1;33m,\u001b[0m \u001b[0maxis\u001b[0m\u001b[1;33m,\u001b[0m \u001b[0mdtype\u001b[0m\u001b[1;33m,\u001b[0m \u001b[0mout\u001b[0m\u001b[1;33m,\u001b[0m \u001b[1;33m**\u001b[0m\u001b[0mpasskwargs\u001b[0m\u001b[1;33m)\u001b[0m\u001b[1;33m\u001b[0m\u001b[1;33m\u001b[0m\u001b[0m\n\u001b[0m\u001b[0;32m     88\u001b[0m \u001b[1;33m\u001b[0m\u001b[0m\n\u001b[0;32m     89\u001b[0m \u001b[1;33m\u001b[0m\u001b[0m\n",
      "\u001b[1;31mValueError\u001b[0m: zero-size array to reduction operation maximum which has no identity"
     ]
    }
   ],
   "source": [
    "'''get result'''\n",
    "\n",
    "yield_map_rain = aez.getEstimatedYieldRainfed()\n",
    "yield_map_irr = aez.getEstimatedYieldIrrigated()\n",
    "\n",
    "starting_date = aez.getOptimumCycleStartDate()\n",
    "\n",
    "## get classified output\n",
    "yield_map_rain_class = obj_utilities.classifyFinalYield(yield_map_rain)\n",
    "yield_map_irr_class = obj_utilities.classifyFinalYield(yield_map_irr)"
   ]
  },
  {
   "cell_type": "code",
   "execution_count": 17,
   "metadata": {},
   "outputs": [
    {
     "data": {
      "image/png": "[encoded data removed]",
      "text/plain": [
       "<Figure size 432x288 with 2 Axes>"
      ]
     },
     "metadata": {
      "needs_background": "light"
     },
     "output_type": "display_data"
    },
    {
     "data": {
      "image/png": "[encoded data removed]",
      "text/plain": [
       "<Figure size 432x288 with 2 Axes>"
      ]
     },
     "metadata": {
      "needs_background": "light"
     },
     "output_type": "display_data"
    },
    {
     "data": {
      "image/png": "[encoded data removed]",
      "text/plain": [
       "<Figure size 432x288 with 2 Axes>"
      ]
     },
     "metadata": {
      "needs_background": "light"
     },
     "output_type": "display_data"
    },
    {
     "ename": "NameError",
     "evalue": "name 'yield_map_rain_class' is not defined",
     "output_type": "error",
     "traceback": [
      "\u001b[1;31m---------------------------------------------------------------------------\u001b[0m",
      "\u001b[1;31mNameError\u001b[0m                                 Traceback (most recent call last)",
      "\u001b[1;32m<ipython-input-17-50a67723e273>\u001b[0m in \u001b[0;36m<module>\u001b[1;34m\u001b[0m\n\u001b[0;32m     12\u001b[0m \u001b[0mplt\u001b[0m\u001b[1;33m.\u001b[0m\u001b[0mshow\u001b[0m\u001b[1;33m(\u001b[0m\u001b[1;33m)\u001b[0m\u001b[1;33m\u001b[0m\u001b[1;33m\u001b[0m\u001b[0m\n\u001b[0;32m     13\u001b[0m \u001b[1;33m\u001b[0m\u001b[0m\n\u001b[1;32m---> 14\u001b[1;33m \u001b[0mplt\u001b[0m\u001b[1;33m.\u001b[0m\u001b[0mimshow\u001b[0m\u001b[1;33m(\u001b[0m\u001b[0myield_map_rain_class\u001b[0m\u001b[1;33m)\u001b[0m\u001b[1;33m\u001b[0m\u001b[1;33m\u001b[0m\u001b[0m\n\u001b[0m\u001b[0;32m     15\u001b[0m \u001b[0mplt\u001b[0m\u001b[1;33m.\u001b[0m\u001b[0mcolorbar\u001b[0m\u001b[1;33m(\u001b[0m\u001b[1;33m)\u001b[0m\u001b[1;33m\u001b[0m\u001b[1;33m\u001b[0m\u001b[0m\n\u001b[0;32m     16\u001b[0m \u001b[0mplt\u001b[0m\u001b[1;33m.\u001b[0m\u001b[0mshow\u001b[0m\u001b[1;33m(\u001b[0m\u001b[1;33m)\u001b[0m\u001b[1;33m\u001b[0m\u001b[1;33m\u001b[0m\u001b[0m\n",
      "\u001b[1;31mNameError\u001b[0m: name 'yield_map_rain_class' is not defined"
     ]
    }
   ],
   "source": [
    "'''visualize result'''\n",
    "\n",
    "plt.imshow(yield_map_rain)\n",
    "plt.colorbar()\n",
    "plt.show()\n",
    "plt.imshow(yield_map_irr)\n",
    "plt.colorbar()\n",
    "plt.show()\n",
    "\n",
    "plt.imshow(starting_date)\n",
    "plt.colorbar()\n",
    "plt.show()\n",
    "\n",
    "plt.imshow(yield_map_rain_class)\n",
    "plt.colorbar()\n",
    "plt.show()\n",
    "plt.imshow(yield_map_irr_class)\n",
    "plt.colorbar()\n",
    "plt.show()"
   ]
  },
  {
   "cell_type": "code",
   "execution_count": 18,
   "metadata": {},
   "outputs": [],
   "source": [
    "# '''save result'''\n",
    "\n",
    "# obj_utilities.saveRaster('./sample_data/input/LAO_Admin.tif', './sample_data/output/NB2/CropSuitability_rain.tif', yield_map_rain)\n",
    "# obj_utilities.saveRaster('./sample_data/input/LAO_Admin.tif', './sample_data/output/NB2/CropSuitability_irr.tif', yield_map_irr)\n",
    "\n",
    "# obj_utilities.saveRaster('./sample_data/input/LAO_Admin.tif', './sample_data/output/NB2/Starting_date.tif', starting_date)\n",
    "\n",
    "# obj_utilities.saveRaster('./sample_data/input/LAO_Admin.tif', './sample_data/output/NB2/CropSuitability_rain_class.tif',yield_map_rain_class)\n",
    "# obj_utilities.saveRaster('./sample_data/input/LAO_Admin.tif', './sample_data/output/NB2/CropSuitability_irr_class.tif',yield_map_irr_class)"
   ]
  },
  {
   "cell_type": "code",
   "execution_count": null,
   "metadata": {},
   "outputs": [],
   "source": []
  }
 ],
 "metadata": {
  "interpreter": {
   "hash": "3f07821bb9fe1e0360398debefb2a2218e5266a2fc8dcd92cc711352c4ab1f1b"
  },
  "kernelspec": {
   "display_name": "Python 3",
   "language": "python",
   "name": "python3"
  },
  "language_info": {
   "codemirror_mode": {
    "name": "ipython",
    "version": 3
   },
   "file_extension": ".py",
   "mimetype": "text/x-python",
   "name": "python",
   "nbconvert_exporter": "python",
   "pygments_lexer": "ipython3",
   "version": "3.8.8"
  }
 },
 "nbformat": 4,
 "nbformat_minor": 2
}
