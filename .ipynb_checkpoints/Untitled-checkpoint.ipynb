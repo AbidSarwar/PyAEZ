{
 "cells": [
  {
   "cell_type": "code",
   "execution_count": 1,
   "id": "fabb30a3",
   "metadata": {},
   "outputs": [
    {
     "name": "stdout",
     "output_type": "stream",
     "text": [
      "D:\\3. Py-AEZ\\PyAEZ\n"
     ]
    }
   ],
   "source": [
    "import numpy as np\n",
    "import matplotlib.pyplot as plt\n",
    "import imageio\n",
    "\n",
    "import sys\n",
    "import os\n",
    "print(os.getcwd())"
   ]
  },
  {
   "cell_type": "code",
   "execution_count": 2,
   "id": "6d37774e",
   "metadata": {},
   "outputs": [],
   "source": [
    "os.chdir(r'D:\\3. Py-AEZ\\PyAEZ\\code' )\n",
    "import ClimaticConstraints\n",
    "obj_constraints = ClimaticConstraints.ClimaticConstraints()\n",
    "\n",
    "import UtilitiesCalc\n",
    "obj_utilities = UtilitiesCalc.UtilitiesCalc()"
   ]
  },
  {
   "cell_type": "code",
   "execution_count": 3,
   "id": "cfa6af9a",
   "metadata": {},
   "outputs": [],
   "source": [
    "lgp_equv = imageio.imread(r'D:/3. Py-AEZ/PyAEZ/sample_data/output/NB1/LGPEquivalent.tif');\n",
    "\n",
    "lgp = imageio.imread(r'D:/3. Py-AEZ/PyAEZ/sample_data/output/NB1/LGP.tif');\n",
    "\n",
    "yield_map_rain = imageio.imread(r'D:/3. Py-AEZ/PyAEZ/sample_data/output/NB2/CropSuitability_rain.tif');\n",
    "yield_map_irr = imageio.imread(r'D:/3. Py-AEZ/PyAEZ/sample_data/output/NB2/CropSuitability_irr.tif');"
   ]
  },
  {
   "cell_type": "code",
   "execution_count": 4,
   "id": "5f430b52",
   "metadata": {},
   "outputs": [
    {
     "ename": "ValueError",
     "evalue": "File is not a recognized excel file",
     "output_type": "error",
     "traceback": [
      "\u001b[1;31m---------------------------------------------------------------------------\u001b[0m",
      "\u001b[1;31mValueError\u001b[0m                                Traceback (most recent call last)",
      "\u001b[1;32m<ipython-input-4-7a270cdb8264>\u001b[0m in \u001b[0;36m<module>\u001b[1;34m\u001b[0m\n\u001b[0;32m      2\u001b[0m \u001b[0mpath\u001b[0m\u001b[1;33m=\u001b[0m \u001b[1;34mr'D:\\3. Py-AEZ\\PyAEZ\\sample_data\\input\\Reduction_factor.csv'\u001b[0m\u001b[1;33m\u001b[0m\u001b[1;33m\u001b[0m\u001b[0m\n\u001b[0;32m      3\u001b[0m \u001b[1;33m\u001b[0m\u001b[0m\n\u001b[1;32m----> 4\u001b[1;33m \u001b[0myield_map_rain_m3\u001b[0m \u001b[1;33m=\u001b[0m \u001b[0mobj_constraints\u001b[0m\u001b[1;33m.\u001b[0m\u001b[0mapplyClimaticConstraints\u001b[0m\u001b[1;33m(\u001b[0m\u001b[0mlgp_equv\u001b[0m\u001b[1;33m,\u001b[0m \u001b[0myield_map_rain\u001b[0m\u001b[1;33m,\u001b[0m \u001b[1;34m'R'\u001b[0m\u001b[1;33m,\u001b[0m \u001b[0mlgp\u001b[0m\u001b[1;33m,\u001b[0m \u001b[0mpath\u001b[0m\u001b[1;33m)\u001b[0m \u001b[1;31m# I: Irrigated, R: Rain-fed\u001b[0m\u001b[1;33m\u001b[0m\u001b[1;33m\u001b[0m\u001b[0m\n\u001b[0m\u001b[0;32m      5\u001b[0m \u001b[0myield_map_irr_m3\u001b[0m \u001b[1;33m=\u001b[0m \u001b[0mobj_constraints\u001b[0m\u001b[1;33m.\u001b[0m\u001b[0mapplyClimaticConstraints\u001b[0m\u001b[1;33m(\u001b[0m\u001b[0mlgp_equv\u001b[0m\u001b[1;33m,\u001b[0m \u001b[0myield_map_irr\u001b[0m\u001b[1;33m,\u001b[0m \u001b[1;34m'I'\u001b[0m\u001b[1;33m)\u001b[0m \u001b[1;31m# I: Irrigated, R: Rain-fed\u001b[0m\u001b[1;33m\u001b[0m\u001b[1;33m\u001b[0m\u001b[0m\n\u001b[0;32m      6\u001b[0m \u001b[1;33m\u001b[0m\u001b[0m\n",
      "\u001b[1;32mD:\\3. Py-AEZ\\PyAEZ\\code\\ClimaticConstraints.py\u001b[0m in \u001b[0;36mapplyClimaticConstraints\u001b[1;34m(self, lgp_eq, yield_in, irr_or_rain, lgp, path)\u001b[0m\n\u001b[0;32m     25\u001b[0m         \u001b[0mLGPagc\u001b[0m \u001b[1;33m=\u001b[0m \u001b[0mnp\u001b[0m\u001b[1;33m.\u001b[0m\u001b[0mempty\u001b[0m\u001b[1;33m(\u001b[0m\u001b[0mshape\u001b[0m\u001b[1;33m=\u001b[0m\u001b[1;33m(\u001b[0m\u001b[0mheight\u001b[0m\u001b[1;33m,\u001b[0m\u001b[0mwidth\u001b[0m\u001b[1;33m)\u001b[0m\u001b[1;33m)\u001b[0m\u001b[1;33m\u001b[0m\u001b[1;33m\u001b[0m\u001b[0m\n\u001b[0;32m     26\u001b[0m \u001b[1;33m\u001b[0m\u001b[0m\n\u001b[1;32m---> 27\u001b[1;33m         \u001b[0mcsv\u001b[0m \u001b[1;33m=\u001b[0m \u001b[0mpd\u001b[0m\u001b[1;33m.\u001b[0m\u001b[0mExcelFile\u001b[0m\u001b[1;33m(\u001b[0m\u001b[0mpath\u001b[0m\u001b[1;33m)\u001b[0m\u001b[1;33m\u001b[0m\u001b[1;33m\u001b[0m\u001b[0m\n\u001b[0m\u001b[0;32m     28\u001b[0m         \u001b[0mirr\u001b[0m \u001b[1;33m=\u001b[0m \u001b[0mpd\u001b[0m\u001b[1;33m.\u001b[0m\u001b[0mread_csv\u001b[0m\u001b[1;33m(\u001b[0m\u001b[0mcsv\u001b[0m\u001b[1;33m,\u001b[0m \u001b[1;34m'irrigation'\u001b[0m\u001b[1;33m)\u001b[0m\u001b[1;33m\u001b[0m\u001b[1;33m\u001b[0m\u001b[0m\n\u001b[0;32m     29\u001b[0m         \u001b[0mRain\u001b[0m \u001b[1;33m=\u001b[0m \u001b[0mpd\u001b[0m\u001b[1;33m.\u001b[0m\u001b[0mread_excel\u001b[0m\u001b[1;33m(\u001b[0m\u001b[0mcsv\u001b[0m\u001b[1;33m,\u001b[0m \u001b[1;34m'Rain'\u001b[0m\u001b[1;33m)\u001b[0m\u001b[1;33m\u001b[0m\u001b[1;33m\u001b[0m\u001b[0m\n",
      "\u001b[1;32m~\\anaconda3\\envs\\env\\lib\\site-packages\\pandas\\io\\excel\\_base.py\u001b[0m in \u001b[0;36m__init__\u001b[1;34m(self, path_or_buffer, engine, storage_options)\u001b[0m\n\u001b[0;32m   1069\u001b[0m                 \u001b[0mext\u001b[0m \u001b[1;33m=\u001b[0m \u001b[1;34m\"xls\"\u001b[0m\u001b[1;33m\u001b[0m\u001b[1;33m\u001b[0m\u001b[0m\n\u001b[0;32m   1070\u001b[0m             \u001b[1;32melse\u001b[0m\u001b[1;33m:\u001b[0m\u001b[1;33m\u001b[0m\u001b[1;33m\u001b[0m\u001b[0m\n\u001b[1;32m-> 1071\u001b[1;33m                 ext = inspect_excel_format(\n\u001b[0m\u001b[0;32m   1072\u001b[0m                     \u001b[0mcontent\u001b[0m\u001b[1;33m=\u001b[0m\u001b[0mpath_or_buffer\u001b[0m\u001b[1;33m,\u001b[0m \u001b[0mstorage_options\u001b[0m\u001b[1;33m=\u001b[0m\u001b[0mstorage_options\u001b[0m\u001b[1;33m\u001b[0m\u001b[1;33m\u001b[0m\u001b[0m\n\u001b[0;32m   1073\u001b[0m                 )\n",
      "\u001b[1;32m~\\anaconda3\\envs\\env\\lib\\site-packages\\pandas\\io\\excel\\_base.py\u001b[0m in \u001b[0;36minspect_excel_format\u001b[1;34m(path, content, storage_options)\u001b[0m\n\u001b[0;32m    963\u001b[0m             \u001b[1;32mreturn\u001b[0m \u001b[1;34m\"xls\"\u001b[0m\u001b[1;33m\u001b[0m\u001b[1;33m\u001b[0m\u001b[0m\n\u001b[0;32m    964\u001b[0m         \u001b[1;32melif\u001b[0m \u001b[1;32mnot\u001b[0m \u001b[0mpeek\u001b[0m\u001b[1;33m.\u001b[0m\u001b[0mstartswith\u001b[0m\u001b[1;33m(\u001b[0m\u001b[0mZIP_SIGNATURE\u001b[0m\u001b[1;33m)\u001b[0m\u001b[1;33m:\u001b[0m\u001b[1;33m\u001b[0m\u001b[1;33m\u001b[0m\u001b[0m\n\u001b[1;32m--> 965\u001b[1;33m             \u001b[1;32mraise\u001b[0m \u001b[0mValueError\u001b[0m\u001b[1;33m(\u001b[0m\u001b[1;34m\"File is not a recognized excel file\"\u001b[0m\u001b[1;33m)\u001b[0m\u001b[1;33m\u001b[0m\u001b[1;33m\u001b[0m\u001b[0m\n\u001b[0m\u001b[0;32m    966\u001b[0m \u001b[1;33m\u001b[0m\u001b[0m\n\u001b[0;32m    967\u001b[0m         \u001b[1;31m# ZipFile typing is overly-strict\u001b[0m\u001b[1;33m\u001b[0m\u001b[1;33m\u001b[0m\u001b[1;33m\u001b[0m\u001b[0m\n",
      "\u001b[1;31mValueError\u001b[0m: File is not a recognized excel file"
     ]
    }
   ],
   "source": [
    "'''applying climate constraints'''\n",
    "path= r'D:\\3. Py-AEZ\\PyAEZ\\sample_data\\input\\Reduction_factor.xlsx'\n",
    "\n",
    "yield_map_rain_m3 = obj_constraints.applyClimaticConstraints(lgp_equv, yield_map_rain, 'R', lgp, path) # I: Irrigated, R: Rain-fed\n",
    "yield_map_irr_m3 = obj_constraints.applyClimaticConstraints(lgp_equv, yield_map_irr, 'I') # I: Irrigated, R: Rain-fed\n",
    "\n",
    "## get classified output\n",
    "yield_map_rain_class_m3 = obj_utilities.classifyFinalYield(yield_map_rain_m3)\n",
    "yield_map_irr_class_m3 = obj_utilities.classifyFinalYield(yield_map_irr_m3)"
   ]
  },
  {
   "cell_type": "code",
   "execution_count": null,
   "id": "357f89a8",
   "metadata": {},
   "outputs": [],
   "source": [
    "print(lgp.shape[1])"
   ]
  },
  {
   "cell_type": "code",
   "execution_count": null,
   "id": "bc250df6",
   "metadata": {},
   "outputs": [],
   "source": [
    "max(120, 330)"
   ]
  },
  {
   "cell_type": "code",
   "execution_count": null,
   "id": "e3769b3c",
   "metadata": {},
   "outputs": [],
   "source": []
  }
 ],
 "metadata": {
  "kernelspec": {
   "display_name": "Python 3",
   "language": "python",
   "name": "python3"
  },
  "language_info": {
   "codemirror_mode": {
    "name": "ipython",
    "version": 3
   },
   "file_extension": ".py",
   "mimetype": "text/x-python",
   "name": "python",
   "nbconvert_exporter": "python",
   "pygments_lexer": "ipython3",
   "version": "3.8.8"
  }
 },
 "nbformat": 4,
 "nbformat_minor": 5
}
