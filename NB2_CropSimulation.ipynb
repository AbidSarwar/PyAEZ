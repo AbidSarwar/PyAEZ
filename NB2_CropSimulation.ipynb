{
 "cells": [
  {
   "cell_type": "markdown",
   "metadata": {},
   "source": [
    "<br>"
   ]
  },
  {
   "cell_type": "markdown",
   "metadata": {},
   "source": [
    "# Notebook II - Crop Simulation\n",
    "\n",
    "<hr>\n",
    "<hr>"
   ]
  },
  {
   "cell_type": "markdown",
   "metadata": {},
   "source": [
    "## Importing Libraries"
   ]
  },
  {
   "cell_type": "code",
   "execution_count": 1,
   "metadata": {},
   "outputs": [],
   "source": [
    "'''import supporting libraries'''\n",
    "\n",
    "import numpy as np\n",
    "import matplotlib.pyplot as plt\n",
    "import imageio\n",
    "\n",
    "import sys\n",
    "sys.path.append('./code/') # add path to source code directory"
   ]
  },
  {
   "cell_type": "markdown",
   "metadata": {},
   "source": [
    "## Reading Data"
   ]
  },
  {
   "cell_type": "code",
   "execution_count": null,
   "metadata": {},
   "outputs": [
    {
     "ename": "",
     "evalue": "",
     "output_type": "error",
     "traceback": [
      "\u001b[1;31mError: The kernel died. View Jupyter <a href='command:jupyter.viewOutput'>log</a> for further details. \n",
      "Error: Traceback (most recent call last):\r\n",
      "  File \"C:\\Users\\Administrator\\anaconda3\\envs\\envi\\lib\\runpy.py\", line 194, in _run_module_as_main\r\n",
      "    return _run_code(code, main_globals, None,\r\n",
      "  File \"C:\\Users\\Administrator\\anaconda3\\envs\\envi\\lib\\runpy.py\", line 87, in _run_code\r\n",
      "    exec(code, run_globals)\r\n",
      "  File \"C:\\Users\\Administrator\\anaconda3\\envs\\envi\\lib\\site-packages\\ipykernel_launcher.py\", line 15, in <module>\r\n",
      "    from ipykernel import kernelapp as app\r\n",
      "  File \"C:\\Users\\Administrator\\anaconda3\\envs\\envi\\lib\\site-packages\\ipykernel\\__init__.py\", line 2, in <module>\r\n",
      "    from .connect import *\r\n",
      "  File \"C:\\Users\\Administrator\\anaconda3\\envs\\envi\\lib\\site-packages\\ipykernel\\connect.py\", line 18, in <module>\r\n",
      "    import jupyter_client\r\n",
      "  File \"C:\\Users\\Administrator\\anaconda3\\envs\\envi\\lib\\site-packages\\jupyter_client\\__init__.py\", line 4, in <module>\r\n",
      "    from .connect import *\r\n",
      "  File \"C:\\Users\\Administrator\\anaconda3\\envs\\envi\\lib\\site-packages\\jupyter_client\\connect.py\", line 21, in <module>\r\n",
      "    import zmq\r\n",
      "  File \"C:\\Users\\Administrator\\anaconda3\\envs\\envi\\lib\\site-packages\\zmq\\__init__.py\", line 55, in <module>\r\n",
      "    from zmq import backend\r\n",
      "  File \"C:\\Users\\Administrator\\anaconda3\\envs\\envi\\lib\\site-packages\\zmq\\backend\\__init__.py\", line 40, in <module>\r\n",
      "    reraise(*exc_info)\r\n",
      "  File \"C:\\Users\\Administrator\\anaconda3\\envs\\envi\\lib\\site-packages\\zmq\\utils\\sixcerpt.py\", line 34, in reraise\r\n",
      "    raise value\r\n",
      "  File \"C:\\Users\\Administrator\\anaconda3\\envs\\envi\\lib\\site-packages\\zmq\\backend\\__init__.py\", line 27, in <module>\r\n",
      "    _ns = select_backend(first)\r\n",
      "  File \"C:\\Users\\Administrator\\anaconda3\\envs\\envi\\lib\\site-packages\\zmq\\backend\\select.py\", line 28, in select_backend\r\n",
      "    mod = __import__(name, fromlist=public_api)\r\n",
      "  File \"C:\\Users\\Administrator\\anaconda3\\envs\\envi\\lib\\site-packages\\zmq\\backend\\cython\\__init__.py\", line 6, in <module>\r\n",
      "    from . import (constants, error, message, context,\r\n",
      "ImportError: DLL load failed while importing error: The specified module could not be found...."
     ]
    }
   ],
   "source": [
    "'''reading climate data'''\n",
    "\n",
    "min_temp = np.load('./sample_data/input/climate/min_temp.npy') # Celcius\n",
    "max_temp = np.load('./sample_data/input/climate/max_temp.npy') # Celcius\n",
    "precipitation = np.load('./sample_data/input/climate/precipitation.npy') # mm / day\n",
    "short_rad = np.load('./sample_data/input/climate/short_rad.npy') # W/m^2\n",
    "wind_speed = np.load('./sample_data/input/climate/wind_speed.npy') # m/s\n",
    "rel_humidity = np.load('./sample_data/input/climate/relative_humidity.npy') # Fraction, and assumed as a constant 0.70"
   ]
  },
  {
   "cell_type": "code",
   "execution_count": null,
   "metadata": {},
   "outputs": [
    {
     "ename": "",
     "evalue": "",
     "output_type": "error",
     "traceback": [
      "\u001b[1;31mError: The kernel died. View Jupyter <a href='command:jupyter.viewOutput'>log</a> for further details. \n",
      "Error: Traceback (most recent call last):\r\n",
      "  File \"C:\\Users\\Administrator\\anaconda3\\envs\\envi\\lib\\runpy.py\", line 194, in _run_module_as_main\r\n",
      "    return _run_code(code, main_globals, None,\r\n",
      "  File \"C:\\Users\\Administrator\\anaconda3\\envs\\envi\\lib\\runpy.py\", line 87, in _run_code\r\n",
      "    exec(code, run_globals)\r\n",
      "  File \"C:\\Users\\Administrator\\anaconda3\\envs\\envi\\lib\\site-packages\\ipykernel_launcher.py\", line 15, in <module>\r\n",
      "    from ipykernel import kernelapp as app\r\n",
      "  File \"C:\\Users\\Administrator\\anaconda3\\envs\\envi\\lib\\site-packages\\ipykernel\\__init__.py\", line 2, in <module>\r\n",
      "    from .connect import *\r\n",
      "  File \"C:\\Users\\Administrator\\anaconda3\\envs\\envi\\lib\\site-packages\\ipykernel\\connect.py\", line 18, in <module>\r\n",
      "    import jupyter_client\r\n",
      "  File \"C:\\Users\\Administrator\\anaconda3\\envs\\envi\\lib\\site-packages\\jupyter_client\\__init__.py\", line 4, in <module>\r\n",
      "    from .connect import *\r\n",
      "  File \"C:\\Users\\Administrator\\anaconda3\\envs\\envi\\lib\\site-packages\\jupyter_client\\connect.py\", line 21, in <module>\r\n",
      "    import zmq\r\n",
      "  File \"C:\\Users\\Administrator\\anaconda3\\envs\\envi\\lib\\site-packages\\zmq\\__init__.py\", line 55, in <module>\r\n",
      "    from zmq import backend\r\n",
      "  File \"C:\\Users\\Administrator\\anaconda3\\envs\\envi\\lib\\site-packages\\zmq\\backend\\__init__.py\", line 40, in <module>\r\n",
      "    reraise(*exc_info)\r\n",
      "  File \"C:\\Users\\Administrator\\anaconda3\\envs\\envi\\lib\\site-packages\\zmq\\utils\\sixcerpt.py\", line 34, in reraise\r\n",
      "    raise value\r\n",
      "  File \"C:\\Users\\Administrator\\anaconda3\\envs\\envi\\lib\\site-packages\\zmq\\backend\\__init__.py\", line 27, in <module>\r\n",
      "    _ns = select_backend(first)\r\n",
      "  File \"C:\\Users\\Administrator\\anaconda3\\envs\\envi\\lib\\site-packages\\zmq\\backend\\select.py\", line 28, in select_backend\r\n",
      "    mod = __import__(name, fromlist=public_api)\r\n",
      "  File \"C:\\Users\\Administrator\\anaconda3\\envs\\envi\\lib\\site-packages\\zmq\\backend\\cython\\__init__.py\", line 6, in <module>\r\n",
      "    from . import (constants, error, message, context,\r\n",
      "ImportError: DLL load failed while importing error: The specified module could not be found...."
     ]
    }
   ],
   "source": [
    "'''reading study area and elevation data'''\n",
    "\n",
    "# admin_mask = imageio.imread('./sample_data/input/LAO_Admin.tif');\n",
    "# srtm_elevation = imageio.imread('./sample_data/input/SRTM_Elevation.tif'); # m\n",
    "\n",
    "admin_mask = np.load('./sample_data/input/LAO_Admin.npy');\n",
    "srtm_elevation = np.load('./sample_data/input/SRTM_Elevation.npy'); # m"
   ]
  },
  {
   "cell_type": "markdown",
   "metadata": {},
   "source": [
    "## Crop Simulation"
   ]
  },
  {
   "cell_type": "code",
   "execution_count": null,
   "metadata": {},
   "outputs": [
    {
     "ename": "",
     "evalue": "",
     "output_type": "error",
     "traceback": [
      "\u001b[1;31mError: The kernel died. View Jupyter <a href='command:jupyter.viewOutput'>log</a> for further details. \n",
      "Error: Traceback (most recent call last):\r\n",
      "  File \"C:\\Users\\Administrator\\anaconda3\\envs\\envi\\lib\\runpy.py\", line 194, in _run_module_as_main\r\n",
      "    return _run_code(code, main_globals, None,\r\n",
      "  File \"C:\\Users\\Administrator\\anaconda3\\envs\\envi\\lib\\runpy.py\", line 87, in _run_code\r\n",
      "    exec(code, run_globals)\r\n",
      "  File \"C:\\Users\\Administrator\\anaconda3\\envs\\envi\\lib\\site-packages\\ipykernel_launcher.py\", line 15, in <module>\r\n",
      "    from ipykernel import kernelapp as app\r\n",
      "  File \"C:\\Users\\Administrator\\anaconda3\\envs\\envi\\lib\\site-packages\\ipykernel\\__init__.py\", line 2, in <module>\r\n",
      "    from .connect import *\r\n",
      "  File \"C:\\Users\\Administrator\\anaconda3\\envs\\envi\\lib\\site-packages\\ipykernel\\connect.py\", line 18, in <module>\r\n",
      "    import jupyter_client\r\n",
      "  File \"C:\\Users\\Administrator\\anaconda3\\envs\\envi\\lib\\site-packages\\jupyter_client\\__init__.py\", line 4, in <module>\r\n",
      "    from .connect import *\r\n",
      "  File \"C:\\Users\\Administrator\\anaconda3\\envs\\envi\\lib\\site-packages\\jupyter_client\\connect.py\", line 21, in <module>\r\n",
      "    import zmq\r\n",
      "  File \"C:\\Users\\Administrator\\anaconda3\\envs\\envi\\lib\\site-packages\\zmq\\__init__.py\", line 55, in <module>\r\n",
      "    from zmq import backend\r\n",
      "  File \"C:\\Users\\Administrator\\anaconda3\\envs\\envi\\lib\\site-packages\\zmq\\backend\\__init__.py\", line 40, in <module>\r\n",
      "    reraise(*exc_info)\r\n",
      "  File \"C:\\Users\\Administrator\\anaconda3\\envs\\envi\\lib\\site-packages\\zmq\\utils\\sixcerpt.py\", line 34, in reraise\r\n",
      "    raise value\r\n",
      "  File \"C:\\Users\\Administrator\\anaconda3\\envs\\envi\\lib\\site-packages\\zmq\\backend\\__init__.py\", line 27, in <module>\r\n",
      "    _ns = select_backend(first)\r\n",
      "  File \"C:\\Users\\Administrator\\anaconda3\\envs\\envi\\lib\\site-packages\\zmq\\backend\\select.py\", line 28, in select_backend\r\n",
      "    mod = __import__(name, fromlist=public_api)\r\n",
      "  File \"C:\\Users\\Administrator\\anaconda3\\envs\\envi\\lib\\site-packages\\zmq\\backend\\cython\\__init__.py\", line 6, in <module>\r\n",
      "    from . import (constants, error, message, context,\r\n",
      "ImportError: DLL load failed while importing error: The specified module could not be found...."
     ]
    }
   ],
   "source": [
    "'''importing library'''\n",
    "\n",
    "import CropSimulation\n",
    "aez = CropSimulation.CropSimulation()\n",
    "\n",
    "import UtilitiesCalc\n",
    "obj_utilities = UtilitiesCalc.UtilitiesCalc()"
   ]
  },
  {
   "cell_type": "code",
   "execution_count": null,
   "metadata": {
    "scrolled": false
   },
   "outputs": [
    {
     "ename": "",
     "evalue": "",
     "output_type": "error",
     "traceback": [
      "\u001b[1;31mError: The kernel died. View Jupyter <a href='command:jupyter.viewOutput'>log</a> for further details. \n",
      "Error: Traceback (most recent call last):\r\n",
      "  File \"C:\\Users\\Administrator\\anaconda3\\envs\\envi\\lib\\runpy.py\", line 194, in _run_module_as_main\r\n",
      "    return _run_code(code, main_globals, None,\r\n",
      "  File \"C:\\Users\\Administrator\\anaconda3\\envs\\envi\\lib\\runpy.py\", line 87, in _run_code\r\n",
      "    exec(code, run_globals)\r\n",
      "  File \"C:\\Users\\Administrator\\anaconda3\\envs\\envi\\lib\\site-packages\\ipykernel_launcher.py\", line 15, in <module>\r\n",
      "    from ipykernel import kernelapp as app\r\n",
      "  File \"C:\\Users\\Administrator\\anaconda3\\envs\\envi\\lib\\site-packages\\ipykernel\\__init__.py\", line 2, in <module>\r\n",
      "    from .connect import *\r\n",
      "  File \"C:\\Users\\Administrator\\anaconda3\\envs\\envi\\lib\\site-packages\\ipykernel\\connect.py\", line 18, in <module>\r\n",
      "    import jupyter_client\r\n",
      "  File \"C:\\Users\\Administrator\\anaconda3\\envs\\envi\\lib\\site-packages\\jupyter_client\\__init__.py\", line 4, in <module>\r\n",
      "    from .connect import *\r\n",
      "  File \"C:\\Users\\Administrator\\anaconda3\\envs\\envi\\lib\\site-packages\\jupyter_client\\connect.py\", line 21, in <module>\r\n",
      "    import zmq\r\n",
      "  File \"C:\\Users\\Administrator\\anaconda3\\envs\\envi\\lib\\site-packages\\zmq\\__init__.py\", line 55, in <module>\r\n",
      "    from zmq import backend\r\n",
      "  File \"C:\\Users\\Administrator\\anaconda3\\envs\\envi\\lib\\site-packages\\zmq\\backend\\__init__.py\", line 40, in <module>\r\n",
      "    reraise(*exc_info)\r\n",
      "  File \"C:\\Users\\Administrator\\anaconda3\\envs\\envi\\lib\\site-packages\\zmq\\utils\\sixcerpt.py\", line 34, in reraise\r\n",
      "    raise value\r\n",
      "  File \"C:\\Users\\Administrator\\anaconda3\\envs\\envi\\lib\\site-packages\\zmq\\backend\\__init__.py\", line 27, in <module>\r\n",
      "    _ns = select_backend(first)\r\n",
      "  File \"C:\\Users\\Administrator\\anaconda3\\envs\\envi\\lib\\site-packages\\zmq\\backend\\select.py\", line 28, in select_backend\r\n",
      "    mod = __import__(name, fromlist=public_api)\r\n",
      "  File \"C:\\Users\\Administrator\\anaconda3\\envs\\envi\\lib\\site-packages\\zmq\\backend\\cython\\__init__.py\", line 6, in <module>\r\n",
      "    from . import (constants, error, message, context,\r\n",
      "ImportError: DLL load failed while importing error: The specified module could not be found...."
     ]
    }
   ],
   "source": [
    "'''setting input data'''\n",
    "\n",
    "# latitude limits of the study area\n",
    "lat_min = 13.90\n",
    "lat_max = 22.51\n",
    "\n",
    "aez.setMonthlyClimateData(min_temp, max_temp, precipitation, short_rad, wind_speed, rel_humidity)\n",
    "aez.setLocationTerrainData(lat_min=lat_min, lat_max=lat_max, elevation=srtm_elevation)\n",
    "aez.setStudyAreaMask(admin_mask=admin_mask, no_data_value=0)\n",
    "\n",
    "# aez.setCropParameters(LAI=4, HI=0.4, legume=0, adaptability=2, cycle_len=105, D1=0.75, D2=0.75)\n",
    "# aez.setCropCycleParameters(stage_per=[10, 30, 30, 30], kc=[1.1, 1.2, 1], kc_all=1.1, yloss_f=[1, 2, 2.5, 1], yloss_f_all=2)\n",
    "aez.setCropParametersFromCSV(r\"./sample_data/input/crop_parameter.csv\", 'Wheat', 'L')\n",
    "\"Run the following code if the crop is perennial\"\n",
    "#aez.adjustmentParameterPerennial( 'D:/3. Py-AEZ/PyAEZ/sample_data/input/Adjustment_factors_for_perennial.csv')\n",
    "\n",
    "aez.setSoilWaterParameters(Sa=100*np.ones((admin_mask.shape)), pc=0.5)"
   ]
  },
  {
   "cell_type": "code",
   "execution_count": null,
   "metadata": {},
   "outputs": [
    {
     "ename": "",
     "evalue": "",
     "output_type": "error",
     "traceback": [
      "\u001b[1;31mError: The kernel died. View Jupyter <a href='command:jupyter.viewOutput'>log</a> for further details. \n",
      "Error: Traceback (most recent call last):\r\n",
      "  File \"C:\\Users\\Administrator\\anaconda3\\envs\\envi\\lib\\runpy.py\", line 194, in _run_module_as_main\r\n",
      "    return _run_code(code, main_globals, None,\r\n",
      "  File \"C:\\Users\\Administrator\\anaconda3\\envs\\envi\\lib\\runpy.py\", line 87, in _run_code\r\n",
      "    exec(code, run_globals)\r\n",
      "  File \"C:\\Users\\Administrator\\anaconda3\\envs\\envi\\lib\\site-packages\\ipykernel_launcher.py\", line 15, in <module>\r\n",
      "    from ipykernel import kernelapp as app\r\n",
      "  File \"C:\\Users\\Administrator\\anaconda3\\envs\\envi\\lib\\site-packages\\ipykernel\\__init__.py\", line 2, in <module>\r\n",
      "    from .connect import *\r\n",
      "  File \"C:\\Users\\Administrator\\anaconda3\\envs\\envi\\lib\\site-packages\\ipykernel\\connect.py\", line 18, in <module>\r\n",
      "    import jupyter_client\r\n",
      "  File \"C:\\Users\\Administrator\\anaconda3\\envs\\envi\\lib\\site-packages\\jupyter_client\\__init__.py\", line 4, in <module>\r\n",
      "    from .connect import *\r\n",
      "  File \"C:\\Users\\Administrator\\anaconda3\\envs\\envi\\lib\\site-packages\\jupyter_client\\connect.py\", line 21, in <module>\r\n",
      "    import zmq\r\n",
      "  File \"C:\\Users\\Administrator\\anaconda3\\envs\\envi\\lib\\site-packages\\zmq\\__init__.py\", line 55, in <module>\r\n",
      "    from zmq import backend\r\n",
      "  File \"C:\\Users\\Administrator\\anaconda3\\envs\\envi\\lib\\site-packages\\zmq\\backend\\__init__.py\", line 40, in <module>\r\n",
      "    reraise(*exc_info)\r\n",
      "  File \"C:\\Users\\Administrator\\anaconda3\\envs\\envi\\lib\\site-packages\\zmq\\utils\\sixcerpt.py\", line 34, in reraise\r\n",
      "    raise value\r\n",
      "  File \"C:\\Users\\Administrator\\anaconda3\\envs\\envi\\lib\\site-packages\\zmq\\backend\\__init__.py\", line 27, in <module>\r\n",
      "    _ns = select_backend(first)\r\n",
      "  File \"C:\\Users\\Administrator\\anaconda3\\envs\\envi\\lib\\site-packages\\zmq\\backend\\select.py\", line 28, in select_backend\r\n",
      "    mod = __import__(name, fromlist=public_api)\r\n",
      "  File \"C:\\Users\\Administrator\\anaconda3\\envs\\envi\\lib\\site-packages\\zmq\\backend\\cython\\__init__.py\", line 6, in <module>\r\n",
      "    from . import (constants, error, message, context,\r\n",
      "ImportError: DLL load failed while importing error: The specified module could not be found...."
     ]
    }
   ],
   "source": [
    "'''setting study area, climate screening (optional)'''\n",
    "\n",
    "# aez.setStudyAreaMask(admin_mask=admin_mask, no_data_value=0)\n",
    "\n",
    "tclimate = imageio.imread(r'./sample_data/output/NB1/ThermalClimate1.tif');\n",
    "aez.setThermalClimateScreening(tclimate, [1,2])\n",
    "\n",
    "# user has to select a csv file, containing thermal rules\n",
    "# use below function to set thermal rules\n",
    "# must be given a csv file with thermal rules to continue\n",
    "\n",
    "aez.ReadThermalScreeningRulesFromCSV(r\"./sample_data/input/thermalScreeningRules.csv\")\n",
    "\n"
   ]
  },
  {
   "cell_type": "code",
   "execution_count": null,
   "metadata": {
    "scrolled": true
   },
   "outputs": [
    {
     "ename": "",
     "evalue": "",
     "output_type": "error",
     "traceback": [
      "\u001b[1;31mError: The kernel died. View Jupyter <a href='command:jupyter.viewOutput'>log</a> for further details. \n",
      "Error: Traceback (most recent call last):\r\n",
      "  File \"C:\\Users\\Administrator\\anaconda3\\envs\\envi\\lib\\runpy.py\", line 194, in _run_module_as_main\r\n",
      "    return _run_code(code, main_globals, None,\r\n",
      "  File \"C:\\Users\\Administrator\\anaconda3\\envs\\envi\\lib\\runpy.py\", line 87, in _run_code\r\n",
      "    exec(code, run_globals)\r\n",
      "  File \"C:\\Users\\Administrator\\anaconda3\\envs\\envi\\lib\\site-packages\\ipykernel_launcher.py\", line 15, in <module>\r\n",
      "    from ipykernel import kernelapp as app\r\n",
      "  File \"C:\\Users\\Administrator\\anaconda3\\envs\\envi\\lib\\site-packages\\ipykernel\\__init__.py\", line 2, in <module>\r\n",
      "    from .connect import *\r\n",
      "  File \"C:\\Users\\Administrator\\anaconda3\\envs\\envi\\lib\\site-packages\\ipykernel\\connect.py\", line 18, in <module>\r\n",
      "    import jupyter_client\r\n",
      "  File \"C:\\Users\\Administrator\\anaconda3\\envs\\envi\\lib\\site-packages\\jupyter_client\\__init__.py\", line 4, in <module>\r\n",
      "    from .connect import *\r\n",
      "  File \"C:\\Users\\Administrator\\anaconda3\\envs\\envi\\lib\\site-packages\\jupyter_client\\connect.py\", line 21, in <module>\r\n",
      "    import zmq\r\n",
      "  File \"C:\\Users\\Administrator\\anaconda3\\envs\\envi\\lib\\site-packages\\zmq\\__init__.py\", line 55, in <module>\r\n",
      "    from zmq import backend\r\n",
      "  File \"C:\\Users\\Administrator\\anaconda3\\envs\\envi\\lib\\site-packages\\zmq\\backend\\__init__.py\", line 40, in <module>\r\n",
      "    reraise(*exc_info)\r\n",
      "  File \"C:\\Users\\Administrator\\anaconda3\\envs\\envi\\lib\\site-packages\\zmq\\utils\\sixcerpt.py\", line 34, in reraise\r\n",
      "    raise value\r\n",
      "  File \"C:\\Users\\Administrator\\anaconda3\\envs\\envi\\lib\\site-packages\\zmq\\backend\\__init__.py\", line 27, in <module>\r\n",
      "    _ns = select_backend(first)\r\n",
      "  File \"C:\\Users\\Administrator\\anaconda3\\envs\\envi\\lib\\site-packages\\zmq\\backend\\select.py\", line 28, in select_backend\r\n",
      "    mod = __import__(name, fromlist=public_api)\r\n",
      "  File \"C:\\Users\\Administrator\\anaconda3\\envs\\envi\\lib\\site-packages\\zmq\\backend\\cython\\__init__.py\", line 6, in <module>\r\n",
      "    from . import (constants, error, message, context,\r\n",
      "ImportError: DLL load failed while importing error: The specified module could not be found...."
     ]
    }
   ],
   "source": [
    "'''run simulations'''\n",
    "\n",
    "aez.simulateCropCycle( start_doy=1, end_doy=365, step_doy=4, leap_year=False) # results are in kg / hectare"
   ]
  },
  {
   "cell_type": "code",
   "execution_count": null,
   "metadata": {},
   "outputs": [
    {
     "ename": "",
     "evalue": "",
     "output_type": "error",
     "traceback": [
      "\u001b[1;31mError: The kernel died. View Jupyter <a href='command:jupyter.viewOutput'>log</a> for further details. \n",
      "Error: Traceback (most recent call last):\r\n",
      "  File \"C:\\Users\\Administrator\\anaconda3\\envs\\envi\\lib\\runpy.py\", line 194, in _run_module_as_main\r\n",
      "    return _run_code(code, main_globals, None,\r\n",
      "  File \"C:\\Users\\Administrator\\anaconda3\\envs\\envi\\lib\\runpy.py\", line 87, in _run_code\r\n",
      "    exec(code, run_globals)\r\n",
      "  File \"C:\\Users\\Administrator\\anaconda3\\envs\\envi\\lib\\site-packages\\ipykernel_launcher.py\", line 15, in <module>\r\n",
      "    from ipykernel import kernelapp as app\r\n",
      "  File \"C:\\Users\\Administrator\\anaconda3\\envs\\envi\\lib\\site-packages\\ipykernel\\__init__.py\", line 2, in <module>\r\n",
      "    from .connect import *\r\n",
      "  File \"C:\\Users\\Administrator\\anaconda3\\envs\\envi\\lib\\site-packages\\ipykernel\\connect.py\", line 18, in <module>\r\n",
      "    import jupyter_client\r\n",
      "  File \"C:\\Users\\Administrator\\anaconda3\\envs\\envi\\lib\\site-packages\\jupyter_client\\__init__.py\", line 4, in <module>\r\n",
      "    from .connect import *\r\n",
      "  File \"C:\\Users\\Administrator\\anaconda3\\envs\\envi\\lib\\site-packages\\jupyter_client\\connect.py\", line 21, in <module>\r\n",
      "    import zmq\r\n",
      "  File \"C:\\Users\\Administrator\\anaconda3\\envs\\envi\\lib\\site-packages\\zmq\\__init__.py\", line 55, in <module>\r\n",
      "    from zmq import backend\r\n",
      "  File \"C:\\Users\\Administrator\\anaconda3\\envs\\envi\\lib\\site-packages\\zmq\\backend\\__init__.py\", line 40, in <module>\r\n",
      "    reraise(*exc_info)\r\n",
      "  File \"C:\\Users\\Administrator\\anaconda3\\envs\\envi\\lib\\site-packages\\zmq\\utils\\sixcerpt.py\", line 34, in reraise\r\n",
      "    raise value\r\n",
      "  File \"C:\\Users\\Administrator\\anaconda3\\envs\\envi\\lib\\site-packages\\zmq\\backend\\__init__.py\", line 27, in <module>\r\n",
      "    _ns = select_backend(first)\r\n",
      "  File \"C:\\Users\\Administrator\\anaconda3\\envs\\envi\\lib\\site-packages\\zmq\\backend\\select.py\", line 28, in select_backend\r\n",
      "    mod = __import__(name, fromlist=public_api)\r\n",
      "  File \"C:\\Users\\Administrator\\anaconda3\\envs\\envi\\lib\\site-packages\\zmq\\backend\\cython\\__init__.py\", line 6, in <module>\r\n",
      "    from . import (constants, error, message, context,\r\n",
      "ImportError: DLL load failed while importing error: The specified module could not be found...."
     ]
    }
   ],
   "source": [
    "'''get result'''\n",
    "\n",
    "yield_map_rain = aez.getEstimatedYieldRainfed()\n",
    "yield_map_irr = aez.getEstimatedYieldIrrigated()\n",
    "\n",
    "starting_date = aez.getOptimumCycleStartDate()\n",
    "\n",
    "## get classified output\n",
    "yield_map_rain_class = obj_utilities.classifyFinalYield(yield_map_rain)\n",
    "yield_map_irr_class = obj_utilities.classifyFinalYield(yield_map_irr)"
   ]
  },
  {
   "cell_type": "code",
   "execution_count": null,
   "metadata": {},
   "outputs": [
    {
     "ename": "",
     "evalue": "",
     "output_type": "error",
     "traceback": [
      "\u001b[1;31mError: The kernel died. View Jupyter <a href='command:jupyter.viewOutput'>log</a> for further details. \n",
      "Error: Traceback (most recent call last):\r\n",
      "  File \"C:\\Users\\Administrator\\anaconda3\\envs\\envi\\lib\\runpy.py\", line 194, in _run_module_as_main\r\n",
      "    return _run_code(code, main_globals, None,\r\n",
      "  File \"C:\\Users\\Administrator\\anaconda3\\envs\\envi\\lib\\runpy.py\", line 87, in _run_code\r\n",
      "    exec(code, run_globals)\r\n",
      "  File \"C:\\Users\\Administrator\\anaconda3\\envs\\envi\\lib\\site-packages\\ipykernel_launcher.py\", line 15, in <module>\r\n",
      "    from ipykernel import kernelapp as app\r\n",
      "  File \"C:\\Users\\Administrator\\anaconda3\\envs\\envi\\lib\\site-packages\\ipykernel\\__init__.py\", line 2, in <module>\r\n",
      "    from .connect import *\r\n",
      "  File \"C:\\Users\\Administrator\\anaconda3\\envs\\envi\\lib\\site-packages\\ipykernel\\connect.py\", line 18, in <module>\r\n",
      "    import jupyter_client\r\n",
      "  File \"C:\\Users\\Administrator\\anaconda3\\envs\\envi\\lib\\site-packages\\jupyter_client\\__init__.py\", line 4, in <module>\r\n",
      "    from .connect import *\r\n",
      "  File \"C:\\Users\\Administrator\\anaconda3\\envs\\envi\\lib\\site-packages\\jupyter_client\\connect.py\", line 21, in <module>\r\n",
      "    import zmq\r\n",
      "  File \"C:\\Users\\Administrator\\anaconda3\\envs\\envi\\lib\\site-packages\\zmq\\__init__.py\", line 55, in <module>\r\n",
      "    from zmq import backend\r\n",
      "  File \"C:\\Users\\Administrator\\anaconda3\\envs\\envi\\lib\\site-packages\\zmq\\backend\\__init__.py\", line 40, in <module>\r\n",
      "    reraise(*exc_info)\r\n",
      "  File \"C:\\Users\\Administrator\\anaconda3\\envs\\envi\\lib\\site-packages\\zmq\\utils\\sixcerpt.py\", line 34, in reraise\r\n",
      "    raise value\r\n",
      "  File \"C:\\Users\\Administrator\\anaconda3\\envs\\envi\\lib\\site-packages\\zmq\\backend\\__init__.py\", line 27, in <module>\r\n",
      "    _ns = select_backend(first)\r\n",
      "  File \"C:\\Users\\Administrator\\anaconda3\\envs\\envi\\lib\\site-packages\\zmq\\backend\\select.py\", line 28, in select_backend\r\n",
      "    mod = __import__(name, fromlist=public_api)\r\n",
      "  File \"C:\\Users\\Administrator\\anaconda3\\envs\\envi\\lib\\site-packages\\zmq\\backend\\cython\\__init__.py\", line 6, in <module>\r\n",
      "    from . import (constants, error, message, context,\r\n",
      "ImportError: DLL load failed while importing error: The specified module could not be found...."
     ]
    }
   ],
   "source": [
    "'''visualize result'''\n",
    "\n",
    "plt.imshow(yield_map_rain)\n",
    "plt.colorbar()\n",
    "plt.show()\n",
    "plt.imshow(yield_map_irr)\n",
    "plt.colorbar()\n",
    "plt.show()\n",
    "\n",
    "plt.imshow(starting_date)\n",
    "plt.colorbar()\n",
    "plt.show()\n",
    "\n",
    "plt.imshow(yield_map_rain_class)\n",
    "plt.colorbar()\n",
    "plt.show()\n",
    "plt.imshow(yield_map_irr_class)\n",
    "plt.colorbar()\n",
    "plt.show()"
   ]
  },
  {
   "cell_type": "code",
   "execution_count": null,
   "metadata": {},
   "outputs": [
    {
     "ename": "",
     "evalue": "",
     "output_type": "error",
     "traceback": [
      "\u001b[1;31mError: The kernel died. View Jupyter <a href='command:jupyter.viewOutput'>log</a> for further details. \n",
      "Error: Traceback (most recent call last):\r\n",
      "  File \"C:\\Users\\Administrator\\anaconda3\\envs\\envi\\lib\\runpy.py\", line 194, in _run_module_as_main\r\n",
      "    return _run_code(code, main_globals, None,\r\n",
      "  File \"C:\\Users\\Administrator\\anaconda3\\envs\\envi\\lib\\runpy.py\", line 87, in _run_code\r\n",
      "    exec(code, run_globals)\r\n",
      "  File \"C:\\Users\\Administrator\\anaconda3\\envs\\envi\\lib\\site-packages\\ipykernel_launcher.py\", line 15, in <module>\r\n",
      "    from ipykernel import kernelapp as app\r\n",
      "  File \"C:\\Users\\Administrator\\anaconda3\\envs\\envi\\lib\\site-packages\\ipykernel\\__init__.py\", line 2, in <module>\r\n",
      "    from .connect import *\r\n",
      "  File \"C:\\Users\\Administrator\\anaconda3\\envs\\envi\\lib\\site-packages\\ipykernel\\connect.py\", line 18, in <module>\r\n",
      "    import jupyter_client\r\n",
      "  File \"C:\\Users\\Administrator\\anaconda3\\envs\\envi\\lib\\site-packages\\jupyter_client\\__init__.py\", line 4, in <module>\r\n",
      "    from .connect import *\r\n",
      "  File \"C:\\Users\\Administrator\\anaconda3\\envs\\envi\\lib\\site-packages\\jupyter_client\\connect.py\", line 21, in <module>\r\n",
      "    import zmq\r\n",
      "  File \"C:\\Users\\Administrator\\anaconda3\\envs\\envi\\lib\\site-packages\\zmq\\__init__.py\", line 55, in <module>\r\n",
      "    from zmq import backend\r\n",
      "  File \"C:\\Users\\Administrator\\anaconda3\\envs\\envi\\lib\\site-packages\\zmq\\backend\\__init__.py\", line 40, in <module>\r\n",
      "    reraise(*exc_info)\r\n",
      "  File \"C:\\Users\\Administrator\\anaconda3\\envs\\envi\\lib\\site-packages\\zmq\\utils\\sixcerpt.py\", line 34, in reraise\r\n",
      "    raise value\r\n",
      "  File \"C:\\Users\\Administrator\\anaconda3\\envs\\envi\\lib\\site-packages\\zmq\\backend\\__init__.py\", line 27, in <module>\r\n",
      "    _ns = select_backend(first)\r\n",
      "  File \"C:\\Users\\Administrator\\anaconda3\\envs\\envi\\lib\\site-packages\\zmq\\backend\\select.py\", line 28, in select_backend\r\n",
      "    mod = __import__(name, fromlist=public_api)\r\n",
      "  File \"C:\\Users\\Administrator\\anaconda3\\envs\\envi\\lib\\site-packages\\zmq\\backend\\cython\\__init__.py\", line 6, in <module>\r\n",
      "    from . import (constants, error, message, context,\r\n",
      "ImportError: DLL load failed while importing error: The specified module could not be found...."
     ]
    }
   ],
   "source": [
    "# '''save result'''\n",
    "\n",
    " obj_utilities.saveRaster('./sample_data/input/LAO_Admin.tif', './sample_data/output/NB2/CropSuitability_rain.tif', yield_map_rain)\n",
    "# obj_utilities.saveRaster('./sample_data/input/LAO_Admin.tif', './sample_data/output/NB2/CropSuitability_irr.tif', yield_map_irr)\n",
    "\n",
    "# obj_utilities.saveRaster('./sample_data/input/LAO_Admin.tif', './sample_data/output/NB2/Starting_date.tif', starting_date)\n",
    "\n",
    "# obj_utilities.saveRaster('./sample_data/input/LAO_Admin.tif', './sample_data/output/NB2/CropSuitability_rain_class.tif',yield_map_rain_class)\n",
    "# obj_utilities.saveRaster('./sample_data/input/LAO_Admin.tif', './sample_data/output/NB2/CropSuitability_irr_class.tif',yield_map_irr_class)"
   ]
  },
  {
   "cell_type": "code",
   "execution_count": null,
   "metadata": {},
   "outputs": [
    {
     "ename": "",
     "evalue": "",
     "output_type": "error",
     "traceback": [
      "\u001b[1;31mError: The kernel died. View Jupyter <a href='command:jupyter.viewOutput'>log</a> for further details. \n",
      "Error: Traceback (most recent call last):\r\n",
      "  File \"C:\\Users\\Administrator\\anaconda3\\envs\\envi\\lib\\runpy.py\", line 194, in _run_module_as_main\r\n",
      "    return _run_code(code, main_globals, None,\r\n",
      "  File \"C:\\Users\\Administrator\\anaconda3\\envs\\envi\\lib\\runpy.py\", line 87, in _run_code\r\n",
      "    exec(code, run_globals)\r\n",
      "  File \"C:\\Users\\Administrator\\anaconda3\\envs\\envi\\lib\\site-packages\\ipykernel_launcher.py\", line 15, in <module>\r\n",
      "    from ipykernel import kernelapp as app\r\n",
      "  File \"C:\\Users\\Administrator\\anaconda3\\envs\\envi\\lib\\site-packages\\ipykernel\\__init__.py\", line 2, in <module>\r\n",
      "    from .connect import *\r\n",
      "  File \"C:\\Users\\Administrator\\anaconda3\\envs\\envi\\lib\\site-packages\\ipykernel\\connect.py\", line 18, in <module>\r\n",
      "    import jupyter_client\r\n",
      "  File \"C:\\Users\\Administrator\\anaconda3\\envs\\envi\\lib\\site-packages\\jupyter_client\\__init__.py\", line 4, in <module>\r\n",
      "    from .connect import *\r\n",
      "  File \"C:\\Users\\Administrator\\anaconda3\\envs\\envi\\lib\\site-packages\\jupyter_client\\connect.py\", line 21, in <module>\r\n",
      "    import zmq\r\n",
      "  File \"C:\\Users\\Administrator\\anaconda3\\envs\\envi\\lib\\site-packages\\zmq\\__init__.py\", line 55, in <module>\r\n",
      "    from zmq import backend\r\n",
      "  File \"C:\\Users\\Administrator\\anaconda3\\envs\\envi\\lib\\site-packages\\zmq\\backend\\__init__.py\", line 40, in <module>\r\n",
      "    reraise(*exc_info)\r\n",
      "  File \"C:\\Users\\Administrator\\anaconda3\\envs\\envi\\lib\\site-packages\\zmq\\utils\\sixcerpt.py\", line 34, in reraise\r\n",
      "    raise value\r\n",
      "  File \"C:\\Users\\Administrator\\anaconda3\\envs\\envi\\lib\\site-packages\\zmq\\backend\\__init__.py\", line 27, in <module>\r\n",
      "    _ns = select_backend(first)\r\n",
      "  File \"C:\\Users\\Administrator\\anaconda3\\envs\\envi\\lib\\site-packages\\zmq\\backend\\select.py\", line 28, in select_backend\r\n",
      "    mod = __import__(name, fromlist=public_api)\r\n",
      "  File \"C:\\Users\\Administrator\\anaconda3\\envs\\envi\\lib\\site-packages\\zmq\\backend\\cython\\__init__.py\", line 6, in <module>\r\n",
      "    from . import (constants, error, message, context,\r\n",
      "ImportError: DLL load failed while importing error: The specified module could not be found...."
     ]
    }
   ],
   "source": [
    "'''Re[0] = thermal screening reduction factor, Re[1]= waterlimit'''\n",
    "Re= aez.getreductionFactor()\n",
    "obj_utilities.saveRaster('./sample_data/input_5/LAO_Admin.tif', './sample_data/output/Reduction Factor/F1.tif',Re[0])\n",
    "obj_utilities.saveRaster('./sample_data/input_5/LAO_Admin.tif', './sample_data/output/Reduction Factor/F2.tif',Re[1])"
   ]
  },
  {
   "cell_type": "code",
   "execution_count": null,
   "metadata": {},
   "outputs": [
    {
     "ename": "",
     "evalue": "",
     "output_type": "error",
     "traceback": [
      "\u001b[1;31mError: The kernel died. View Jupyter <a href='command:jupyter.viewOutput'>log</a> for further details. \n",
      "Error: Traceback (most recent call last):\r\n",
      "  File \"C:\\Users\\Administrator\\anaconda3\\envs\\envi\\lib\\runpy.py\", line 194, in _run_module_as_main\r\n",
      "    return _run_code(code, main_globals, None,\r\n",
      "  File \"C:\\Users\\Administrator\\anaconda3\\envs\\envi\\lib\\runpy.py\", line 87, in _run_code\r\n",
      "    exec(code, run_globals)\r\n",
      "  File \"C:\\Users\\Administrator\\anaconda3\\envs\\envi\\lib\\site-packages\\ipykernel_launcher.py\", line 15, in <module>\r\n",
      "    from ipykernel import kernelapp as app\r\n",
      "  File \"C:\\Users\\Administrator\\anaconda3\\envs\\envi\\lib\\site-packages\\ipykernel\\__init__.py\", line 2, in <module>\r\n",
      "    from .connect import *\r\n",
      "  File \"C:\\Users\\Administrator\\anaconda3\\envs\\envi\\lib\\site-packages\\ipykernel\\connect.py\", line 18, in <module>\r\n",
      "    import jupyter_client\r\n",
      "  File \"C:\\Users\\Administrator\\anaconda3\\envs\\envi\\lib\\site-packages\\jupyter_client\\__init__.py\", line 4, in <module>\r\n",
      "    from .connect import *\r\n",
      "  File \"C:\\Users\\Administrator\\anaconda3\\envs\\envi\\lib\\site-packages\\jupyter_client\\connect.py\", line 21, in <module>\r\n",
      "    import zmq\r\n",
      "  File \"C:\\Users\\Administrator\\anaconda3\\envs\\envi\\lib\\site-packages\\zmq\\__init__.py\", line 55, in <module>\r\n",
      "    from zmq import backend\r\n",
      "  File \"C:\\Users\\Administrator\\anaconda3\\envs\\envi\\lib\\site-packages\\zmq\\backend\\__init__.py\", line 40, in <module>\r\n",
      "    reraise(*exc_info)\r\n",
      "  File \"C:\\Users\\Administrator\\anaconda3\\envs\\envi\\lib\\site-packages\\zmq\\utils\\sixcerpt.py\", line 34, in reraise\r\n",
      "    raise value\r\n",
      "  File \"C:\\Users\\Administrator\\anaconda3\\envs\\envi\\lib\\site-packages\\zmq\\backend\\__init__.py\", line 27, in <module>\r\n",
      "    _ns = select_backend(first)\r\n",
      "  File \"C:\\Users\\Administrator\\anaconda3\\envs\\envi\\lib\\site-packages\\zmq\\backend\\select.py\", line 28, in select_backend\r\n",
      "    mod = __import__(name, fromlist=public_api)\r\n",
      "  File \"C:\\Users\\Administrator\\anaconda3\\envs\\envi\\lib\\site-packages\\zmq\\backend\\cython\\__init__.py\", line 6, in <module>\r\n",
      "    from . import (constants, error, message, context,\r\n",
      "ImportError: DLL load failed while importing error: The specified module could not be found...."
     ]
    }
   ],
   "source": [
    "ETMap= aez.getEtocandEtcMap()\n",
    "\"\"\"ETMap[0]= 3D ETo array and ETMap[1]= 3D ETc array  \"\"\"\n",
    "np.save(\"D:/3. Py-AEZ/PyAEZ/sample_data/output/NB2/ETO.npy\",EToMap[0])\n",
    "np.save(\"D:/3. Py-AEZ/PyAEZ/sample_data/output/NB2/ETc.npy\",EToMap[1])"
   ]
  }
 ],
 "metadata": {
  "interpreter": {
   "hash": "fa9489abf449d62ccb581dc800a81c0e857bb034d28986d29b5f6ba7cc13dad2"
  },
  "kernelspec": {
   "display_name": "envi",
   "language": "python",
   "name": "envi"
  },
  "language_info": {
   "codemirror_mode": {
    "name": "ipython",
    "version": 3
   },
   "file_extension": ".py",
   "mimetype": "text/x-python",
   "name": "python",
   "nbconvert_exporter": "python",
   "pygments_lexer": "ipython3",
   "version": "3.8.5"
  }
 },
 "nbformat": 4,
 "nbformat_minor": 2
}
