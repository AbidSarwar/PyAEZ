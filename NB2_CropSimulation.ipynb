{
 "cells": [
  {
   "cell_type": "markdown",
   "source": [
    "<br>"
   ],
   "metadata": {}
  },
  {
   "cell_type": "markdown",
   "source": [
    "# Notebook II - Crop Simulation\n",
    "\n",
    "<hr>\n",
    "<hr>"
   ],
   "metadata": {}
  },
  {
   "cell_type": "markdown",
   "source": [
    "## Importing Libraries"
   ],
   "metadata": {}
  },
  {
   "cell_type": "code",
   "execution_count": 1,
   "source": [
    "'''import supporting libraries'''\n",
    "\n",
    "import numpy as np\n",
    "import matplotlib.pyplot as plt\n",
    "import imageio\n",
    "\n",
    "import sys\n",
    "sys.path.append('./code/') # add path to source code directory"
   ],
   "outputs": [],
   "metadata": {}
  },
  {
   "cell_type": "markdown",
   "source": [
    "## Reading Data"
   ],
   "metadata": {}
  },
  {
   "cell_type": "code",
   "execution_count": 2,
   "source": [
    "'''reading climate data'''\n",
    "\n",
    "min_temp = np.load('./sample_data/input/climate/min_temp.npy') # Celcius\n",
    "max_temp = np.load('./sample_data/input/climate/max_temp.npy') # Celcius\n",
    "precipitation = np.load('./sample_data/input/climate/precipitation.npy') # mm / day\n",
    "short_rad = np.load('./sample_data/input/climate/short_rad.npy') # W/m^2\n",
    "wind_speed = np.load('./sample_data/input/climate/wind_speed.npy') # m/s\n",
    "rel_humidity = np.load('./sample_data/input/climate/relative_humidity.npy') # Fraction, and assumed as a constant 0.70"
   ],
   "outputs": [],
   "metadata": {}
  },
  {
   "cell_type": "code",
   "execution_count": 3,
   "source": [
    "'''reading study area and elevation data'''\n",
    "\n",
    "# admin_mask = imageio.imread('./sample_data/input/LAO_Admin.tif');\n",
    "# srtm_elevation = imageio.imread('./sample_data/input/SRTM_Elevation.tif'); # m\n",
    "\n",
    "admin_mask = np.load('./sample_data/input/LAO_Admin.npy');\n",
    "srtm_elevation = np.load('./sample_data/input/SRTM_Elevation.npy'); # m"
   ],
   "outputs": [],
   "metadata": {}
  },
  {
   "cell_type": "markdown",
   "source": [
    "## Crop Simulation"
   ],
   "metadata": {}
  },
  {
   "cell_type": "code",
   "execution_count": 4,
   "source": [
    "'''importing library'''\n",
    "\n",
    "import CropSimulation\n",
    "aez = CropSimulation.CropSimulation()\n",
    "\n",
    "import UtilitiesCalc\n",
    "obj_utilities = UtilitiesCalc.UtilitiesCalc()"
   ],
   "outputs": [],
   "metadata": {}
  },
  {
   "cell_type": "code",
   "execution_count": 5,
   "source": [
    "'''setting input data'''\r\n",
    "\r\n",
    "# latitude limits of the study area\r\n",
    "lat_min = 13.90\r\n",
    "lat_max = 22.51\r\n",
    "\r\n",
    "aez.setMonthlyClimateData(min_temp, max_temp, precipitation, short_rad, wind_speed, rel_humidity)\r\n",
    "aez.setLocationTerrainData(lat_min=lat_min, lat_max=lat_max, elevation=srtm_elevation)\r\n",
    "aez.setStudyAreaMask(admin_mask=admin_mask, no_data_value=0)\r\n",
    "\r\n",
    "# aez.setCropParameters(LAI=4, HI=0.4, legume=0, adaptability=2, cycle_len=105, D1=0.75, D2=0.75)\r\n",
    "# aez.setCropCycleParameters(stage_per=[10, 30, 30, 30], kc=[1.1, 1.2, 1], kc_all=1.1, yloss_f=[1, 2, 2.5, 1], yloss_f_all=2)\r\n",
    "aez.setCropParametersFromCSV(r\"./sample_data/input/crop_parameter.csv\", 'Wheat', 'L')\r\n",
    "#aez.setCropParametersFromCSV('./sample_data/input/Crop_parameters.csv', 'Rice', is_perennial=False)\r\n",
    "\r\n",
    "aez.setSoilWaterParameters(Sa=100*np.ones((admin_mask.shape)), pc=0.5)"
   ],
   "outputs": [
    {
     "output_type": "stream",
     "name": "stdout",
     "text": [
      "index: 2\n",
      "0.75\n"
     ]
    }
   ],
   "metadata": {
    "scrolled": false
   }
  },
  {
   "cell_type": "code",
   "execution_count": 6,
   "source": [
    "'''setting study area, climate screening (optional)'''\r\n",
    "\r\n",
    "# aez.setStudyAreaMask(admin_mask=admin_mask, no_data_value=0)\r\n",
    "\r\n",
    "tclimate = imageio.imread(r'./sample_data/output/NB1/ThermalClimate1.tif');\r\n",
    "aez.setThermalClimateScreening(tclimate, [1,2])\r\n",
    "\r\n",
    "# user has to select a csv file, containing thermal rules\r\n",
    "# use below function to set thermal rules\r\n",
    "# must be given a csv file with thermal rules to continue\r\n",
    "\r\n",
    "aez.ReadThermalScreeningRulesFromCSV(r\"./sample_data/input/thermalScreeningRules.csv\")\r\n",
    "\r\n"
   ],
   "outputs": [],
   "metadata": {}
  },
  {
   "cell_type": "code",
   "execution_count": 7,
   "source": [
    "'''run simulations'''\r\n",
    "\r\n",
    "aez.simulateCropCycle( start_doy=1, end_doy=365, step_doy=4, leap_year=False) # results are in kg / hectare"
   ],
   "outputs": [
    {
     "output_type": "stream",
     "name": "stdout",
     "text": [
      "Done: 0 %\n",
      "Done: 0 %\n",
      "Done: 0 %\n",
      "Done: 1 %\n",
      "Done: 2 %\n",
      "Done: 3 %\n",
      "Done: 5 %\n",
      "Done: 7 %\n",
      "Done: 10 %\n",
      "Done: 15 %\n",
      "Done: 20 %\n",
      "Done: 25 %\n",
      "Done: 30 %\n",
      "Done: 34 %\n",
      "Done: 39 %\n",
      "Done: 42 %\n",
      "Done: 45 %\n",
      "Done: 48 %\n",
      "Done: 52 %\n",
      "Done: 57 %\n",
      "Done: 61 %\n",
      "Done: 64 %\n",
      "Done: 66 %\n",
      "Done: 68 %\n",
      "Done: 69 %\n",
      "Done: 71 %\n",
      "Done: 73 %\n",
      "Done: 74 %\n",
      "Done: 76 %\n",
      "Done: 79 %\n",
      "Done: 81 %\n",
      "Done: 84 %\n",
      "Done: 85 %\n",
      "Done: 87 %\n",
      "Done: 90 %\n",
      "Done: 92 %\n",
      "Done: 95 %\n",
      "Done: 97 %\n",
      "Done: 98 %\n",
      "Done: 99 %\n",
      "Simulations Completed !\n"
     ]
    }
   ],
   "metadata": {
    "scrolled": true
   }
  },
  {
   "cell_type": "code",
   "execution_count": 8,
   "source": [
    "'''get result'''\n",
    "\n",
    "yield_map_rain = aez.getEstimatedYieldRainfed()\n",
    "yield_map_irr = aez.getEstimatedYieldIrrigated()\n",
    "\n",
    "starting_date = aez.getOptimumCycleStartDate()\n",
    "\n",
    "## get classified output\n",
    "yield_map_rain_class = obj_utilities.classifyFinalYield(yield_map_rain)\n",
    "yield_map_irr_class = obj_utilities.classifyFinalYield(yield_map_irr)"
   ],
   "outputs": [],
   "metadata": {}
  },
  {
   "cell_type": "code",
   "execution_count": 9,
   "source": [
    "'''visualize result'''\r\n",
    "\r\n",
    "plt.imshow(yield_map_rain)\r\n",
    "plt.colorbar()\r\n",
    "plt.show()\r\n",
    "plt.imshow(yield_map_irr)\r\n",
    "plt.colorbar()\r\n",
    "plt.show()\r\n",
    "\r\n",
    "plt.imshow(starting_date)\r\n",
    "plt.colorbar()\r\n",
    "plt.show()\r\n",
    "\r\n",
    "plt.imshow(yield_map_rain_class)\r\n",
    "plt.colorbar()\r\n",
    "plt.show()\r\n",
    "plt.imshow(yield_map_irr_class)\r\n",
    "plt.colorbar()\r\n",
    "plt.show()"
   ],
   "outputs": [
    {
     "output_type": "display_data",
     "data": {
      "text/plain": [
       "<Figure size 432x288 with 2 Axes>"
      ],
      "image/png": "[encoded data removed]"
     },
     "metadata": {
      "needs_background": "light"
     }
    },
    {
     "output_type": "display_data",
     "data": {
      "text/plain": [
       "<Figure size 432x288 with 2 Axes>"
      ],
      "image/png": "[encoded data removed]"
     },
     "metadata": {
      "needs_background": "light"
     }
    },
    {
     "output_type": "display_data",
     "data": {
      "text/plain": [
       "<Figure size 432x288 with 2 Axes>"
      ],
      "image/png": "[encoded data removed]"
     },
     "metadata": {
      "needs_background": "light"
     }
    },
    {
     "output_type": "display_data",
     "data": {
      "text/plain": [
       "<Figure size 432x288 with 2 Axes>"
      ],
      "image/png": "[encoded data removed]"
     },
     "metadata": {
      "needs_background": "light"
     }
    },
    {
     "output_type": "display_data",
     "data": {
      "text/plain": [
       "<Figure size 432x288 with 2 Axes>"
      ],
      "image/png": "[encoded data removed]"
     },
     "metadata": {
      "needs_background": "light"
     }
    }
   ],
   "metadata": {}
  },
  {
   "cell_type": "code",
   "execution_count": 10,
   "source": [
    "# '''save result'''\n",
    "\n",
    " obj_utilities.saveRaster('./sample_data/input/LAO_Admin.tif', './sample_data/output/NB2/CropSuitability_rain.tif', yield_map_rain)\n",
    "# obj_utilities.saveRaster('./sample_data/input/LAO_Admin.tif', './sample_data/output/NB2/CropSuitability_irr.tif', yield_map_irr)\n",
    "\n",
    "# obj_utilities.saveRaster('./sample_data/input/LAO_Admin.tif', './sample_data/output/NB2/Starting_date.tif', starting_date)\n",
    "\n",
    "# obj_utilities.saveRaster('./sample_data/input/LAO_Admin.tif', './sample_data/output/NB2/CropSuitability_rain_class.tif',yield_map_rain_class)\n",
    "# obj_utilities.saveRaster('./sample_data/input/LAO_Admin.tif', './sample_data/output/NB2/CropSuitability_irr_class.tif',yield_map_irr_class)"
   ],
   "outputs": [],
   "metadata": {}
  },
  {
   "cell_type": "code",
   "execution_count": null,
   "source": [
    "'''Re[0] = thermal screening reduction factor, Re[1]= waterlimit'''\r\n",
    "Re= aez.getreductionFactor()\r\n",
    "obj_utilities.saveRaster('./sample_data/input_5/LAO_Admin.tif', './sample_data/output/Reduction Factor/F1.tif',Re[0])\r\n",
    "obj_utilities.saveRaster('./sample_data/input_5/LAO_Admin.tif', './sample_data/output/Reduction Factor/F12.tif',Re[1])"
   ],
   "outputs": [],
   "metadata": {}
  }
 ],
 "metadata": {
  "interpreter": {
   "hash": "fa9489abf449d62ccb581dc800a81c0e857bb034d28986d29b5f6ba7cc13dad2"
  },
  "kernelspec": {
   "name": "python3",
   "display_name": "Python 3.8.5 64-bit ('base': conda)"
  },
  "language_info": {
   "codemirror_mode": {
    "name": "ipython",
    "version": 3
   },
   "file_extension": ".py",
   "mimetype": "text/x-python",
   "name": "python",
   "nbconvert_exporter": "python",
   "pygments_lexer": "ipython3",
   "version": "3.8.5"
  }
 },
 "nbformat": 4,
 "nbformat_minor": 2
}