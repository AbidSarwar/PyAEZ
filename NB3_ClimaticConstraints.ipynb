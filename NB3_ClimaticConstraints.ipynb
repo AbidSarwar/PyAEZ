{
 "cells": [
  {
   "cell_type": "markdown",
   "metadata": {},
   "source": [
    "# Notebook III - Climatic Constraints\n",
    "\n",
    "<hr>\n",
    "<hr>"
   ]
  },
  {
   "cell_type": "markdown",
   "metadata": {},
   "source": [
    "## Importing Libraries"
   ]
  },
  {
   "cell_type": "code",
   "execution_count": 2,
   "metadata": {},
   "outputs": [],
   "source": [
    "'''import supporting libraries'''\n",
    "\n",
    "import numpy as np\n",
    "import matplotlib.pyplot as plt\n",
    "import imageio\n",
    "\n",
    "import sys\n",
    "sys.path.append('./code/') # add path to source code directory"
   ]
  },
  {
   "cell_type": "markdown",
   "metadata": {},
   "source": [
    "## Applying Climate Constraints"
   ]
  },
  {
   "cell_type": "code",
   "execution_count": 4,
   "metadata": {},
   "outputs": [],
   "source": [
    "'''importing library'''\n",
    "\n",
    "import ClimaticConstraints\n",
    "obj_constraints = ClimaticConstraints.ClimaticConstraints()\n",
    "\n",
    "import UtilitiesCalc\n",
    "obj_utilities = UtilitiesCalc.UtilitiesCalc()"
   ]
  },
  {
   "cell_type": "code",
   "execution_count": 5,
   "metadata": {},
   "outputs": [
    {
     "ename": "NameError",
     "evalue": "name 'imageio' is not defined",
     "output_type": "error",
     "traceback": [
      "\u001b[1;31m---------------------------------------------------------------------------\u001b[0m",
      "\u001b[1;31mNameError\u001b[0m                                 Traceback (most recent call last)",
      "\u001b[1;32m<ipython-input-5-0d92b7bfec9e>\u001b[0m in \u001b[0;36m<module>\u001b[1;34m\u001b[0m\n\u001b[0;32m      1\u001b[0m \u001b[1;34m'''Reading data'''\u001b[0m\u001b[1;33m\u001b[0m\u001b[1;33m\u001b[0m\u001b[0m\n\u001b[1;32m----> 2\u001b[1;33m \u001b[0mlgp_equv\u001b[0m \u001b[1;33m=\u001b[0m \u001b[0mimageio\u001b[0m\u001b[1;33m.\u001b[0m\u001b[0mimread\u001b[0m\u001b[1;33m(\u001b[0m\u001b[1;34mr'D:/3. Py-AEZ/PyAEZ/sample_data/output/NB1/LGPEquivalent.tif'\u001b[0m\u001b[1;33m)\u001b[0m\u001b[1;33m;\u001b[0m\u001b[1;33m\u001b[0m\u001b[1;33m\u001b[0m\u001b[0m\n\u001b[0m\u001b[0;32m      3\u001b[0m \u001b[1;33m\u001b[0m\u001b[0m\n\u001b[0;32m      4\u001b[0m \u001b[0mlgp\u001b[0m \u001b[1;33m=\u001b[0m \u001b[0mimageio\u001b[0m\u001b[1;33m.\u001b[0m\u001b[0mimread\u001b[0m\u001b[1;33m(\u001b[0m\u001b[1;34mr'D:/3. Py-AEZ/PyAEZ/sample_data/output/NB1/LGP.tif'\u001b[0m\u001b[1;33m)\u001b[0m\u001b[1;33m;\u001b[0m\u001b[1;33m\u001b[0m\u001b[1;33m\u001b[0m\u001b[0m\n\u001b[0;32m      5\u001b[0m \u001b[1;33m\u001b[0m\u001b[0m\n",
      "\u001b[1;31mNameError\u001b[0m: name 'imageio' is not defined"
     ]
    }
   ],
   "source": [
    "'''Reading data'''\n",
    "lgp_equv = imageio.imread('./sample_data/output/NB1/LGPEquivalent.tif');\n",
    "\n",
    "lgp = imageio.imread(r'./sample_data/output/NB1/LGP.tif');\n",
    "\n",
    "yield_map_rain = imageio.imread(r'./sample_data/output/NB2/CropSuitability_rain.tif');\n",
    "yield_map_irr = imageio.imread(r'./sample_data/output/NB2/CropSuitability_irr.tif');"
   ]
  },
  {
   "cell_type": "code",
   "execution_count": 5,
   "metadata": {},
   "outputs": [
    {
     "ename": "TypeError",
     "evalue": "applyClimaticConstraints() missing 2 required positional arguments: 'lgp' and 'path'",
     "output_type": "error",
     "traceback": [
      "\u001b[1;31m---------------------------------------------------------------------------\u001b[0m",
      "\u001b[1;31mTypeError\u001b[0m                                 Traceback (most recent call last)",
      "\u001b[1;32m<ipython-input-5-4ac309cd7dfe>\u001b[0m in \u001b[0;36m<module>\u001b[1;34m\u001b[0m\n\u001b[0;32m      1\u001b[0m \u001b[1;34m'''applying climate constraints'''\u001b[0m\u001b[1;33m\u001b[0m\u001b[1;33m\u001b[0m\u001b[0m\n\u001b[0;32m      2\u001b[0m \u001b[1;33m\u001b[0m\u001b[0m\n\u001b[1;32m----> 3\u001b[1;33m \u001b[0myield_map_rain_m3\u001b[0m \u001b[1;33m=\u001b[0m \u001b[0mobj_constraints\u001b[0m\u001b[1;33m.\u001b[0m\u001b[0mapplyClimaticConstraints\u001b[0m\u001b[1;33m(\u001b[0m\u001b[0mlgp_equv\u001b[0m\u001b[1;33m,\u001b[0m \u001b[0myield_map_rain\u001b[0m\u001b[1;33m,\u001b[0m \u001b[1;34m'R'\u001b[0m\u001b[1;33m)\u001b[0m \u001b[1;31m# I: Irrigated, R: Rain-fed\u001b[0m\u001b[1;33m\u001b[0m\u001b[1;33m\u001b[0m\u001b[0m\n\u001b[0m\u001b[0;32m      4\u001b[0m \u001b[0myield_map_irr_m3\u001b[0m \u001b[1;33m=\u001b[0m \u001b[0mobj_constraints\u001b[0m\u001b[1;33m.\u001b[0m\u001b[0mapplyClimaticConstraints\u001b[0m\u001b[1;33m(\u001b[0m\u001b[0mlgp_equv\u001b[0m\u001b[1;33m,\u001b[0m \u001b[0myield_map_irr\u001b[0m\u001b[1;33m,\u001b[0m \u001b[1;34m'I'\u001b[0m\u001b[1;33m)\u001b[0m \u001b[1;31m# I: Irrigated, R: Rain-fed\u001b[0m\u001b[1;33m\u001b[0m\u001b[1;33m\u001b[0m\u001b[0m\n\u001b[0;32m      5\u001b[0m \u001b[1;33m\u001b[0m\u001b[0m\n",
      "\u001b[1;31mTypeError\u001b[0m: applyClimaticConstraints() missing 2 required positional arguments: 'lgp' and 'path'"
     ]
    }
   ],
   "source": [
    "'''applying climate constraints'''\n",
    "path= r'./sample_data/input/Climatic_constraint.xlsx'\n",
    "obj_constraints.Read_from_csv( path, 'HI', 'Wheat')\n",
    "\n",
    "yield_map_rain_m3 = obj_constraints.applyClimaticConstraints(lgp_equv, yield_map_rain,  lgp) # I: Irrigated, R: Rain-fed\n",
    "#yield_map_irr_m3 = obj_constraints.applyClimaticConstraints(lgp_equv, yield_map_irr, 'I', lgp, path) # I: Irrigated, R: Rain-fed\n",
    "\n",
    "## get classified output\n",
    "yield_map_rain_class_m3 = obj_utilities.classifyFinalYield(yield_map_rain_m3)\n",
    "#yield_map_irr_class_m3 = obj_utilities.classifyFinalYield(yield_map_irr_m3)"
   ]
  },
  {
   "cell_type": "code",
   "execution_count": 6,
   "metadata": {},
   "outputs": [
    {
     "ename": "NameError",
     "evalue": "name 'yield_map_rain_m3' is not defined",
     "output_type": "error",
     "traceback": [
      "\u001b[1;31m---------------------------------------------------------------------------\u001b[0m",
      "\u001b[1;31mNameError\u001b[0m                                 Traceback (most recent call last)",
      "\u001b[1;32m<ipython-input-6-08c2363f6d05>\u001b[0m in \u001b[0;36m<module>\u001b[1;34m\u001b[0m\n\u001b[0;32m      1\u001b[0m \u001b[1;34m'''visualize result'''\u001b[0m\u001b[1;33m\u001b[0m\u001b[1;33m\u001b[0m\u001b[0m\n\u001b[0;32m      2\u001b[0m \u001b[1;33m\u001b[0m\u001b[0m\n\u001b[1;32m----> 3\u001b[1;33m \u001b[0mplt\u001b[0m\u001b[1;33m.\u001b[0m\u001b[0mimshow\u001b[0m\u001b[1;33m(\u001b[0m\u001b[0myield_map_rain_m3\u001b[0m\u001b[1;33m)\u001b[0m\u001b[1;33m\u001b[0m\u001b[1;33m\u001b[0m\u001b[0m\n\u001b[0m\u001b[0;32m      4\u001b[0m \u001b[0mplt\u001b[0m\u001b[1;33m.\u001b[0m\u001b[0mcolorbar\u001b[0m\u001b[1;33m(\u001b[0m\u001b[1;33m)\u001b[0m\u001b[1;33m\u001b[0m\u001b[1;33m\u001b[0m\u001b[0m\n\u001b[0;32m      5\u001b[0m \u001b[0mplt\u001b[0m\u001b[1;33m.\u001b[0m\u001b[0mshow\u001b[0m\u001b[1;33m(\u001b[0m\u001b[1;33m)\u001b[0m\u001b[1;33m\u001b[0m\u001b[1;33m\u001b[0m\u001b[0m\n",
      "\u001b[1;31mNameError\u001b[0m: name 'yield_map_rain_m3' is not defined"
     ]
    }
   ],
   "source": [
    "'''visualize result'''\n",
    "\n",
    "plt.imshow(yield_map_rain_m3)\n",
    "plt.colorbar()\n",
    "plt.show()\n",
    "\n",
    "plt.imshow(yield_map_irr_m3)\n",
    "plt.colorbar()\n",
    "plt.show()\n",
    "\n",
    "plt.imshow(yield_map_rain_class_m3)\n",
    "plt.colorbar()\n",
    "plt.show()\n",
    "\n",
    "plt.imshow(yield_map_irr_class_m3)\n",
    "plt.colorbar()\n",
    "plt.show()"
   ]
  },
  {
   "cell_type": "code",
   "execution_count": 7,
   "metadata": {},
   "outputs": [
    {
     "ename": "NameError",
     "evalue": "name 'yield_map_rain_m3' is not defined",
     "output_type": "error",
     "traceback": [
      "\u001b[1;31m---------------------------------------------------------------------------\u001b[0m",
      "\u001b[1;31mNameError\u001b[0m                                 Traceback (most recent call last)",
      "\u001b[1;32m<ipython-input-7-11f08d9b13a5>\u001b[0m in \u001b[0;36m<module>\u001b[1;34m\u001b[0m\n\u001b[0;32m      1\u001b[0m \u001b[1;34m'''save result'''\u001b[0m\u001b[1;33m\u001b[0m\u001b[1;33m\u001b[0m\u001b[0m\n\u001b[0;32m      2\u001b[0m \u001b[1;33m\u001b[0m\u001b[0m\n\u001b[1;32m----> 3\u001b[1;33m \u001b[0mobj_utilities\u001b[0m\u001b[1;33m.\u001b[0m\u001b[0msaveRaster\u001b[0m\u001b[1;33m(\u001b[0m\u001b[1;34m'./sample_data/input/LAO_Admin.tif'\u001b[0m\u001b[1;33m,\u001b[0m \u001b[1;34m'./sample_data/output/NB3/CropSuitability_rain_m3.tif'\u001b[0m\u001b[1;33m,\u001b[0m \u001b[0myield_map_rain_m3\u001b[0m\u001b[1;33m)\u001b[0m\u001b[1;33m\u001b[0m\u001b[1;33m\u001b[0m\u001b[0m\n\u001b[0m\u001b[0;32m      4\u001b[0m \u001b[0mobj_utilities\u001b[0m\u001b[1;33m.\u001b[0m\u001b[0msaveRaster\u001b[0m\u001b[1;33m(\u001b[0m\u001b[1;34m'./sample_data/input/LAO_Admin.tif'\u001b[0m\u001b[1;33m,\u001b[0m \u001b[1;34m'./sample_data/output/NB3/CropSuitability_irr_m3.tif'\u001b[0m\u001b[1;33m,\u001b[0m \u001b[0myield_map_irr_m3\u001b[0m\u001b[1;33m)\u001b[0m\u001b[1;33m\u001b[0m\u001b[1;33m\u001b[0m\u001b[0m\n\u001b[0;32m      5\u001b[0m \u001b[1;33m\u001b[0m\u001b[0m\n",
      "\u001b[1;31mNameError\u001b[0m: name 'yield_map_rain_m3' is not defined"
     ]
    }
   ],
   "source": [
    "'''save result'''\n",
    "\n",
    "obj_utilities.saveRaster('./sample_data/input/LAO_Admin.tif', './sample_data/output/NB3/CropSuitability_rain_m3.tif', yield_map_rain_m3)\n",
    "obj_utilities.saveRaster('./sample_data/input/LAO_Admin.tif', './sample_data/output/NB3/CropSuitability_irr_m3.tif', yield_map_irr_m3)\n",
    "\n",
    "obj_utilities.saveRaster('./sample_data/input/LAO_Admin.tif', './sample_data/output/NB3/CropSuitability_rain_class_m3.tif',yield_map_rain_class_m3)\n",
    "obj_utilities.saveRaster('./sample_data/input/LAO_Admin.tif', './sample_data/output/NB3/CropSuitability_irr_class_m3.tif',yield_map_irr_class_m3)"
   ]
  },
  {
   "cell_type": "code",
   "execution_count": null,
   "metadata": {},
   "outputs": [],
   "source": [
    "'''Saving the reduction factor numpy as raster'''\n",
    "reduction = obj_constraints.getreductionfactor()\n",
    "plt.imshow(reduction)\n",
    "plt.colorbar()\n",
    "plt.show()\n",
    "bj_utilities.saveRaster('D:/3. Py-AEZ/PyAEZ/sample_data/input_5/LAO_Admin.tif','D:/3. Py-AEZ/PyAEZ/sample_data/output/NB1/f3.tif', reduction)\n"
   ]
  },
  {
   "cell_type": "code",
   "execution_count": null,
   "metadata": {},
   "outputs": [],
   "source": []
  }
 ],
 "metadata": {
  "kernelspec": {
   "display_name": "Python 3",
   "language": "python",
   "name": "python3"
  },
  "language_info": {
   "codemirror_mode": {
    "name": "ipython",
    "version": 3
   },
   "file_extension": ".py",
   "mimetype": "text/x-python",
   "name": "python",
   "nbconvert_exporter": "python",
   "pygments_lexer": "ipython3",
   "version": "3.8.8"
  }
 },
 "nbformat": 4,
 "nbformat_minor": 2
}
