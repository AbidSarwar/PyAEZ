{
 "cells": [
  {
   "cell_type": "code",
   "execution_count": 1,
   "id": "55302e87",
   "metadata": {},
   "outputs": [
    {
     "name": "stdout",
     "output_type": "stream",
     "text": [
      "D:\\3. Py-AEZ\\PyAEZ\n"
     ]
    }
   ],
   "source": [
    "import numpy as np\n",
    "import matplotlib.pyplot as plt\n",
    "import imageio\n",
    "\n",
    "import sys\n",
    "import os\n",
    "print(os.getcwd())"
   ]
  },
  {
   "cell_type": "code",
   "execution_count": 2,
   "id": "5c9f8bda",
   "metadata": {},
   "outputs": [],
   "source": [
    "os.chdir(r'D:\\3. Py-AEZ\\PyAEZ\\code' )\n",
    "import ClimaticConstraints\n",
    "obj_constraints = ClimaticConstraints.ClimaticConstraints()\n",
    "\n",
    "import UtilitiesCalc\n",
    "obj_utilities = UtilitiesCalc.UtilitiesCalc()"
   ]
  },
  {
   "cell_type": "code",
   "execution_count": 3,
   "id": "21753ea0",
   "metadata": {},
   "outputs": [],
   "source": [
    "lgp_equv = imageio.imread(r'D:/3. Py-AEZ/PyAEZ/sample_data/output/NB1/LGPEquivalent.tif');\n",
    "\n",
    "lgp = imageio.imread(r'D:/3. Py-AEZ/PyAEZ/sample_data/output/NB1/LGP.tif');\n",
    "\n",
    "yield_map_rain = imageio.imread(r'D:/3. Py-AEZ/PyAEZ/sample_data/output/NB2/CropSuitability_rain.tif');\n",
    "yield_map_irr = imageio.imread(r'D:/3. Py-AEZ/PyAEZ/sample_data/output/NB2/CropSuitability_irr.tif');"
   ]
  },
  {
   "cell_type": "code",
   "execution_count": 4,
   "id": "fcbe4470",
   "metadata": {},
   "outputs": [],
   "source": [
    "'''applying climate constraints'''\n",
    "path= r'D:\\3. Py-AEZ\\PyAEZ\\sample_data\\input\\Climatic_constraint.xlsx'\n",
    "obj_constraints.Read_from_csv( path, 'HI', 'Wheat')\n",
    "\n",
    "yield_map_rain_m3 = obj_constraints.applyClimaticConstraints(lgp_equv, yield_map_rain,  lgp) # I: Irrigated, R: Rain-fed\n",
    "#yield_map_irr_m3 = obj_constraints.applyClimaticConstraints(lgp_equv, yield_map_irr, 'I', lgp, path) # I: Irrigated, R: Rain-fed\n",
    "\n",
    "## get classified output\n",
    "yield_map_rain_class_m3 = obj_utilities.classifyFinalYield(yield_map_rain_m3)\n",
    "#yield_map_irr_class_m3 = obj_utilities.classifyFinalYield(yield_map_irr_m3)"
   ]
  },
  {
   "cell_type": "code",
   "execution_count": 5,
   "id": "4eea193c",
   "metadata": {},
   "outputs": [],
   "source": [
    "reduction = obj_constraints.getreductionfactor()"
   ]
  },
  {
   "cell_type": "code",
   "execution_count": 6,
   "id": "de32a496",
   "metadata": {},
   "outputs": [],
   "source": [
    "obj_utilities.saveRaster('D:/3. Py-AEZ/PyAEZ/sample_data/input_5/LAO_Admin.tif','D:/3. Py-AEZ/PyAEZ/sample_data/output/NB1/f3.tif', reduction)"
   ]
  },
  {
   "cell_type": "code",
   "execution_count": null,
   "id": "3a3f10f5",
   "metadata": {},
   "outputs": [],
   "source": []
  },
  {
   "cell_type": "code",
   "execution_count": null,
   "id": "1c8bd08b",
   "metadata": {},
   "outputs": [],
   "source": []
  },
  {
   "cell_type": "code",
   "execution_count": null,
   "id": "9363d082",
   "metadata": {},
   "outputs": [],
   "source": []
  }
 ],
 "metadata": {
  "kernelspec": {
   "display_name": "Python 3",
   "language": "python",
   "name": "python3"
  },
  "language_info": {
   "codemirror_mode": {
    "name": "ipython",
    "version": 3
   },
   "file_extension": ".py",
   "mimetype": "text/x-python",
   "name": "python",
   "nbconvert_exporter": "python",
   "pygments_lexer": "ipython3",
   "version": "3.8.8"
  }
 },
 "nbformat": 4,
 "nbformat_minor": 5
}
