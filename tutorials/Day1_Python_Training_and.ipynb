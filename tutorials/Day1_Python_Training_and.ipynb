{
  "cells": [
    {
      "attachments": {},
      "cell_type": "markdown",
      "metadata": {
        "id": "uMPKh8Jn-xg7"
      },
      "source": [
        "# This colab notebook corresponds to Day 1 Training Agenda\n",
        "## Part 1: Basic Python Programming (Numpy)\n",
        "### Date: 29.11.2022\n",
        "### Prepared by Geoinformatics Center, AIT\n"
      ]
    },
    {
      "cell_type": "code",
      "execution_count": null,
      "metadata": {
        "colab": {
          "base_uri": "https://localhost:8080/"
        },
        "id": "md40uOEf-jRl",
        "outputId": "1175c003-477a-4a24-fa20-3eed58437c4f"
      },
      "outputs": [
        {
          "data": {
            "text/plain": [
              "int"
            ]
          },
          "execution_count": 1,
          "metadata": {},
          "output_type": "execute_result"
        }
      ],
      "source": [
        "# Basic Python Data Types\n",
        "\n",
        "# Numeric\n",
        "# int, float, string, bool, complex\n",
        "x = 1\n",
        "print(type(x))"
      ]
    },
    {
      "cell_type": "code",
      "execution_count": null,
      "metadata": {
        "id": "l_NLa-bJaoXn"
      },
      "outputs": [],
      "source": [
        "# iteration process\n",
        "for i in range(9):\n",
        "  print(i)"
      ]
    },
    {
      "cell_type": "code",
      "execution_count": null,
      "metadata": {
        "id": "FbEZG0tvcSQn"
      },
      "outputs": [],
      "source": [
        "# need to import the package\n",
        "import numpy as np"
      ]
    },
    {
      "cell_type": "markdown",
      "metadata": {
        "id": "Lia4ZAFzC2i0"
      },
      "source": [
        "# Nature of Numpy arrays\n",
        "![numpy array.png](data:image/png;base64,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)"
      ]
    },
    {
      "cell_type": "code",
      "execution_count": null,
      "metadata": {
        "id": "G8HA13A0Z2wX"
      },
      "outputs": [],
      "source": [
        "# Numpy array is the basic element for any mathematical calculations\n",
        "# Creating a new numpy array\n",
        "x = np.array([1,2,3,4,5,6])"
      ]
    },
    {
      "cell_type": "code",
      "execution_count": null,
      "metadata": {
        "id": "-aC74DrNbSAA"
      },
      "outputs": [],
      "source": [
        "# np.array can have multiple dimensions\n",
        "x = np.array([[1,2,3], [1,2,3], [1,2,3]])\n",
        "y = np.array([[4,5,6], [4,5,6], [4,5,6]])"
      ]
    },
    {
      "cell_type": "code",
      "execution_count": null,
      "metadata": {
        "id": "1SZVEV_Sbe4H"
      },
      "outputs": [],
      "source": [
        "# check the dimension of your created array\n",
        "print(x.shape)"
      ]
    },
    {
      "cell_type": "code",
      "execution_count": null,
      "metadata": {
        "id": "LJpZqc_ebkK2"
      },
      "outputs": [],
      "source": [
        "# you can apply mathematical operations to your arrays \n",
        "# Addition => +\n",
        "# Subtraction => -\n",
        "# Multiplication => *\n",
        "# Division => /\n",
        "# Power => np.square\n",
        "# Square root\n",
        "print(x + y)"
      ]
    },
    {
      "cell_type": "code",
      "execution_count": null,
      "metadata": {
        "id": "5q12Z3LCfk3h"
      },
      "outputs": [],
      "source": [
        "# Conditional formatting of numpy array\n",
        "x[x == 1] = 0"
      ]
    },
    {
      "cell_type": "code",
      "execution_count": null,
      "metadata": {
        "id": "AtkVHBCTIHUc"
      },
      "outputs": [],
      "source": [
        "# Axis swapping\n",
        "x = np.array([[[1,2,3],\n",
        "               [4,5,6],\n",
        "               [7,8,9]],\n",
        "               [[10,11,12],\n",
        "                [13,14,15],\n",
        "                [16,17,18]],\n",
        "               [[19,20,21],\n",
        "                [22,23,24],\n",
        "                [25,26,27]],\n",
        "              [[12,53,76],\n",
        "               [64,4,23],\n",
        "               [12,0,0]]])"
      ]
    },
    {
      "cell_type": "code",
      "execution_count": null,
      "metadata": {
        "colab": {
          "base_uri": "https://localhost:8080/"
        },
        "id": "v3DfZP95aZv5",
        "outputId": "6ec33068-bea7-4fa3-f3d6-7866bff65117"
      },
      "outputs": [
        {
          "name": "stdout",
          "output_type": "stream",
          "text": [
            "(4, 3, 3)\n"
          ]
        }
      ],
      "source": [
        "print(x.shape)"
      ]
    },
    {
      "cell_type": "code",
      "execution_count": null,
      "metadata": {
        "colab": {
          "base_uri": "https://localhost:8080/"
        },
        "id": "r1zxdfDGkKSo",
        "outputId": "0667a3d8-4709-4284-f33a-84f4b42d7b5d"
      },
      "outputs": [
        {
          "data": {
            "text/plain": [
              "(3, 3)"
            ]
          },
          "execution_count": 12,
          "metadata": {},
          "output_type": "execute_result"
        }
      ],
      "source": [
        "# adding dimension to existing numpy array\n",
        "x = np.array([[1,2,3],\n",
        "              [4,5,6],\n",
        "              [7,8,9]])\n",
        "x.shape"
      ]
    },
    {
      "cell_type": "code",
      "execution_count": null,
      "metadata": {
        "id": "e6S2ZoZIlnZg"
      },
      "outputs": [],
      "source": [
        "x1 = np.newaxis()"
      ]
    },
    {
      "cell_type": "code",
      "execution_count": null,
      "metadata": {
        "colab": {
          "base_uri": "https://localhost:8080/"
        },
        "id": "IXjJe_tNeerB",
        "outputId": "44d51c33-a8e6-4bbc-f14f-63ff3d3ab15b"
      },
      "outputs": [
        {
          "name": "stdout",
          "output_type": "stream",
          "text": [
            "[[[ 1 10 19 12]\n",
            "  [ 2 11 20 53]\n",
            "  [ 3 12 21 76]]\n",
            "\n",
            " [[ 4 13 22 64]\n",
            "  [ 5 14 23  4]\n",
            "  [ 6 15 24 23]]\n",
            "\n",
            " [[ 7 16 25 12]\n",
            "  [ 8 17 26  0]\n",
            "  [ 9 18 27  0]]]\n"
          ]
        }
      ],
      "source": [
        "# changing the axis dimension\n",
        "x2 = np.moveaxis(x, 0, 2)\n",
        "print(x2)"
      ]
    },
    {
      "cell_type": "code",
      "execution_count": null,
      "metadata": {
        "id": "zzzD1qpTH9xS"
      },
      "outputs": [],
      "source": [
        "# removing axis\n",
        "new_x = x[0,:,:]"
      ]
    },
    {
      "cell_type": "markdown",
      "metadata": {
        "id": "M8jv0kbACJMU"
      },
      "source": [
        "## Part 2: Data Preparation (Climate, Terrain, Auxillary Data)\n"
      ]
    },
    {
      "cell_type": "markdown",
      "metadata": {
        "id": "iDe05qpTkz_0"
      },
      "source": [
        "# The example dataset used in AgERA5 (Source:https://cds.climate.copernicus.eu/cdsapp#!/dataset/sis-agrometeorological-indicators?tab=overview). Registration required.\n",
        "\n",
        "## 1. Extent clipping with shapefile\n",
        "## 2. \n",
        "## 3. \n"
      ]
    },
    {
      "cell_type": "code",
      "execution_count": null,
      "metadata": {
        "id": "spHq9RsYCInU"
      },
      "outputs": [],
      "source": [
        "# if there's python packages not installed, use this codeline\n",
        "!pip install rioxarray geopandas list"
      ]
    },
    {
      "cell_type": "code",
      "execution_count": null,
      "metadata": {
        "id": "2MI407zVEtBZ"
      },
      "outputs": [],
      "source": [
        "# I had problems with gdal. So, I'm using different package\n",
        "import rioxarray\n",
        "import xarray\n",
        "import geopandas as gpd\n",
        "from shapely.geometry import mapping\n",
        "import matplotlib.pyplot as plt\n",
        "import numpy as np\n",
        "import os\n",
        "import glob as glob"
      ]
    },
    {
      "cell_type": "code",
      "execution_count": null,
      "metadata": {
        "id": "CfIn1u4SEw0J"
      },
      "outputs": [],
      "source": [
        "# Connecting to my google drive\n",
        "from google.colab import drive\n",
        "drive.mount('drive/')\n",
        "\n",
        "# \n",
        "import os\n",
        "os.chdir('drive/My Drive/AgriERA5 Simulation/Climate Numpy')"
      ]
    },
    {
      "cell_type": "code",
      "execution_count": null,
      "metadata": {
        "id": "3v55gb5uG7m_"
      },
      "outputs": [],
      "source": [
        "# uploading the shapefile of your desired area\n",
        "shapefile = gpd.read_file(r'____')"
      ]
    },
    {
      "cell_type": "code",
      "execution_count": null,
      "metadata": {
        "id": "SUYCWTaXI9go"
      },
      "outputs": [],
      "source": [
        "# Google drive path of "
      ]
    },
    {
      "cell_type": "markdown",
      "metadata": {
        "id": "pk1u7OZXGpZw"
      },
      "source": [
        "### Example of 3D climatic data preparation"
      ]
    },
    {
      "cell_type": "code",
      "execution_count": null,
      "metadata": {
        "id": "9QEseWdZFV-g"
      },
      "outputs": [],
      "source": [
        "# Example of batch preprocessing of a single \n",
        "for a in range(len(path)):\n",
        "    os.chdir(path[a])\n",
        "    lst_for_mean = []\n",
        "    for i in range(len(months)):\n",
        "        data = glob.glob('./'+months[i]+'/'+'*.nc')\n",
        "        for k in range(len(data)):\n",
        "            un_img = rioxarray.open_rasterio(data[k]) # opening ungeoregistered data\n",
        "            re_img = un_img.rio.set_crs('epsg:4326') # setting spatial reference information\n",
        "            clip_img = re_img.rio.clip(mask.geometry.apply(mapping), mask.crs) # using mask vector, we're clipping image\n",
        "            num_img = clip_img.to_numpy() # transformation into numpy\n",
        "            num_img = num_img[0,:,:] # removing extra dimension\n",
        "            num_img[num_img==-9999] = np.nan # Converting no data -9999 as np.nan\n",
        "            lst_for_mean.append(num_img)\n",
        "        ave = np.mean(np.array(lst_for_mean), axis = 0)\n",
        "        np.save(path[a]+datanames[a]+'_'+months[i]+'_clipped.npy', ave)    \n",
        "    del(data, un_img, re_img, clip_img, num_img, ave)"
      ]
    }
  ],
  "metadata": {
    "colab": {
      "provenance": [],
      "toc_visible": true
    },
    "kernelspec": {
      "display_name": "Python 3",
      "language": "python",
      "name": "python3"
    },
    "language_info": {
      "name": "python",
      "version": "3.10.9"
    },
    "vscode": {
      "interpreter": {
        "hash": "390afe2e4add36ac5081eea3b18628689702b35fe98af975b8a12b66cf07cbbd"
      }
    }
  },
  "nbformat": 4,
  "nbformat_minor": 0
}
