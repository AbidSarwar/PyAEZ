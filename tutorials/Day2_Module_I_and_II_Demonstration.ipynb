{
  "cells": [
    {
      "cell_type": "markdown",
      "metadata": {
        "id": "ARKNnC2dTr3V"
      },
      "source": [
        "# This colab notebook corresponds to Day 2 PyAEZ Training Agenda\n",
        "## Part 1: Module I: Climate Regime\n",
        "### Date: 30.11.2022\n",
        "### Prepared by Geoinformatics Center, AIT"
      ]
    },
    {
      "cell_type": "markdown",
      "metadata": {
        "id": "rF37fc6drvMs"
      },
      "source": [
        "# Google drive connection\n",
        "\n"
      ]
    },
    {
      "cell_type": "code",
      "execution_count": null,
      "metadata": {
        "id": "K_fE25dMsJXi",
        "vscode": {
          "languageId": "python"
        }
      },
      "outputs": [],
      "source": [
        "# Connecting to my google drive\n",
        "from google.colab import drive\n",
        "drive.mount('drive/')"
      ]
    },
    {
      "cell_type": "markdown",
      "metadata": {
        "id": "5RqmLuk-sMXL"
      },
      "source": [
        "---\n",
        "# Installing necessary packages"
      ]
    },
    {
      "cell_type": "code",
      "execution_count": null,
      "metadata": {
        "id": "oKqxMBALstis",
        "vscode": {
          "languageId": "python"
        }
      },
      "outputs": [],
      "source": [
        "!pip install gdal\n",
        "!pip install pyaez==2.0.0"
      ]
    },
    {
      "cell_type": "code",
      "execution_count": null,
      "metadata": {
        "id": "kA4DVPpHs4bU",
        "vscode": {
          "languageId": "python"
        }
      },
      "outputs": [],
      "source": [
        "# importing libraries\n",
        "import matplotlib.pyplot as plt\n",
        "import numpy as np\n",
        "import os\n",
        "from osgeo import gdal\n",
        "import scipy"
      ]
    },
    {
      "cell_type": "markdown",
      "metadata": {
        "id": "mbZPhSdiuyhU"
      },
      "source": [
        "# Folder path to dataset folder"
      ]
    },
    {
      "cell_type": "code",
      "execution_count": null,
      "metadata": {
        "id": "JcR3XzJMu7Ob",
        "vscode": {
          "languageId": "python"
        }
      },
      "outputs": [],
      "source": [
        "import sys\n",
        "sys.path.append('/content/drive/My Drive/PyAEZ_Training_Materials_2022/Training_Materials/')"
      ]
    },
    {
      "cell_type": "markdown",
      "metadata": {
        "id": "ciRT1zUIxMdL"
      },
      "source": [
        "# Importing the datasets (For some datasets, we will use GDAL to convert to numpy array"
      ]
    },
    {
      "cell_type": "code",
      "execution_count": null,
      "metadata": {
        "id": "DjIIR-kNxUNr",
        "vscode": {
          "languageId": "python"
        }
      },
      "outputs": [],
      "source": [
        "# importing the climate data\n",
        "max_temp = np.load(r'./climate/max_temp.npy') # maximum temperature\n",
        "min_temp = np.load(r'./climate/min_temp.npy') # minimum temperature\n",
        "precip = np.load(r'./climate/precipitation.npy') # precipitation\n",
        "rel_humid = np.load(r'./climate/relative_humidity.npy') # relative humidity\n",
        "wind_sp = np.load(r'./climate/wind_speed.npy') # wind speed measured at two meters\n",
        "short_rad = np.load(r'./climate/short_rad.npy') # shortwave radiation\n",
        "\n",
        "mask = gdal.Open(r'./LAO_Admin.tif').ReadAsArray()\n",
        "elevation = gdal.Open(r'./LAO_Elevation.tif').ReadAsArray()\n",
        "soil_terrain_lulc = gdal_Open(r'./LAO_soil_terrain_lulc.tif').ReadAsArray()"
      ]
    },
    {
      "cell_type": "markdown",
      "metadata": {
        "id": "nFDI9PG8zqhE"
      },
      "source": [
        "# Module I:Climate Regime Start"
      ]
    },
    {
      "cell_type": "code",
      "execution_count": null,
      "metadata": {
        "id": "g-Kxp3kpzpuC",
        "vscode": {
          "languageId": "python"
        }
      },
      "outputs": [],
      "source": [
        "# importing Module I\n",
        "from pyaez import ClimateRegime\n",
        "clim_reg = ClimateRegime.ClimateRegime()"
      ]
    },
    {
      "cell_type": "code",
      "execution_count": null,
      "metadata": {
        "id": "9wycdmTc0Fnb",
        "vscode": {
          "languageId": "python"
        }
      },
      "outputs": [],
      "source": [
        "# importing UtilitiesCalc\n",
        "from pyaez import UtilitiesCalc\n",
        "obj_util = UtilitiesCalc.UtilitiesCalc()"
      ]
    },
    {
      "cell_type": "markdown",
      "metadata": {
        "id": "JycvQ05f0qWE"
      },
      "source": [
        "## Importing the data into the object class"
      ]
    },
    {
      "cell_type": "code",
      "execution_count": null,
      "metadata": {
        "id": "MCSKV6FX0plc",
        "vscode": {
          "languageId": "python"
        }
      },
      "outputs": [],
      "source": [
        "# Retrieve your target area's minimum and maximum latitude\n",
        "lat_max = 22.59\n",
        "lat_min = 13.87"
      ]
    },
    {
      "cell_type": "code",
      "execution_count": null,
      "metadata": {
        "id": "gJs6xTkp0O6s",
        "vscode": {
          "languageId": "python"
        }
      },
      "outputs": [],
      "source": [
        "# setting the study area mask ***Optional\n",
        "clim_reg.setStudyAreaMask(mask, 0)\n",
        "\n",
        "# adding the location and elevation data ***Mandatory Step\n",
        "clim_reg.setLocationTerrainData(lat_min, lat_max, elevation)\n",
        "\n",
        "# setting up the climate data ***Mandatory Step\n",
        "# Monthly Data\n",
        "# clim_reg.setMonthlyClimateData(min_temp, max_temp, precip, short_rad, wind_sp, rel_humid)\n",
        "\n",
        "# Daily Data ***Mandatory Step\n",
        "clim_reg.setDailyClimateData(min_temp, max_temp, precip, short_rad, wind_sp, rel_humid, mask, elevations)"
      ]
    },
    {
      "cell_type": "code",
      "execution_count": null,
      "metadata": {
        "id": "1yCD9UgmU6te",
        "vscode": {
          "languageId": "python"
        }
      },
      "outputs": [],
      "source": [
        "# Releasing the memory of input climate data\n",
        "del(min_temp, max_temp, precip, short_rad, wind_sp, rel_humid)"
      ]
    },
    {
      "cell_type": "markdown",
      "metadata": {
        "id": "a_peB2dUVcem"
      },
      "source": [
        "# Thermal Climate"
      ]
    },
    {
      "cell_type": "code",
      "execution_count": null,
      "metadata": {
        "id": "iyhrYgEYVDD2",
        "vscode": {
          "languageId": "python"
        }
      },
      "outputs": [],
      "source": [
        "tclimate = clim_reg.getThermalClimate()\n",
        "\n",
        "# now visualizing result\n",
        "fig = plt.figure(figsize=(14, 10))\n",
        "plt.imshow(tclimate, cmap = plt.get_cmap('tab20b', 12))\n",
        "plt.title('Thermal Climate')\n",
        "plt.colorbar()\n",
        "plt.show()"
      ]
    },
    {
      "cell_type": "code",
      "execution_count": null,
      "metadata": {
        "id": "wDNjDmFxk9nW",
        "vscode": {
          "languageId": "python"
        }
      },
      "outputs": [],
      "source": [
        "# saving the output as TIFF file\n",
        "obj_util.saveRaster(r'./LAO_Elevation.tif', r'./tclimate.tif', tclimate)"
      ]
    },
    {
      "cell_type": "markdown",
      "metadata": {
        "id": "ysQj7qBlmbNW"
      },
      "source": [
        "# Thermal Zone"
      ]
    },
    {
      "cell_type": "code",
      "execution_count": null,
      "metadata": {
        "id": "gE_1IyGsmh6g",
        "vscode": {
          "languageId": "python"
        }
      },
      "outputs": [],
      "source": [
        "tzone = clim_reg.getThermalZone()\n",
        "\n",
        "# now visualizing result\n",
        "fig = plt.figure(figsize=(14, 10))\n",
        "plt.imshow(tclimate, cmap = plt.get_cmap('tab20b', 12))\n",
        "plt.title('Thermal Zone')\n",
        "plt.colorbar()\n",
        "plt.show()"
      ]
    },
    {
      "cell_type": "code",
      "execution_count": null,
      "metadata": {
        "id": "oe8mHFoMmh6h",
        "vscode": {
          "languageId": "python"
        }
      },
      "outputs": [],
      "source": [
        "# saving the output as TIFF file\n",
        "obj_util.saveRaster(r'./LAO_Elevation.tif', r'./tzone.tif', tzone)"
      ]
    },
    {
      "cell_type": "markdown",
      "metadata": {
        "id": "JoVrzAJmmuot"
      },
      "source": [
        "# Thermal Length of Growing Period"
      ]
    },
    {
      "cell_type": "code",
      "execution_count": null,
      "metadata": {
        "id": "8fiKYFrTnmp1",
        "vscode": {
          "languageId": "python"
        }
      },
      "outputs": [],
      "source": [
        "lgp0 = clim_reg.getThermalLGP0() # 0 deg Celsius threshold\n",
        "lgp5 = clim_reg.getThermalLGP5() # 5 deg Celsius threshold\n",
        "lgp10 = clim_reg.getThermalLGP10() # 10 deg Celsius threshold\n",
        "\n",
        "fig, ax = plt.subplots(nrows = 1, ncols = 3)\n",
        "ax[0].imshow(lgp0, vmax = 366, vmin = 0)\n",
        "ax[1].imshow(lgp5, vmax = 366, vmin = 0)\n",
        "ax[2].imshow(lgp10, vmax = 366, vmin = 0)\n",
        "\n",
        "ax[0].title.set_text('LGP0')\n",
        "ax[1].title.set_text('LGP5')\n",
        "ax[2].title.set_text('LGP10')\n",
        "\n",
        "fig.colorbar(lgp10)\n",
        "plt.show()"
      ]
    },
    {
      "cell_type": "code",
      "execution_count": null,
      "metadata": {
        "id": "Fh17Xlh1Vdfb",
        "vscode": {
          "languageId": "python"
        }
      },
      "outputs": [],
      "source": [
        "# saving the output as TIFF file\n",
        "obj_util.saveRaster(r'./LAO_Elevation.tif', r'./lgpt0.tif', lgp0)\n",
        "obj_util.saveRaster(r'./LAO_Elevation.tif', r'./lgpt5.tif', lgp5)\n",
        "obj_util.saveRaster(r'./LAO_Elevation.tif', r'./lgpt10.tif', lgp10)"
      ]
    },
    {
      "cell_type": "markdown",
      "metadata": {
        "id": "0wvolFDVVbGr"
      },
      "source": [
        "# Temperature Summation"
      ]
    },
    {
      "cell_type": "code",
      "execution_count": null,
      "metadata": {
        "id": "ikhRj2G4Vs9j",
        "vscode": {
          "languageId": "python"
        }
      },
      "outputs": [],
      "source": [
        "tsum = clim_reg.getTemperatureSum0()\n",
        "tsum5 = clim_reg.getTemperatureSum5()\n",
        "tsum10 = clim_reg.getTemperatureSum10()\n",
        "\n",
        "fig, ax = plt.subplots(nrows = 1, ncols = 3)\n",
        "ax[0].imshow(lgp0, vmax = 18000, vmin = 0)\n",
        "ax[1].imshow(lgp5, vmax = 18000, vmin = 0)\n",
        "ax[2].imshow(lgp10, vmax = 18000, vmin = 0)\n",
        "\n",
        "ax[0].title.set_text('Tsum0')\n",
        "ax[1].title.set_text('Tsum5')\n",
        "ax[2].title.set_text('LGP10')\n",
        "\n",
        "fig.colorbar(lgp10)\n",
        "plt.show()"
      ]
    },
    {
      "cell_type": "markdown",
      "metadata": {
        "id": "JiGdU2RKjP3j"
      },
      "source": [
        "# Temperature Profile"
      ]
    },
    {
      "cell_type": "code",
      "execution_count": null,
      "metadata": {
        "id": "_Ukx7M8qjSyb",
        "vscode": {
          "languageId": "python"
        }
      },
      "outputs": [],
      "source": [
        "tprofile = clim_reg.getTemperatureProfile()\n",
        "tile_list = ['A9','A8','A7','A6','A5','A4','A3','A2','A1','B1','B2','B3','B4','B5','B6','B7','B8','B9']\n",
        "\n",
        "fig = plt.figure(figsize=(20,40))  \n",
        "for i1 in range(1,19):\n",
        "    plt.subplot(6, 3, i1)\n",
        "    plt.imshow(tprofile[i1-1])\n",
        "    plt.title(tile_list[i1-1])\n",
        "    plt.colorbar() \n",
        "plt.tight_layout()\n",
        "plt.show()"
      ]
    },
    {
      "cell_type": "markdown",
      "metadata": {
        "id": "AAnJgTF3w39J"
      },
      "source": [
        "# Length of Growing Period/ Equivalent Length of Growing Period/ Moisture Regime"
      ]
    },
    {
      "cell_type": "code",
      "execution_count": null,
      "metadata": {
        "id": "mg9jaYlrw3bq",
        "vscode": {
          "languageId": "python"
        }
      },
      "outputs": [],
      "source": [
        "# LGP\n",
        "lgp = clim_reg.getLGP(Sa = 100)\n",
        "\n",
        "# Equivalent LGP\n",
        "lgp_equv = clim_reg.getLGPEquivalent()\n",
        "\n",
        "fig, ax = plt.subplots(nrows = 1, ncols = 2)\n",
        "ax[0].imshow(lgp, vmax = 366, vmin = 0)\n",
        "ax[1].imshow(lgp10, vmax = 366, vmin = 0)\n",
        "\n",
        "ax[0].title.set_text('Length of Growing Period')\n",
        "ax[1].title.set_text('Equivalent Length of Growing Period')\n",
        "\n",
        "plt.show()"
      ]
    },
    {
      "cell_type": "code",
      "execution_count": null,
      "metadata": {
        "id": "iKSRNygljXET",
        "vscode": {
          "languageId": "python"
        }
      },
      "outputs": [],
      "source": [
        "# saving the output as TIFF file\n",
        "obj_util.saveRaster(r'./LAO_Elevation.tif', r'./LGP.tif', lgp)\n",
        "obj_util.saveRaster(r'./LAO_Elevation.tif', r'./lgp_equv.tif', lgp_equv)"
      ]
    },
    {
      "cell_type": "markdown",
      "metadata": {
        "id": "YmktLudn9Z0Z"
      },
      "source": [
        "# Multi-cropping Zonation"
      ]
    },
    {
      "cell_type": "code",
      "execution_count": null,
      "metadata": {
        "id": "vdlLLTVj9kwR",
        "vscode": {
          "languageId": "python"
        }
      },
      "outputs": [],
      "source": [
        "multi_crop = clim_reg.getMultiCroppingZones(tclimate, lgp, lgpt5, lgpt10, tsum10, tsum0)\n",
        "\n",
        "multi_crop_rainfed = multi_crop[0] # for rainfed conditions\n",
        "multi_crop_irr = multi_crop[1] # for irrigated conditions\n",
        "\n",
        "fig, ax = plt.plots(nrows = 1, ncols = 2)\n",
        "ax[0].imshow(multi_crop_rainfed, vmax = 8, vmin = 0)\n",
        "ax[1].imshow(multi_crop_irr, vmax = 8, vmin = 0)\n",
        "\n",
        "ax[0].title.set_text('Multi-cropping Zone (Rainfed)')\n",
        "ax[1].title.set_text('Multi-cropping Zone (Irrigated)')\n",
        "\n",
        "plt.show()"
      ]
    },
    {
      "cell_type": "markdown",
      "metadata": {
        "id": "HGuHXbgn7d4D"
      },
      "source": [
        "# Frost Index and Permafrost Evaluation"
      ]
    },
    {
      "cell_type": "code",
      "execution_count": null,
      "metadata": {
        "id": "PnezwEFn7zsK",
        "vscode": {
          "languageId": "python"
        }
      },
      "outputs": [],
      "source": [
        "fi = clim_reg.AirFrostIndexandPermafrostEvaluation()\n",
        "\n",
        "afi = fi[0] # Air Frost Index\n",
        "permafrost = fi[1] # Classified Permafrost Classes\n",
        "\n",
        "fig, ax = plt.plots(nrows = 1, ncols = 2)\n",
        "ax[0].imshow(afi, vmax = 1, vmin = 0)\n",
        "ax[1].imshow(permafrost, vmax = 4, vmin = 0)\n",
        "\n",
        "ax[0].title.set_text('Air Frost Index')\n",
        "ax[1].title.set_text('Permafrost Classes')\n",
        "\n",
        "plt.show()"
      ]
    },
    {
      "cell_type": "code",
      "execution_count": null,
      "metadata": {
        "id": "uZOG8Y-e8pya",
        "vscode": {
          "languageId": "python"
        }
      },
      "outputs": [],
      "source": [
        "# saving the output as TIFF file\n",
        "obj_util.saveRaster(r'./LAO_Elevation.tif', r'./airfrostindex.tif', afi)\n",
        "obj_util.saveRaster(r'./LAO_Elevation.tif', r'./permafrost_class.tif', permafrost)"
      ]
    },
    {
      "cell_type": "markdown",
      "metadata": {
        "id": "jF7wfZX68yD5"
      },
      "source": [
        "# Thermal Zone for Fallow Requirements"
      ]
    },
    {
      "cell_type": "code",
      "execution_count": null,
      "metadata": {
        "id": "u3wrXWwS8005",
        "vscode": {
          "languageId": "python"
        }
      },
      "outputs": [],
      "source": [
        "tzone_fallow = clim_reg.TZoneFallowRequirement(tzone)\n",
        "\n",
        "# now visualizing result\n",
        "fig = plt.figure(figsize=(14, 10))\n",
        "plt.imshow(tzone_fallow, cmap = plt.get_cmap('Accent', 7))\n",
        "plt.title('Thermal Zone for Fallow Requirement')\n",
        "plt.colorbar()\n",
        "plt.show()"
      ]
    },
    {
      "cell_type": "code",
      "execution_count": null,
      "metadata": {
        "id": "nRE4sSvK9SO5",
        "vscode": {
          "languageId": "python"
        }
      },
      "outputs": [],
      "source": [
        "# saving the output as TIFF file\n",
        "obj_util.saveRaster(r'./LAO_Elevation.tif', r'./Tzonefallow.tif', tzone_fallow)"
      ]
    },
    {
      "cell_type": "markdown",
      "metadata": {
        "id": "z0RoGacb-bqR"
      },
      "source": [
        "# Agro-ecological Zone Classification"
      ]
    },
    {
      "cell_type": "code",
      "execution_count": null,
      "metadata": {
        "id": "YgwLfZSQ-eao",
        "vscode": {
          "languageId": "python"
        }
      },
      "outputs": [],
      "source": [
        "aez = clim_reg.AEZClassification(tclimate, lgp, lgp_equv, lgpt5, soil_terrain_lulc, permafrost)\n",
        "\n",
        "# now visualizing result\n",
        "fig = plt.figure(figsize=(14, 10))\n",
        "plt.imshow(aez, cmap = plt.get_cmap('Rainbow', 58))\n",
        "plt.title('Agro-ecological Zonation')\n",
        "plt.colorbar()\n",
        "plt.show()"
      ]
    },
    {
      "cell_type": "markdown",
      "metadata": {
        "id": "CHq81Xue_S9S"
      },
      "source": [
        "# End of Module I: Climate Regime\n",
        "---\n"
      ]
    },
    {
      "cell_type": "markdown",
      "metadata": {
        "id": "aRBHuupjTFXj"
      },
      "source": [
        "# Module II: Crop Simulation Start"
      ]
    },
    {
      "cell_type": "code",
      "execution_count": null,
      "metadata": {
        "id": "2qnGmpOoTMFr",
        "vscode": {
          "languageId": "python"
        }
      },
      "outputs": [],
      "source": [
        "# importing Module I\n",
        "from pyaez import CropSimulation\n",
        "aez = CropSimulation.CropSimulation()"
      ]
    },
    {
      "cell_type": "code",
      "execution_count": null,
      "metadata": {
        "id": "eFIiBaALUApc",
        "vscode": {
          "languageId": "python"
        }
      },
      "outputs": [],
      "source": [
        "# importing the climate data\n",
        "max_temp = np.load(r'./climate/max_temp.npy') # maximum temperature\n",
        "min_temp = np.load(r'./climate/min_temp.npy') # minimum temperature\n",
        "precip = np.load(r'./climate/precipitation.npy') # precipitation\n",
        "rel_humid = np.load(r'./climate/relative_humidity.npy') # relative humidity\n",
        "wind_sp = np.load(r'./climate/wind_speed.npy') # wind speed measured at two meters\n",
        "short_rad = np.load(r'./climate/short_rad.npy') # shortwave radiation\n",
        "\n",
        "mask = gdal.Open(r'./LAO_Admin.tif').ReadAsArray()\n",
        "elevation = gdal.Open(r'./LAO_Elevation.tif').ReadAsArray()"
      ]
    },
    {
      "cell_type": "markdown",
      "metadata": {
        "id": "WMg2XBMhU1HT"
      },
      "source": [
        "# Importing the data into the object class (Setting up climate data, geographic location data and mask layer) (Mandatory)"
      ]
    },
    {
      "cell_type": "code",
      "execution_count": null,
      "metadata": {
        "id": "1jJ27j9VVdQ7",
        "vscode": {
          "languageId": "python"
        }
      },
      "outputs": [],
      "source": [
        "# Reading the climate data into Crop Simulation Object Class ***Mandatory step\n",
        "# For monthly data \n",
        "aez.setMonthlyClimateData(min_temp, max_temp, precip, short_rad, wind_sp, rel_humid) \n",
        "\n",
        "# For daily data\n",
        "# aez.setDailyClimateData(min_temp, max_temp, precipitation, short_rad, wind_speed, rel_humidity)\n",
        "\n",
        "# Setting up the location and elevation  ***Mandatory step\n",
        "aez.setLocationTerrainData(lat_min= lat_min, lat_max = lat_max , elevation = elevation)\n",
        "\n",
        "# Setting the study area mask\n",
        "aez.setStudyAreaMask(admin_mask = mask, no_data_value = 0)"
      ]
    },
    {
      "cell_type": "markdown",
      "metadata": {
        "id": "0q0HQK60igbO"
      },
      "source": [
        "# Setting up the crop parameter/ crop cycle parameter and soil water parameters (Mandatory)"
      ]
    },
    {
      "cell_type": "code",
      "execution_count": null,
      "metadata": {
        "id": "akwy5gzRifuP",
        "vscode": {
          "languageId": "python"
        }
      },
      "outputs": [],
      "source": [
        "# setting up the crop parameters, crop cycle and soil water parameters ***mandatory step\n",
        "aez.setCropParameters(LAI=2.3, HI=0.33, legume=0, adaptability=4, cycle_len=115, D1=0.3, D2=1)\n",
        "\n",
        "aez.setCropCycleParameters(stage_per=[16, 26, 33, 25], kc=[0.3, 1.2, 0.5], kc_all=0.85, yloss_f=[0.4, 0.4, 0.9, 0.5], yloss_f_all=1.25)\n",
        "\n",
        "aez.setSoilWaterParameters(Sa= 100*np.ones((mask.shape)), pc=0.5)"
      ]
    },
    {
      "cell_type": "markdown",
      "metadata": {
        "id": "k-0QnnwBkkCm"
      },
      "source": [
        "# Setting up the thermal screening parameters (Optional)"
      ]
    },
    {
      "cell_type": "code",
      "execution_count": null,
      "metadata": {
        "id": "AHL6a-BJkjbG",
        "vscode": {
          "languageId": "python"
        }
      },
      "outputs": [],
      "source": [
        "# If you're simulating perennial crops, this thermal screening is mandatory\n",
        "aez.adjustForPerennialCrop(aLAI =70, bLAI = 200, aHI = 120, bHI = 180)\n",
        "\n",
        "# Thermal Climate screening\n",
        "aez.setThermalClimateScreening(tclimate, no_t_tclimate = [2,5,6])\n",
        "\n",
        "# Temperature Growing Period Screening (Need to clarify)\n",
        "aez.setLGPTScreening(no_lgpt = [2100 ,3600], optm_lgpt = [2300, 3150])\n",
        "\n",
        "# Temperature Summation Screening (Need to clarify)\n",
        "aez.setTSumScreening(no_Tsum = [2100 ,3600], optm_Tsum = [2300, 3150])\n",
        "\n",
        "# Temperature Profile Screening (Need to clarify)\n",
        "aez.setTProfileScreening(no_Tprofile = [])"
      ]
    },
    {
      "cell_type": "markdown",
      "metadata": {
        "id": "7JPZeqznrJsQ"
      },
      "source": [
        "# Simulation of Crop Cycle"
      ]
    },
    {
      "cell_type": "code",
      "execution_count": null,
      "metadata": {
        "id": "iPqA3Lh0rCNY",
        "vscode": {
          "languageId": "python"
        }
      },
      "outputs": [],
      "source": [
        "aez.simulateCropCycle(start_doy = 1, end_doy = 365, step_doy = 1, leap_year = False)"
      ]
    },
    {
      "cell_type": "markdown",
      "metadata": {
        "id": "GKD3JNSsrg8Q"
      },
      "source": [
        "# Maximum Attainable Yield for Rainfed and Irrigated Condition/ Optimum starting date\n",
        "\n",
        "\n",
        "Yield Classification\n",
        "1.   not suitable (yields between 0% and 20%)\n",
        "2.   marginally suitable (yields between 20% and 40%)\n",
        "3.   moderately suitable (yields between 40% and 60%)\n",
        "4. suitable (yields between 60% and 80%)\n",
        "5. very suitable (yields are equivalent to 80% or more of the overall maximum yield)\n",
        "\n"
      ]
    },
    {
      "cell_type": "code",
      "execution_count": null,
      "metadata": {
        "id": "Yqjj9pJXrrHA",
        "vscode": {
          "languageId": "python"
        }
      },
      "outputs": [],
      "source": [
        "# Now, showing the estimated and highly obtainable yield of a particular crop, results are in kg / hectare\n",
        "yield_map_rain = aez.getEstimatedYieldRainfed() # for rainfed\n",
        "yield_map_irr = aez.getEstimatedYieldIrrigated() # for irrigated\n",
        "\n",
        "starting_date = aez.getOptimumCycleStartDate() # Optimum cycle start date, the date when the highest yield are produced referenced from the start of crop cycle\n",
        "\n",
        "## get classified output of yield \n",
        "yield_map_rain_class = obj_util.classifyFinalYield(yield_map_rain)\n",
        "yield_map_irr_class = obj_util.classifyFinalYield(yield_map_irr)"
      ]
    },
    {
      "cell_type": "code",
      "execution_count": null,
      "metadata": {
        "id": "AkY3AgWgrwQQ",
        "vscode": {
          "languageId": "python"
        }
      },
      "outputs": [],
      "source": [
        "# Visualization of result\n",
        "fig, ax = plt.subplots(nrows = 3, ncols = 2)\n",
        "fig.delaxes(ax[2,1])\n",
        "\n",
        "maxi_value = np.max([yield_map_rain, yield_map_irr])\n",
        "\n",
        "ax[0,0].imshow(yield_map_rain, vmax = maxi_value, vmin = 0)\n",
        "ax[0,1].imshow(yield_map_rain_class, vmax = 366, vmin = 0)\n",
        "\n",
        "ax[1,0].imshow(yield_map_irr, vmax = maxi_value, vmin = 0)\n",
        "ax[1,1].imshow(yield_map_irr_class, vmax = 366, vmin = 0)\n",
        "\n",
        "ax[2,0].imshow(starting_date, vmax = 366, vmin = 0)\n",
        "\n",
        "\n",
        "ax[1,0].title.set_text('yield_map_rain')\n",
        "ax[1,1].title.set_text('yield_map_rain_class')\n",
        "ax[1,1].title.set_text('yield_map_irr')\n",
        "ax[1,1].title.set_text('yield_map_irr_class')\n",
        "ax[1,1].title.set_text('Optimum starting_date')\n",
        "\n",
        "plt.show()"
      ]
    },
    {
      "cell_type": "code",
      "execution_count": null,
      "metadata": {
        "id": "nbo5_iFu4JNt",
        "vscode": {
          "languageId": "python"
        }
      },
      "outputs": [],
      "source": [
        "# saving the output as TIFF file\n",
        "obj_util.saveRaster(r'./LAO_Elevation.tif', r'./yield_map_rain.tif', yield_map_rain)\n",
        "obj_util.saveRaster(r'./LAO_Elevation.tif', r'./yield_map_rain_class.tif', yield_map_rain_class)\n",
        "\n",
        "obj_util.saveRaster(r'./LAO_Elevation.tif', r'./yield_map_irr.tif', yield_map_irr)\n",
        "obj_util.saveRaster(r'./LAO_Elevation.tif', r'./yield_map_irr_class.tif', yield_map_irr_class)\n",
        "\n",
        "obj_util.saveRaster(r'./LAO_Elevation.tif', r'./starting_date.tif', starting_date)"
      ]
    },
    {
      "cell_type": "markdown",
      "metadata": {
        "id": "LN-rZfkf4sbk"
      },
      "source": [
        "---\n",
        "# End of Module II: Crop Simulation"
      ]
    }
  ],
  "metadata": {
    "colab": {
      "provenance": [],
      "toc_visible": true
    },
    "kernelspec": {
      "display_name": "Python 3 (ipykernel)",
      "language": "python",
      "name": "python3"
    }
  },
  "nbformat": 4,
  "nbformat_minor": 0
}
