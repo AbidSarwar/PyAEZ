{
 "cells": [
  {
   "cell_type": "markdown",
   "metadata": {},
   "source": [
    "# Notebook I - Climate Regime\n",
    "\n",
    "<hr>\n",
    "<hr>"
   ]
  },
  {
   "cell_type": "markdown",
   "metadata": {},
   "source": [
    "## Importing Libraries"
   ]
  },
  {
   "cell_type": "code",
   "execution_count": 1,
   "metadata": {},
   "outputs": [],
   "source": [
    "'''import supporting libraries'''\n",
    "\n",
    "import numpy as np\n",
    "import matplotlib.pyplot as plt\n",
    "import imageio\n",
    "\n",
    "import sys\n",
    "sys.path.append('./code/') # add path to source code directory"
   ]
  },
  {
   "cell_type": "markdown",
   "metadata": {},
   "source": [
    "## Reading Data"
   ]
  },
  {
   "cell_type": "code",
   "execution_count": 10,
   "metadata": {},
   "outputs": [],
   "source": [
    "'''reading climate data'''\n",
    "\n",
    "min_temp = np.load('D:/3. Py-AEZ/PyAEZ/sample_data/input_5/climate/min_temp.npy') # Celcius\n",
    "max_temp = np.load('D:/3. Py-AEZ/PyAEZ/sample_data/input_5/climate/max_temp.npy') # Celcius\n",
    "precipitation = np.load('D:/3. Py-AEZ/PyAEZ/sample_data/input_5/climate/precipitation.npy') # mm / day\n",
    "short_rad = np.load('D:/3. Py-AEZ/PyAEZ/sample_data/input_5/climate/short_rad.npy') # W/m^2\n",
    "wind_speed = np.load('D:/3. Py-AEZ/PyAEZ/sample_data/input_5/climate/wind_speed.npy') # m/s\n",
    "rel_humidity = np.load('D:/3. Py-AEZ/PyAEZ/sample_data/input_5/climate/relative_humidity.npy') # Fraction, and assumed as a constant 0.70"
   ]
  },
  {
   "cell_type": "code",
   "execution_count": 11,
   "metadata": {},
   "outputs": [],
   "source": [
    "'''reading study area and elevation data'''\n",
    "\n",
    "admin_mask = imageio.imread('D:/3. Py-AEZ/PyAEZ/sample_data/input_5/LAO_Admin.tif');\n",
    "srtm_elevation = imageio.imread('D:/3. Py-AEZ/PyAEZ/sample_data/input_5/SRTM_Elevation.tif'); # m"
   ]
  },
  {
   "cell_type": "markdown",
   "metadata": {},
   "source": [
    "## Climate Regime Calculations"
   ]
  },
  {
   "cell_type": "code",
   "execution_count": 12,
   "metadata": {},
   "outputs": [],
   "source": [
    "'''importing of the ClimateRegime library. And passing climate data'''\n",
    "import os\n",
    "os.chdir('D:/3. Py-AEZ/PyAEZ/code')\n",
    "import ClimateRegime\n",
    "\n",
    "clim_reg = ClimateRegime.ClimateRegime()\n",
    "\n",
    "# latitude limits of the study area\n",
    "lat_min = 13.90\n",
    "lat_max = 22.51\n",
    "\n",
    "clim_reg.setStudyAreaMask(admin_mask, 0)\n",
    "clim_reg.setLocationTerrainData(lat_min, lat_max, srtm_elevation)\n",
    "clim_reg.setMonthlyClimateData(min_temp, max_temp, precipitation, short_rad, wind_speed, rel_humidity)"
   ]
  },
  {
   "cell_type": "code",
   "execution_count": 13,
   "metadata": {},
   "outputs": [],
   "source": [
    "'''importing of the UtilitiesCalc library for saving results'''\n",
    "\n",
    "import UtilitiesCalc\n",
    "obj_utilities = UtilitiesCalc.UtilitiesCalc()"
   ]
  },
  {
   "cell_type": "markdown",
   "metadata": {},
   "source": [
    "#### Thermal Climate"
   ]
  },
  {
   "cell_type": "code",
   "execution_count": 14,
   "metadata": {},
   "outputs": [],
   "source": [
    "tclimate = clim_reg.getThermalClimate()"
   ]
  },
  {
   "cell_type": "code",
   "execution_count": 15,
   "metadata": {},
   "outputs": [
    {
     "data": {
      "image/png": "[encoded data removed]",
      "text/plain": [
       "<Figure size 432x288 with 1 Axes>"
      ]
     },
     "metadata": {
      "needs_background": "light"
     },
     "output_type": "display_data"
    }
   ],
   "source": [
    "'''save and visualize result'''\n",
    "\n",
    "plt.imshow(tclimate)\n",
    "plt.title('Thermal Climate')\n",
    "plt.show()\n",
    "\n",
    "obj_utilities.saveRaster('D:/3. Py-AEZ/PyAEZ/sample_data/input_5/LAO_Admin.tif','D:/3. Py-AEZ/PyAEZ/sample_data/output/NB1/ThermalClimate1.tif', tclimate)"
   ]
  },
  {
   "cell_type": "markdown",
   "metadata": {},
   "source": [
    "#### Thermal Zone"
   ]
  },
  {
   "cell_type": "code",
   "execution_count": null,
   "metadata": {},
   "outputs": [],
   "source": [
    "tzone = clim_reg.getThermalZone()"
   ]
  },
  {
   "cell_type": "code",
   "execution_count": null,
   "metadata": {},
   "outputs": [],
   "source": [
    "'''save and visualize result'''\n",
    "\n",
    "plt.imshow(tzone)\n",
    "plt.title('Thermal Zone')\n",
    "plt.show()\n",
    "\n",
    "obj_utilities.saveRaster('./sample_data/input/LAO_Admin.tif','./sample_data/output/NB1/ThermalZone.tif', tzone)"
   ]
  },
  {
   "cell_type": "markdown",
   "metadata": {},
   "source": [
    "#### Thermal LGP"
   ]
  },
  {
   "cell_type": "code",
   "execution_count": null,
   "metadata": {},
   "outputs": [],
   "source": [
    "lgp0 = clim_reg.getThermalLGP0()\n",
    "lgp5 = clim_reg.getThermalLGP5()\n",
    "lgp10 = clim_reg.getThermalLGP10()"
   ]
  },
  {
   "cell_type": "code",
   "execution_count": null,
   "metadata": {},
   "outputs": [],
   "source": [
    "'''save and visualize result'''\n",
    "\n",
    "plt.imshow(lgp0)\n",
    "plt.title('LGP 0')\n",
    "plt.show()\n",
    "\n",
    "plt.imshow(lgp5)\n",
    "plt.title('LGP 5')\n",
    "plt.show()\n",
    "\n",
    "plt.imshow(lgp10)\n",
    "plt.title('LGP 10')\n",
    "plt.show()\n",
    "\n",
    "obj_utilities.saveRaster('./sample_data/input/LAO_Admin.tif', './sample_data/output/NB1/LGP0.tif', lgp0)\n",
    "obj_utilities.saveRaster('./sample_data/input/LAO_Admin.tif', './sample_data/output/NB1/LGP5.tif', lgp5)\n",
    "obj_utilities.saveRaster('./sample_data/input/LAO_Admin.tif', './sample_data/output/NB1/LGP10.tif', lgp10)"
   ]
  },
  {
   "cell_type": "markdown",
   "metadata": {},
   "source": [
    "#### Temperature Sum"
   ]
  },
  {
   "cell_type": "code",
   "execution_count": null,
   "metadata": {},
   "outputs": [],
   "source": [
    "tsum0 = clim_reg.getTemperatureSum0()\n",
    "tsum5 = clim_reg.getTemperatureSum5()\n",
    "tsum10 = clim_reg.getTemperatureSum10()"
   ]
  },
  {
   "cell_type": "code",
   "execution_count": null,
   "metadata": {},
   "outputs": [],
   "source": [
    "'''save and visualize result'''\n",
    "\n",
    "plt.imshow(tsum0)\n",
    "plt.title('T Sum 0')\n",
    "plt.show()\n",
    "\n",
    "plt.imshow(tsum5)\n",
    "plt.title('T Sum 5')\n",
    "plt.show()\n",
    "\n",
    "plt.imshow(tsum10)\n",
    "plt.title('T Sum 10')\n",
    "plt.show()\n",
    "\n",
    "obj_utilities.saveRaster('./sample_data/input/LAO_Admin.tif', './sample_data/output/NB1/TSum0.tif', tsum0)\n",
    "obj_utilities.saveRaster('./sample_data/input/LAO_Admin.tif', './sample_data/output/NB1/TSum5.tif', tsum5)\n",
    "obj_utilities.saveRaster('./sample_data/input/LAO_Admin.tif', './sample_data/output/NB1/TSum10.tif', tsum10)"
   ]
  },
  {
   "cell_type": "markdown",
   "metadata": {},
   "source": [
    "#### Temperature Profile"
   ]
  },
  {
   "cell_type": "code",
   "execution_count": null,
   "metadata": {},
   "outputs": [],
   "source": [
    "tprofile = clim_reg.getTemperatureProfile()"
   ]
  },
  {
   "cell_type": "code",
   "execution_count": null,
   "metadata": {},
   "outputs": [],
   "source": [
    "'''save and visualize result'''\n",
    "\n",
    "tile_list = ['A9','A8','A7','A6','A5','A4','A3','A2','A1','B1','B2','B3','B4','B5','B6','B7','B8','B9']\n",
    "\n",
    "fig = plt.figure(figsize=(10,30))  \n",
    "for i1 in range(1,19):\n",
    "    plt.subplot(6, 3, i1)\n",
    "    plt.imshow(tprofile[i1-1])\n",
    "    plt.title(tile_list[i1-1]) \n",
    "plt.tight_layout()\n",
    "plt.show() \n",
    "\n",
    "for i1 in range(18):\n",
    "    obj_utilities.saveRaster('./sample_data/input/LAO_Admin.tif', './sample_data/output/NB1/TProfile_' + tile_list[i1] +'.tif', tprofile[i1])"
   ]
  },
  {
   "cell_type": "markdown",
   "metadata": {},
   "source": [
    "#### Length of Growing Periods (LGPs)"
   ]
  },
  {
   "cell_type": "code",
   "execution_count": null,
   "metadata": {},
   "outputs": [],
   "source": [
    "lgp = clim_reg.getLGP( Sa = 100 )\n",
    "lgp_class = clim_reg.getLGPClassified(lgp)\n",
    "lgp_equv = clim_reg.getLGPEquivalent()"
   ]
  },
  {
   "cell_type": "code",
   "execution_count": null,
   "metadata": {},
   "outputs": [],
   "source": [
    "'''save and visualize result'''\n",
    "\n",
    "plt.imshow(lgp)\n",
    "plt.title('LPG')\n",
    "plt.show()\n",
    "\n",
    "plt.imshow(lgp_class)\n",
    "plt.title('LPG Classified')\n",
    "plt.show()\n",
    "\n",
    "plt.imshow(lgp_equv)\n",
    "plt.title('LPG Equivalent')\n",
    "plt.show()\n",
    "\n",
    "obj_utilities.saveRaster('./sample_data/input/LAO_Admin.tif', './sample_data/output/NB1/LGP.tif', lgp)\n",
    "obj_utilities.saveRaster('./sample_data/input/LAO_Admin.tif', './sample_data/output/NB1/LGP_Class.tif', lgp_class)\n",
    "obj_utilities.saveRaster('./sample_data/input/LAO_Admin.tif', './sample_data/output/NB1/LGPEquivalent.tif', lgp_equv)"
   ]
  },
  {
   "cell_type": "markdown",
   "metadata": {},
   "source": [
    "#### Multi Cropping Zone"
   ]
  },
  {
   "cell_type": "code",
   "execution_count": null,
   "metadata": {},
   "outputs": [],
   "source": [
    "multi_c_zone = clim_reg.getMultiCroppingZones(tclimate, lgp, lgp5, lgp10, tsum0, tsum10)"
   ]
  },
  {
   "cell_type": "code",
   "execution_count": null,
   "metadata": {},
   "outputs": [],
   "source": [
    "'''save and visualize result'''\n",
    "\n",
    "plt.imshow(multi_c_zone)\n",
    "plt.title('Multi Cropping Zone')\n",
    "plt.show()\n",
    "\n",
    "obj_utilities.saveRaster('./sample_data/input/LAO_Admin.tif', './sample_data/output/NB1/MultiCropingZone.tif', multi_c_zone)"
   ]
  },
  {
   "cell_type": "code",
   "execution_count": null,
   "metadata": {},
   "outputs": [],
   "source": []
  },
  {
   "cell_type": "code",
   "execution_count": null,
   "metadata": {},
   "outputs": [],
   "source": []
  }
 ],
 "metadata": {
  "interpreter": {
   "hash": "fa9489abf449d62ccb581dc800a81c0e857bb034d28986d29b5f6ba7cc13dad2"
  },
  "kernelspec": {
   "display_name": "Python 3",
   "language": "python",
   "name": "python3"
  },
  "language_info": {
   "codemirror_mode": {
    "name": "ipython",
    "version": 3
   },
   "file_extension": ".py",
   "mimetype": "text/x-python",
   "name": "python",
   "nbconvert_exporter": "python",
   "pygments_lexer": "ipython3",
   "version": "3.8.8"
  }
 },
 "nbformat": 4,
 "nbformat_minor": 2
}
