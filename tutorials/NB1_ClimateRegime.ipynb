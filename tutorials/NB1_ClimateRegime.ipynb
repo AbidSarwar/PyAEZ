{
 "cells": [
  {
   "attachments": {},
   "cell_type": "markdown",
   "metadata": {},
   "source": [
    "# Notebook I - Climate Regime\n",
    "<hr>\n",
    "This module performs climate data analysis and compiling general agro-climatic indicators. These general agro-climatic indicators summarize climatic profiles in the study area for each grid. The key input data for this module is the climatic data, and the geographical and terrain data.\n",
    "\n",
    "Prepared by Geoinformatics Center, AIT\n",
    "<hr>\n"
   ]
  },
  {
   "attachments": {},
   "cell_type": "markdown",
   "metadata": {},
   "source": [
    "### Google drive connection\n",
    "In this step, we will connect to Google Drive service and mount the drive where we will start our PyAEZ project"
   ]
  },
  {
   "cell_type": "code",
   "execution_count": null,
   "metadata": {},
   "outputs": [],
   "source": [
    "# from google.colab import drive\n",
    "# drive.mount('/content/gdrive', force_remount=True)"
   ]
  },
  {
   "attachments": {},
   "cell_type": "markdown",
   "metadata": {},
   "source": [
    "Then, installing any additional python packages that required to run PyAEZ.\n",
    "If working on your own PC/machine, these additional installation will vary depending on what is already installed in your Python library. "
   ]
  },
  {
   "cell_type": "code",
   "execution_count": null,
   "metadata": {},
   "outputs": [],
   "source": [
    "# 'Installing neccessary packages'\n",
    "# !pip install gdal\n",
    "# # !pip install pyaez==2.1.0"
   ]
  },
  {
   "attachments": {},
   "cell_type": "markdown",
   "metadata": {},
   "source": [
    "Now, we will import the specific Python packages we need for PyAEZ."
   ]
  },
  {
   "cell_type": "code",
   "execution_count": null,
   "metadata": {},
   "outputs": [],
   "source": [
    "'''import supporting libraries'''\n",
    "import numpy as np\n",
    "import matplotlib.pyplot as plt\n",
    "import numpy as np\n",
    "import os\n",
    "try:\n",
    "    from osgeo import gdal\n",
    "except:\n",
    "    import gdal\n",
    "import sys"
   ]
  },
  {
   "attachments": {},
   "cell_type": "markdown",
   "metadata": {},
   "source": [
    "Setting the working directory -- where our PyAEZ project is located."
   ]
  },
  {
   "cell_type": "code",
   "execution_count": null,
   "metadata": {},
   "outputs": [],
   "source": [
    "'Set the working directory'\n",
    "# work_dir = r'/content/gdrive/MyDrive/PyAEZv2/'\n",
    "work_dir = r'D:\\PyAEZv2.1_Draft'\n",
    "os.chdir(work_dir)\n",
    "sys.path.append(work_dir+'/pyaez/')\n",
    "\n",
    "# !pwd\n",
    "os.getcwd()\n"
   ]
  },
  {
   "attachments": {},
   "cell_type": "markdown",
   "metadata": {},
   "source": [
    "<hr>\n",
    "\n",
    "## MODULE 1: CLIMATE REGIME\n",
    "Now, we will start executing the routines in Module 1\n",
    "\n",
    "\n",
    "First, we initiate Module 1 Class instance by invoking the following commands:"
   ]
  },
  {
   "cell_type": "code",
   "execution_count": null,
   "metadata": {},
   "outputs": [],
   "source": [
    "%load_ext autoreload\n",
    "%autoreload 2\n",
    "# Import Module 1 and initate Class intance\n",
    "from pyaez import ClimateRegime\n",
    "clim_reg = ClimateRegime.ClimateRegime()\n",
    "\n",
    "# Importing UtilitiesCalc\n",
    "from pyaez import UtilitiesCalc\n",
    "obj_util = UtilitiesCalc.UtilitiesCalc()\n"
   ]
  },
  {
   "attachments": {},
   "cell_type": "markdown",
   "metadata": {},
   "source": [
    "### Importing the climate dataset and the geographical data/rasters.\n",
    "\n",
    "The package expects six climate variables, as daily or monthly observations, as Numpy arrays.\n",
    "Arrays must be 3-dimensional, with the third axes containing the time dimension.\n",
    "Unit of measures are expected as follows:\n",
    "- Minimum temperature = Degree Celsius\n",
    "- Maximum temperature = Degree Celsius\n",
    "- Precipitation = Accumulated mm / day (or per month)\n",
    "- Solar radiation = W/m^2\n",
    "- Wind speed = Average m/s\n",
    "- Relative humidity = Average fraction (0 to 1)\n",
    "\n",
    "In addition to climate data, the system requires:\n",
    "- A binary admin_mask, with 0 and 1 values. 0 pixels values will be not executed, while 1 pixels values will be executed\n",
    "- An elevation layer\n",
    "- Soil/terrain/special land cover classes\n",
    "  \n",
    "\n",
    "**All the datasets must have the same shape.**"
   ]
  },
  {
   "cell_type": "code",
   "execution_count": null,
   "metadata": {},
   "outputs": [],
   "source": [
    "'''reading climate data'''\n",
    "# Importing the climate data\n",
    "max_temp = np.load(r'./data_input/climate/max_temp.npy')  # maximum temperature\n",
    "min_temp = np.load(r'./data_input/climate/min_temp.npy')  # minimum temperature\n",
    "precipitation = np.load(r'./data_input/climate/precipitation.npy')  # precipitation\n",
    "rel_humidity = np.load(r'./data_input/climate/relative_humidity.npy')  # relative humidity\n",
    "wind_speed = np.load(r'./data_input/climate/wind_speed.npy') # wind speed measured at two meters\n",
    "short_rad = np.load(r'./data_input/climate/short_rad.npy')  # shortwave radiation\n",
    "\n",
    "# Load the geographical data/rasters\n",
    "mask_path='./data_input/LAO_Admin.tif'\n",
    "mask = gdal.Open(mask_path).ReadAsArray()\n",
    "elevation = gdal.Open(r'./data_input/LAO_Elevation.tif').ReadAsArray()\n",
    "soil_terrain_lulc = gdal.Open(r'./data_input/LAO_soil_terrain_lulc.tif').ReadAsArray()"
   ]
  },
  {
   "attachments": {},
   "cell_type": "markdown",
   "metadata": {},
   "source": [
    "This section contains parameters that can be modified by the user:\n",
    "- lat_min = minimum latitude of analysis\n",
    "- lat_max = maximum latitude of analysis\n",
    "- mask_value = the value in the admin_mask to exclude from the analysis (typically 0)\n",
    "- daily = whether climate input data are daily (True) or monthly (False)"
   ]
  },
  {
   "cell_type": "code",
   "execution_count": null,
   "metadata": {},
   "outputs": [],
   "source": [
    "# Define the Area-Of-Interest's geographical extents\n",
    "lat_min = 13.87\n",
    "lat_max = 22.59\n",
    "mask_value = 0  # pixel value in admin_mask to exclude from the analysis\n",
    "daily = False #Type of climate data = True: daily, False: monthly"
   ]
  },
  {
   "attachments": {},
   "cell_type": "markdown",
   "metadata": {},
   "source": [
    "### Loading the imported data into the Object Class ('*clim_reg*' Class)"
   ]
  },
  {
   "cell_type": "code",
   "execution_count": null,
   "metadata": {},
   "outputs": [],
   "source": [
    "clim_reg.setStudyAreaMask(mask, mask_value)\n",
    "clim_reg.setLocationTerrainData(lat_min, lat_max, elevation)\n",
    "if daily:\n",
    "    clim_reg.setDailyClimateData(\n",
    "        min_temp, max_temp, precipitation, short_rad, wind_speed, rel_humidity)\n",
    "else:\n",
    "    clim_reg.setMonthlyClimateData(\n",
    "        min_temp, max_temp, precipitation, short_rad, wind_speed, rel_humidity)"
   ]
  },
  {
   "cell_type": "code",
   "execution_count": null,
   "metadata": {},
   "outputs": [],
   "source": [
    "'Releasing the memory of input climate data -- free up some RAM space'\n",
    "del(min_temp, max_temp, precipitation, short_rad, wind_speed, rel_humidity)"
   ]
  },
  {
   "attachments": {},
   "cell_type": "markdown",
   "metadata": {},
   "source": [
    "NOTE: After loading the data into the *clim_reg* Class, all the parameters will be converted to DAILY DATA and calculated as other parameters. \n",
    "These new parameters are available and can be called into use as:\n",
    "- *clim_reg.minT_daily* (minimum temperature)\n",
    "- *clim_reg.maxT_daily* (maximum temperature)\n",
    "- *clim_reg.meanT_daily* (mean temperature)\n",
    "- *clim_reg.meanT_daily_sealevel* (mean temperature, corrected to sea-level)\n",
    "- *clim_reg.totalPrec_daily* (total precipitation)\n",
    "- *clim_reg.pet_daily* (reference evapotranspiration, ETo)\n",
    "- *clim_reg.P_by_PET_daily* (ratio of precipitation over ETo)\n",
    "  \n"
   ]
  },
  {
   "attachments": {},
   "cell_type": "markdown",
   "metadata": {},
   "source": [
    "#### Thermal Climate\n",
    "The Thermal Climate function calculates and classifies latitudinal thermal climate, which will be used later in Module 2 for the assessment of potential crops and land utilization types (LUT) presence in each grid cell."
   ]
  },
  {
   "cell_type": "code",
   "execution_count": null,
   "metadata": {},
   "outputs": [],
   "source": [
    "tclimate = clim_reg.getThermalClimate()\n",
    "\n",
    "'''save and visualize result'''\n",
    "fig = plt.figure()\n",
    "plt.imshow(tclimate, cmap=plt.get_cmap('gist_ncar_r', 12),vmin=-0.3,vmax=12.5)\n",
    "plt.title('Thermal Climate')\n",
    "plt.colorbar()\n",
    "plt.savefig(\"./data_output/NB1/LAO_ThermalClimate.png\",bbox_inches =\"tight\",dpi=300) #Save as PNG image\n",
    "plt.show()\n",
    "\n",
    "obj_util.saveRaster(mask_path, './data_output/NB1/LAO_ThermalClimate.tif',tclimate) #Save as GeoTIFF raster"
   ]
  },
  {
   "attachments": {},
   "cell_type": "markdown",
   "metadata": {},
   "source": [
    "#### Thermal Zone\n",
    "The thermal zone is classified based on actual temperature which reflects on the temperature regimes of major thermal climates"
   ]
  },
  {
   "cell_type": "code",
   "execution_count": null,
   "metadata": {},
   "outputs": [],
   "source": [
    "tzone = clim_reg.getThermalZone()\n",
    "\n",
    "'''save and visualize result'''\n",
    "fig = plt.figure()\n",
    "plt.imshow(tzone, cmap=plt.get_cmap('gist_ncar_r', 12),vmin=-0.3,vmax=12.5)\n",
    "plt.title('Thermal Zones')\n",
    "plt.colorbar()\n",
    "plt.savefig(\"./data_output/NB1/LAO_ThermalZone.png\",bbox_inches =\"tight\",dpi=300) #Save as PNG image\n",
    "plt.show()\n",
    "\n",
    "obj_util.saveRaster(mask_path, './data_output/NB1/LAO_ThermalZone.tif',tzone) #Save as GeoTIFF raster"
   ]
  },
  {
   "attachments": {},
   "cell_type": "markdown",
   "metadata": {},
   "source": [
    "#### Thermal Length of Growing Period (LGP)\n",
    "The thermal length of growing period (LGPt) is defined as the number of days in a year during which the daily mean temperature (Ta) is conductive to crop growth and development. PyAEZ utilizes the AEZ three standard temperature thresholds for LGPt:\n",
    "- Periods with Ta>0°C (LGPt0)\n",
    "- Periods with Ta>5°C (LGPt5) – the period conductive to plant growth and development\n",
    "- Periods, and Ta>10°C (LGPt10) – a proxy for the period of low risks for late and early frost occurrences and termed ‘frost-free period’"
   ]
  },
  {
   "cell_type": "code",
   "execution_count": null,
   "metadata": {},
   "outputs": [],
   "source": [
    "lgpt0 = clim_reg.getThermalLGP0()\n",
    "lgpt5 = clim_reg.getThermalLGP5()\n",
    "lgpt10 = clim_reg.getThermalLGP10()"
   ]
  },
  {
   "cell_type": "code",
   "execution_count": null,
   "metadata": {},
   "outputs": [],
   "source": [
    "'''save and visualize result'''\n",
    "#======================\n",
    "plt.figure(1, figsize=(24, 8))\n",
    "plt.subplot(1, 3, 1)\n",
    "plt.imshow(lgpt0,vmin=0,vmax=366)\n",
    "plt.title('LGPt 0')\n",
    "plt.colorbar(shrink=0.8)\n",
    "#----------------------\n",
    "plt.subplot(1, 3, 2)\n",
    "plt.imshow(lgpt5, vmin=0, vmax=366)\n",
    "plt.title('LGPt 5')\n",
    "plt.colorbar(shrink=0.8)\n",
    "#----------------------\n",
    "plt.subplot(1, 3, 3)\n",
    "plt.imshow(lgpt10, vmin=0, vmax=366)\n",
    "plt.title('LGPt 10')\n",
    "plt.colorbar(shrink=0.8)\n",
    "#----------------------\n",
    "plt.savefig(\"./data_output/NB1/LAO_ThermalLGPs.png\",\n",
    "            bbox_inches=\"tight\", dpi=300)\n",
    "plt.show()\n",
    "#======================\n",
    "\n",
    "obj_util.saveRaster(mask_path, './data_output/NB1/LAO_LGPt0.tif', lgpt0)\n",
    "obj_util.saveRaster(mask_path, './data_output/NB1/LAO_LGPt5.tif', lgpt5)\n",
    "obj_util.saveRaster(mask_path, './data_output/NB1/LAO_LGPt10.tif', lgpt10)\n"
   ]
  },
  {
   "attachments": {},
   "cell_type": "markdown",
   "metadata": {},
   "source": [
    "#### Temperature Sum"
   ]
  },
  {
   "cell_type": "code",
   "execution_count": null,
   "metadata": {},
   "outputs": [],
   "source": [
    "tsum0 = clim_reg.getTemperatureSum0()\n",
    "tsum5 = clim_reg.getTemperatureSum5()\n",
    "tsum10 = clim_reg.getTemperatureSum10()"
   ]
  },
  {
   "cell_type": "code",
   "execution_count": null,
   "metadata": {},
   "outputs": [],
   "source": [
    "'''save and visualize result'''\n",
    "#======================\n",
    "plt.figure(1, figsize=(24, 8))\n",
    "plt.subplot(1, 3, 1)\n",
    "plt.imshow(tsum0, cmap='hot_r', vmin=0, vmax=11000)\n",
    "plt.title('T-sumation 0')\n",
    "plt.colorbar(shrink=0.8)\n",
    "#----------------------\n",
    "plt.subplot(1, 3, 2)\n",
    "plt.imshow(tsum5, cmap='hot_r', vmin=0, vmax=11000)\n",
    "plt.title('T-sumation 5')\n",
    "plt.colorbar(shrink=0.8)\n",
    "#----------------------\n",
    "plt.subplot(1, 3, 3)\n",
    "plt.imshow(tsum10, cmap='hot_r', vmin=0, vmax=11000)\n",
    "plt.title('T-sumation 10')\n",
    "plt.colorbar(shrink=0.8)\n",
    "#----------------------\n",
    "plt.savefig(\"./data_output/NB1/LAO_Tsum.png\",\n",
    "            bbox_inches=\"tight\", dpi=300)\n",
    "plt.show()\n",
    "#======================\n",
    "\n",
    "obj_util.saveRaster(mask_path, './data_output/NB1/LAO_tsum0.tif', tsum0)\n",
    "obj_util.saveRaster(mask_path, './data_output/NB1/LAO_tsum5.tif', tsum5)\n",
    "obj_util.saveRaster(mask_path, './data_output/NB1/LAO_tsum10.tif', tsum10)\n"
   ]
  },
  {
   "attachments": {},
   "cell_type": "markdown",
   "metadata": {},
   "source": [
    "#### Temperature Profile"
   ]
  },
  {
   "cell_type": "code",
   "execution_count": null,
   "metadata": {},
   "outputs": [],
   "source": [
    "tprofile = clim_reg.getTemperatureProfile()"
   ]
  },
  {
   "cell_type": "code",
   "execution_count": null,
   "metadata": {},
   "outputs": [],
   "source": [
    "'''save and visualize result'''\n",
    "\n",
    "tile_list = ['A9', 'A8', 'A7', 'A6', 'A5', 'A4', 'A3', 'A2',\n",
    "             'A1', 'B1', 'B2', 'B3', 'B4', 'B5', 'B6', 'B7', 'B8', 'B9']\n",
    "\n",
    "fig = plt.figure(figsize=(12, 20))\n",
    "for i1 in range(1, 19):\n",
    "    plt.subplot(6, 3, i1)\n",
    "    plt.imshow(tprofile[i1-1])\n",
    "    plt.title(tile_list[i1-1])\n",
    "    plt.colorbar(shrink=0.9)\n",
    "plt.tight_layout()\n",
    "\n",
    "plt.savefig(\"./data_output/NB1/LAO_Tprofiles.png\",\n",
    "            bbox_inches=\"tight\", dpi=300)\n",
    "plt.show()\n",
    "\n",
    "for i1 in range(18):\n",
    "    obj_util.saveRaster(\n",
    "        mask_path, './data_output/NB1/LAO_TProfile_' + tile_list[i1] + '.tif', tprofile[i1])\n",
    "    #obj_utilities.saveRaster('./sample_data/input/LAO_Admin.tif', './sample_data/output/NB1/TProfile_' + tile_list[i1] +'.tif', tprofile[i1])\n"
   ]
  },
  {
   "attachments": {},
   "cell_type": "markdown",
   "metadata": {},
   "source": [
    "#### Length of Growing Periods (LGPs)"
   ]
  },
  {
   "cell_type": "code",
   "execution_count": null,
   "metadata": {},
   "outputs": [],
   "source": [
    "lgp = clim_reg.getLGP(Sa=100., D=1.)\n",
    "lgp_class = clim_reg.getLGPClassified(lgp)\n",
    "lgp_equv = clim_reg.getLGPEquivalent()"
   ]
  },
  {
   "cell_type": "code",
   "execution_count": null,
   "metadata": {},
   "outputs": [],
   "source": [
    "'''save and visualize result'''\n",
    "\n",
    "plt.imshow(lgp, cmap='viridis', vmin=0, vmax=366)\n",
    "plt.title('LPG [days]')\n",
    "plt.colorbar()\n",
    "plt.savefig(\"./data_output/NB1/LAO_LGP.png\", bbox_inches=\"tight\", dpi=300)\n",
    "plt.show()\n",
    "\n",
    "\n",
    "plt.imshow(lgp_equv, cmap='viridis', vmin=0, vmax=366)\n",
    "plt.title('LPG Equivalent [days]')\n",
    "plt.colorbar()\n",
    "plt.savefig(\"./data_output/NB1/LAO_LGP_Equv.png\",\n",
    "            bbox_inches=\"tight\", dpi=300)\n",
    "plt.show()\n",
    "\n",
    "obj_util.saveRaster(mask_path, './data_output/NB1/LAO_LGP.tif', lgp)\n",
    "\n",
    "obj_util.saveRaster(mask_path, './data_output/NB1/LAO_LGPEquivalent.tif', lgp_equv)\n"
   ]
  },
  {
   "attachments": {},
   "cell_type": "markdown",
   "metadata": {},
   "source": [
    "#### Multi Cropping Zone\n",
    "Multiple cropping zones classification is an additional agro-climatic indicator, which relates to the possibility of cultivating multiple sequential crops under rain-fed and irrigated conditions."
   ]
  },
  {
   "cell_type": "code",
   "execution_count": null,
   "metadata": {},
   "outputs": [],
   "source": [
    "multi_crop = clim_reg.getMultiCroppingZones(tclimate, lgp, lgpt5, lgpt10, tsum0, tsum10)\n",
    "multi_crop_rainfed = multi_crop[0]  # for rainfed conditions\n",
    "multi_crop_irr = multi_crop[1]  # for irrigated conditions\n"
   ]
  },
  {
   "cell_type": "code",
   "execution_count": null,
   "metadata": {},
   "outputs": [],
   "source": [
    "'''save and visualize result'''\n",
    "\n",
    "plt.imshow(multi_crop_irr, cmap=plt.get_cmap('gist_ncar_r', 9), vmin=-0.2, vmax=8.4)\n",
    "plt.title('Multi Cropping Zone - IRR')\n",
    "plt.colorbar()\n",
    "plt.savefig(\"./data_output/NB1/LAO_multicrop_irr.png\", bbox_inches=\"tight\", dpi=300)\n",
    "plt.show()\n",
    "obj_util.saveRaster(\n",
    "    mask_path, './data_output/NB1/LAO_multicrop_irr.tif', multi_crop_irr)\n",
    "\n",
    "\n",
    "plt.imshow(multi_crop_rainfed,cmap=plt.get_cmap('gist_ncar_r', 9), vmin=-0.2, vmax=8.4)\n",
    "plt.title('Multi Cropping Zone - RAINFED')\n",
    "plt.colorbar()\n",
    "plt.savefig(\"./data_output/NB1/LAO_multicrop_rain.png\",bbox_inches=\"tight\", dpi=300)\n",
    "plt.show()\n",
    "obj_util.saveRaster(\n",
    "    mask_path, './data_output/NB1/LAO_multicrop_rain.tif', multi_crop_rainfed)\n"
   ]
  },
  {
   "attachments": {},
   "cell_type": "markdown",
   "metadata": {},
   "source": [
    "### Air Frost Index and Permafrost Evaluation\n",
    "Occurrence of continuous or discontinuous permafrost conditions are used in the suitability assessment. Permafrost areas are characterized by sub-soil at or below the freezing point for two or more years. In this section, PyAEZ utilizes the air frost index (FI) which is used to characterize climate-derived permafrost condition into 4 classes: \n",
    "1) Continuous permafrost\n",
    "2) Discontinuous permafrost \n",
    "3) Sporadic permafrost\n",
    "4) No permafrost"
   ]
  },
  {
   "cell_type": "code",
   "execution_count": null,
   "metadata": {},
   "outputs": [],
   "source": [
    "permafrost_eval = clim_reg.AirFrostIndexandPermafrostEvaluation()\n",
    "frost_index = permafrost_eval[0]\n",
    "permafrost = permafrost_eval[1]"
   ]
  },
  {
   "cell_type": "code",
   "execution_count": null,
   "metadata": {},
   "outputs": [],
   "source": [
    "'''save and visualize result'''\n",
    "\n",
    "plt.imshow(frost_index, cmap=plt.get_cmap(\n",
    "    'tab20b', 11), vmin=-0.05, vmax=1.05)\n",
    "plt.title('Frost Index')\n",
    "plt.colorbar()\n",
    "plt.savefig(\"./data_output/NB1/LAO_frost_index.png\",\n",
    "            bbox_inches=\"tight\", dpi=300)\n",
    "plt.show()\n",
    "obj_util.saveRaster(\n",
    "    mask_path, './data_output/NB1/LAO_frost_index.tif', frost_index)\n",
    "\n",
    "\n",
    "\n",
    "plt.imshow(permafrost, cmap=plt.get_cmap(\n",
    "    'tab20b', 5), vmin=-0.5, vmax=4.3)\n",
    "plt.title('Permafrost Evaluation')\n",
    "plt.colorbar()\n",
    "plt.savefig(\"./data_output/NB1/LAO_permafrost.png\",\n",
    "            bbox_inches=\"tight\", dpi=300)\n",
    "plt.show()\n",
    "obj_util.saveRaster(\n",
    "    mask_path, './data_output/NB1/LAO_permafrost.tif', permafrost)\n"
   ]
  },
  {
   "attachments": {},
   "cell_type": "markdown",
   "metadata": {},
   "source": [
    "### Fallow period requirement\n",
    "Fallow is an agricultural technique that consists of not sowing the arable land during one or more growing seasons. In AEZ framework, the fallow factors have been established by main crop groups and environmental conditions. The crop groups include cereals, legumes, roots and tubers, and a miscellaneous group consisting of long-term annuals/perennials. The fallow factors are expressed as percentage of time during the fallow-cropping cycle the land must be under fallow. PyAEZ determines the fallow requirements using Thermal Zones."
   ]
  },
  {
   "cell_type": "code",
   "execution_count": null,
   "metadata": {},
   "outputs": [],
   "source": [
    "tzone_fallow = clim_reg.TZoneFallowRequirement(tzone)\n",
    "\n",
    "'''save and visualize result'''\n",
    "fig = plt.figure()\n",
    "plt.imshow(tzone_fallow, cmap=plt.get_cmap('tab10', 7), vmin=-0.5, vmax=6.3)\n",
    "plt.title('Fallow Requirement')\n",
    "plt.colorbar()\n",
    "plt.savefig(\"./data_output/NB1/LAO_fallow.png\",\n",
    "            bbox_inches=\"tight\", dpi=300)\n",
    "plt.show()\n",
    "obj_util.saveRaster(\n",
    "    mask_path, './data_output/NB1/LAO_fallow.tif', tzone_fallow)\n"
   ]
  },
  {
   "attachments": {},
   "cell_type": "markdown",
   "metadata": {},
   "source": [
    "### Agro-ecological zones classification\n",
    "The agro-ecological zones (AEZ) methodology provides a framework for establishing a spatial inventory of land resources compiled from global/national environmental data sets and assembled to quantify multiple spatial characteristics required for the assessments of land productivity under location-specific agro-ecological conditions."
   ]
  },
  {
   "cell_type": "code",
   "execution_count": null,
   "metadata": {},
   "outputs": [],
   "source": [
    "aez = clim_reg.AEZClassification(\n",
    "    tclimate, lgp, lgp_equv, lgpt5, soil_terrain_lulc, permafrost)\n",
    "\n",
    "# now visualizing result\n",
    "fig = plt.figure()\n",
    "plt.imshow(aez, cmap=plt.get_cmap('rainbow', 59), vmin=0, vmax=59)\n",
    "plt.title('Agro-ecological Zonation')\n",
    "plt.colorbar()\n",
    "plt.savefig(\"./data_output/NB1/LAO_aez.png\",\n",
    "            bbox_inches=\"tight\", dpi=300)\n",
    "plt.show()\n",
    "obj_util.saveRaster(\n",
    "    mask_path, './data_output/NB1/LAO_aez.tif', aez)\n"
   ]
  },
  {
   "attachments": {},
   "cell_type": "markdown",
   "metadata": {},
   "source": [
    "<hr>\n",
    "\n",
    "### END OF MODULE 1: CLIMATE REGIME\n",
    "\n",
    "<hr>"
   ]
  }
 ],
 "metadata": {
  "kernelspec": {
   "display_name": "Python 3",
   "language": "python",
   "name": "python3"
  },
  "language_info": {
   "codemirror_mode": {
    "name": "ipython",
    "version": 3
   },
   "file_extension": ".py",
   "mimetype": "text/x-python",
   "name": "python",
   "nbconvert_exporter": "python",
   "pygments_lexer": "ipython3",
   "version": "3.9.13"
  },
  "vscode": {
   "interpreter": {
    "hash": "390afe2e4add36ac5081eea3b18628689702b35fe98af975b8a12b66cf07cbbd"
   }
  }
 },
 "nbformat": 4,
 "nbformat_minor": 2
}
