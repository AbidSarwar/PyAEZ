{
 "cells": [
  {
   "attachments": {},
   "cell_type": "markdown",
   "metadata": {},
   "source": [
    "<br>"
   ]
  },
  {
   "attachments": {},
   "cell_type": "markdown",
   "metadata": {},
   "source": [
    "# Notebook 2 - Crop Simulation\n",
    "\n",
    "<hr>\n",
    "This key module simulates all the possible crop cycles to  find the best crop cycle that produces maximum yield for a particular grid. During the simulation process for each grid, 365 crop cycle simulations are performed. Each simulation corresponds to cycles that start from each day of the year (starting from Julian date 0 to Julian date 365). Similarly, this process is performed by the program for each grid in the study area. \n",
    "\n",
    "Prepared by Geoinformatics Center, AIT\n",
    "<hr>\n"
   ]
  },
  {
   "attachments": {},
   "cell_type": "markdown",
   "metadata": {},
   "source": [
    "### Google drive connection\n",
    "In this step, we will connect to Google Drive service and mount the drive where we will start our PyAEZ project"
   ]
  },
  {
   "cell_type": "code",
   "execution_count": null,
   "metadata": {},
   "outputs": [],
   "source": [
    "# from google.colab import drive\n",
    "# drive.mount('/content/gdrive', force_remount=True)"
   ]
  },
  {
   "attachments": {},
   "cell_type": "markdown",
   "metadata": {},
   "source": [
    "Then, installing any additional python packages that required to run PyAEZ.\n",
    "If working on your own PC/machine, these additional installation will vary depending on what is already installed in your Python library. "
   ]
  },
  {
   "cell_type": "code",
   "execution_count": null,
   "metadata": {},
   "outputs": [],
   "source": [
    "# 'Installing neccessary packages'\n",
    "# !pip install gdal"
   ]
  },
  {
   "attachments": {},
   "cell_type": "markdown",
   "metadata": {},
   "source": [
    "Now, we will import the specific Python packages we need for PyAEZ."
   ]
  },
  {
   "cell_type": "code",
   "execution_count": null,
   "metadata": {},
   "outputs": [],
   "source": [
    "'''import supporting libraries'''\n",
    "import numpy as np\n",
    "import matplotlib.pyplot as plt\n",
    "import numpy as np\n",
    "import os\n",
    "try:\n",
    "    from osgeo import gdal\n",
    "except:\n",
    "    import gdal\n",
    "import sys"
   ]
  },
  {
   "attachments": {},
   "cell_type": "markdown",
   "metadata": {},
   "source": [
    "Setting the working directory -- where our PyAEZ project is located."
   ]
  },
  {
   "cell_type": "code",
   "execution_count": null,
   "metadata": {},
   "outputs": [],
   "source": [
    "'Set the working directory'\n",
    "work_dir = r'D:\\PyAEZv2.1_Draft'  # Please change this to your working directory\n",
    "os.chdir(work_dir)\n",
    "sys.path.append('./pyaez/')\n",
    "os.getcwd()\n"
   ]
  },
  {
   "attachments": {},
   "cell_type": "markdown",
   "metadata": {},
   "source": [
    "Check and create data output folder"
   ]
  },
  {
   "cell_type": "code",
   "execution_count": null,
   "metadata": {},
   "outputs": [],
   "source": [
    "import os\n",
    "folder_path = './data_output/NB2/'\n",
    "if not os.path.exists(folder_path):\n",
    "    os.makedirs(folder_path)\n",
    "    print(\"Folder created successfully.\")\n",
    "else:\n",
    "    print(\"Folder already exists.\")\n"
   ]
  },
  {
   "attachments": {},
   "cell_type": "markdown",
   "metadata": {},
   "source": [
    "<hr>\n",
    "\n",
    "## MODULE 2: CROP SIMULATION\n",
    "Now, we will start executing the routines in Module 2\n",
    "\n",
    "\n",
    "First, we initiate Module 2 Class instance by invoking the following commands:"
   ]
  },
  {
   "cell_type": "code",
   "execution_count": null,
   "metadata": {},
   "outputs": [],
   "source": [
    "'''importing library'''\n",
    "\n",
    "\n",
    "from pyaez import CropSimulation, UtilitiesCalc\n",
    "\n",
    "%load_ext autoreload\n",
    "%autoreload 2\n",
    "# Import Module 2 and initate Class intance\n",
    "\n",
    "aez = CropSimulation.CropSimulation()\n",
    "\n",
    "obj_util = UtilitiesCalc.UtilitiesCalc()\n"
   ]
  },
  {
   "attachments": {},
   "cell_type": "markdown",
   "metadata": {},
   "source": [
    "### Importing the climate dataset and the geographical data/rasters.\n",
    "\n",
    "The package expects six climate variables, as daily or monthly observations, as Numpy arrays.\n",
    "Arrays must be 3-dimensional, with the third axes containing the time dimension.\n",
    "Unit of measures are expected as follows:\n",
    "- Minimum temperature = Degree Celsius\n",
    "- Maximum temperature = Degree Celsius\n",
    "- Precipitation = Accumulated mm / day (or per month)\n",
    "- Solar radiation = W/m^2\n",
    "- Wind speed = Average m/s\n",
    "- Relative humidity = Average fraction (0 to 1)\n",
    "\n",
    "In addition to climate data, the system requires:\n",
    "- A binary admin_mask, with 0 and 1 values. 0 pixels values will be not executed, while 1 pixels values will be executed\n",
    "- An elevation layer\n",
    "- Soil/terrain/special land cover classes\n",
    "  \n",
    "\n",
    "**All the datasets must have the same shape.**\n",
    "\n",
    "\n",
    "## Reading Data"
   ]
  },
  {
   "cell_type": "code",
   "execution_count": null,
   "metadata": {},
   "outputs": [],
   "source": [
    "'''reading climate data'''\n",
    "# Importing the climate data\n",
    "max_temp = np.load(r'./data_input/climate/max_temp.npy')# maximum temperature\n",
    "min_temp = np.load(r'./data_input/climate/min_temp.npy')  # minimum temperature\n",
    "precipitation = np.load(r'./data_input/climate/precipitation.npy')  # precipitation\n",
    "rel_humidity = np.load(r'./data_input/climate/relative_humidity.npy') # relative humidity\n",
    "wind_speed = np.load(r'./data_input/climate/wind_speed.npy')# wind speed measured at two meters\n",
    "short_rad = np.load(r'./data_input/climate/short_rad.npy') # shortwave radiation\n",
    "\n",
    "# Load the geographical data/rasters\n",
    "mask_path = './data_input/LAO_Admin.tif'\n",
    "mask = gdal.Open(mask_path).ReadAsArray()\n",
    "elevation = gdal.Open(r'./data_input/LAO_Elevation.tif').ReadAsArray()\n",
    "soil_terrain_lulc = gdal.Open(r'./data_input/LAO_soil_terrain_lulc.tif').ReadAsArray()\n"
   ]
  },
  {
   "attachments": {},
   "cell_type": "markdown",
   "metadata": {},
   "source": [
    "This section contains parameters that can be modified by the user:\n",
    "- lat_min = minimum latitude of analysis\n",
    "- lat_max = maximum latitude of analysis\n",
    "- mask_value = the value in the admin_mask to exclude from the analysis (typically 0)\n",
    "- daily = whether climate input data are daily (True) or monthly (False)"
   ]
  },
  {
   "cell_type": "code",
   "execution_count": null,
   "metadata": {},
   "outputs": [],
   "source": [
    "# Define the Area-Of-Interest's geographical extents\n",
    "lat_min = 13.87\n",
    "lat_max = 22.59\n",
    "mask_value = 0  # pixel value in admin_mask to exclude from the analysis\n",
    "daily = False #Type of climate data = True: daily, False: monthly"
   ]
  },
  {
   "attachments": {},
   "cell_type": "markdown",
   "metadata": {},
   "source": [
    "### Loading the imported data into the Object Class ('*aez*' Class)"
   ]
  },
  {
   "cell_type": "code",
   "execution_count": null,
   "metadata": {
    "scrolled": false
   },
   "outputs": [],
   "source": [
    "aez.setStudyAreaMask(mask, mask_value)\n",
    "aez.setLocationTerrainData(lat_min, lat_max, elevation)\n",
    "if daily:\n",
    "    aez.setDailyClimateData(\n",
    "        min_temp, max_temp, precipitation, short_rad, wind_speed, rel_humidity)\n",
    "else:\n",
    "    aez.setMonthlyClimateData(\n",
    "        min_temp, max_temp, precipitation, short_rad, wind_speed, rel_humidity)\n"
   ]
  },
  {
   "attachments": {},
   "cell_type": "markdown",
   "metadata": {
    "id": "0q0HQK60igbO"
   },
   "source": [
    "### Setting up the crop parameter/ crop cycle parameter and soil water parameters (Mandatory)"
   ]
  },
  {
   "cell_type": "code",
   "execution_count": null,
   "metadata": {
    "id": "akwy5gzRifuP"
   },
   "outputs": [],
   "source": [
    "# setting up the crop parameters, crop cycle and soil water parameters ***mandatory step\n",
    "# New function, reading crop-specific biomass/yield loss/TSUM screening factors from excel sheet, xlsx file.\n",
    "aez.readCropandCropCycleParameters(file_path = r'./data_input/input_crop_TSUM_parameters_maiz_sugar.xlsx', \n",
    "                                   crop_name = 'sugarcane')\n",
    "\n",
    "\n",
    "aez.setSoilWaterParameters(Sa= 100*np.ones((mask.shape)), pc=0.5)"
   ]
  },
  {
   "attachments": {},
   "cell_type": "markdown",
   "metadata": {
    "id": "k-0QnnwBkkCm"
   },
   "source": [
    "### Setting up the thermal screening parameters (Optional)"
   ]
  },
  {
   "cell_type": "code",
   "execution_count": null,
   "metadata": {},
   "outputs": [],
   "source": [
    "# If you're simulating perennial crops, this thermal screening is mandatory\n",
    "# Compute Thermal Climate\n",
    "tclimate = aez.getThermalClimate()\n",
    "\n",
    "# Compute permafrost\n",
    "permafrost_eval = aez.AirFrostIndexandPermafrostEvaluation()\n",
    "frost_index = permafrost_eval[0]\n",
    "permafrost_class = permafrost_eval[1]\n",
    "# tclimate = gdal.Open(\"./data_output/NB1/LAO_ThermalClimate.tif\").ReadAsArray()# User to change this TClimate file \n",
    "# permafrost_class = gdal.Open(\"./data_output/NB1/LAO_permafrost.tif\").ReadAsArray()# User to change this permafrost file\n",
    "\n",
    "# Thermal Climate screening\n",
    "aez.setThermalClimateScreening(tclimate, no_t_climate=[2,6,7,8,9,10,11,12])\n",
    "\n",
    "# New Thermal Screening: Permafrost Screening\n",
    "aez.setPermafrostScreening(permafrost_class= permafrost_class)\n",
    "\n",
    "# Updated Temperature Profile screenign routine\n",
    "aez.setupTypeBConstraint(file_path = r'./data_input/crop-specific_rule_maiz_sugar.xlsx', \n",
    "                         crop_name = 'sugarcane')\n",
    "\n",
    "# Is the crop perennial? (True/False)\n",
    "is_perennial = True"
   ]
  },
  {
   "attachments": {},
   "cell_type": "markdown",
   "metadata": {},
   "source": [
    "### Perennial Adjustment (Mandatory Step for Perennials)\n"
   ]
  },
  {
   "cell_type": "code",
   "execution_count": null,
   "metadata": {},
   "outputs": [],
   "source": [
    "# Create climatic indicators independently in this notebook\n",
    "lgpt5 = aez.getThermalLGP5()\n",
    "lgpt10 = aez.getThermalLGP10()\n",
    "lgp = aez.getLGP(Sa=100, D=1) #has to be after LGPt are computed\n",
    "\n",
    "# Uncomment and change file path if you would like to load\n",
    "# the TIFF file saved from NB1\n",
    "# lgp = gdal.Open(\"./data_output/NB1/LAO_LGP.tif\").ReadAsArray() # length of growing period\n",
    "# lgpt5 = gdal.Open(\"./data_output/NB1/LAO_LGPt5.tif\").ReadAsArray()# temperature growing period 5 deg\n",
    "# lgpt10 = gdal.Open(\"./data_output/NB1/LAO_LGPt10.tif\").ReadAsArray() # temperature growing period 10 deg\n",
    "\n",
    "aez.ImportLGPandLGPTforPerennial(lgp, lgpt5, lgpt10)"
   ]
  },
  {
   "attachments": {},
   "cell_type": "markdown",
   "metadata": {
    "id": "k-0QnnwBkkCm"
   },
   "source": [
    "### Simulate crop cycle\n"
   ]
  },
  {
   "cell_type": "code",
   "execution_count": null,
   "metadata": {
    "scrolled": true
   },
   "outputs": [],
   "source": [
    "'''run simulations'''\n",
    "aez.simulateCropCycle( start_doy=1, end_doy=365, step_doy=1, leap_year=False) # results are in kg / hectare"
   ]
  },
  {
   "attachments": {},
   "cell_type": "markdown",
   "metadata": {
    "id": "GKD3JNSsrg8Q"
   },
   "source": [
    "### Maximum Attainable Yield for Rainfed and Irrigated Condition/ Optimum starting date\n",
    "\n",
    "\n",
    "Yield Classification\n",
    "1.   not suitable (yields between 0% and 20%)\n",
    "2.   marginally suitable (yields between 20% and 40%)\n",
    "3.   moderately suitable (yields between 40% and 60%)\n",
    "4. suitable (yields between 60% and 80%)\n",
    "5. very suitable (yields are equivalent to 80% or more of the overall maximum yield)\n",
    "\n"
   ]
  },
  {
   "cell_type": "code",
   "execution_count": null,
   "metadata": {},
   "outputs": [],
   "source": [
    "# Now, showing the estimated and highly obtainable yield of a particular crop, results are in kg / hectare\n",
    "yield_map_rain = aez.getEstimatedYieldRainfed()  # for rainfed\n",
    "yield_map_irr = aez.getEstimatedYieldIrrigated()  # for irrigated\n",
    "\n",
    "# Optimum cycle start date, the date when the highest yield are produced referenced from the start of crop cycle\n",
    "starting_date_rain = aez.getOptimumCycleStartDateRainfed()\n",
    "starting_date_irr = aez.getOptimumCycleStartDateIrrigated()\n",
    "\n",
    "## get classified output of yield\n",
    "# yield_map_rain_class = obj_util.classifyFinalYield(yield_map_rain)\n",
    "# yield_map_irr_class = obj_util.classifyFinalYield(yield_map_irr)\n"
   ]
  },
  {
   "cell_type": "code",
   "execution_count": null,
   "metadata": {},
   "outputs": [],
   "source": [
    "'''visualize result'''\n",
    "\n",
    "\"\"\"Yield Maps\"\"\"\n",
    "plt.imshow(yield_map_rain, vmax = np.max([yield_map_irr, yield_map_rain]), vmin = 0)\n",
    "plt.colorbar()\n",
    "plt.title('Rainfed Yield')\n",
    "plt.show()\n",
    "\n",
    "plt.imshow(yield_map_irr, vmax = np.max([yield_map_irr, yield_map_rain]), vmin = 0)\n",
    "plt.colorbar()\n",
    "plt.title('Irrigated Yield')\n",
    "plt.show()\n",
    "\n",
    "\"\"\"Starting Date (Crop Calendar)\"\"\"\n",
    "plt.imshow(starting_date_rain, vmin= 0, vmax = 366)\n",
    "plt.colorbar()\n",
    "plt.title('Starting Date Rainfed')\n",
    "plt.show()\n",
    "\n",
    "plt.imshow(starting_date_irr, vmin= 0, vmax = 366)\n",
    "plt.colorbar()\n",
    "plt.title('Starting Date Irrigated')\n",
    "plt.show()\n",
    "\n",
    "\"\"\"Classified Yield\"\"\"\n",
    "# plt.imshow(yield_map_rain_class)\n",
    "# plt.colorbar()\n",
    "# plt.title('Classified Rainfed Yield')\n",
    "# plt.show()\n",
    "# plt.imshow(yield_map_irr_class)\n",
    "# plt.colorbar()\n",
    "# plt.show('Classified Irrigated Yield')\n",
    "# plt.show()"
   ]
  },
  {
   "cell_type": "code",
   "execution_count": null,
   "metadata": {},
   "outputs": [],
   "source": [
    "# '''save result'''\n",
    "\n",
    "obj_util.saveRaster(r'.\\data_input\\LAO_Admin.tif', r'.\\data_output\\NB2\\sugar_yield_rain.tif', yield_map_rain)\n",
    "obj_util.saveRaster(r'.\\data_input\\LAO_Admin.tif', r'.\\data_output\\NB2\\sugar_yield_irr.tif', yield_map_irr)\n",
    "\n",
    "obj_util.saveRaster(r'.\\data_input\\LAO_Admin.tif', r'.\\data_output\\NB2\\sugar_starting_date_rain.tif', starting_date_rain)\n",
    "obj_util.saveRaster(r'.\\data_input\\LAO_Admin.tif', r'.\\data_output\\NB2\\sugar_starting_date_irr.tif', starting_date_irr)\n",
    "\n",
    "# obj_utilities.saveRaster(r'.\\data_input\\LAO_Admin.tif', r'.\\data_output\\NB2\\CropSuitability_rain_class.tif',yield_map_rain_class)\n",
    "# obj_utilities.saveRaster(r'.\\data_input\\LAO_Admin.tif', r'.\\data_output\\NB2\\CropSuitability_irr_class.tif',yield_map_irr_class)"
   ]
  },
  {
   "cell_type": "code",
   "execution_count": null,
   "metadata": {},
   "outputs": [],
   "source": [
    "\"\"\" New outputs from crop simulation: Moisture reduction factor (fc2) \"\"\"\n",
    "\n",
    "\"\"\"\n",
    "Perennials are considered no limitation due to moisture deficit/ This function is exclusive to non-perennials.\n",
    "No need to run this cell for perennials. \n",
    "\"\"\"\n",
    "\n",
    "if is_perennial:\n",
    "    pass\n",
    "else:\n",
    "    fc2 = aez.getMoistureReductionFactor()\n",
    "    \"\"\"visualizing the result\"\"\"\n",
    "    plt.imshow(fc2, vmin= 0, vmax = 1)\n",
    "    plt.colorbar()\n",
    "    plt.title('fc2 (Moisture limited reduction factor)')\n",
    "    plt.show()\n"
   ]
  },
  {
   "cell_type": "code",
   "execution_count": null,
   "metadata": {},
   "outputs": [],
   "source": [
    "# New outputs from crop simulation: Thermal reduction factor (fc1)\n",
    "\n",
    "# Perennial will provide a python list of 2D np arrays as [fc1_rainfed, fc2_irrigated]\n",
    "fc1 = aez.getThermalReductionFactor()\n",
    "\n",
    "if type(fc1) == list:\n",
    "    fc1_rain = fc1[0] # fc1 for rainfed conditions\n",
    "    fc1_irr = fc1[1] # fc1 for irrigated conditions\n",
    "\n",
    "    \"\"\"visualizing the result\"\"\"\n",
    "    plt.imshow(fc1_rain, vmin= 0, vmax = 1)\n",
    "    plt.colorbar()\n",
    "    plt.title('Thermal reduction factor rainfed')\n",
    "    plt.show()\n",
    "\n",
    "    \"\"\"visualizing the result\"\"\"\n",
    "    plt.imshow(fc1_irr, vmin= 0, vmax = 1)\n",
    "    plt.colorbar()\n",
    "    plt.title('Thermal reduction factor irrigated')\n",
    "    plt.show()\n",
    "else:\n",
    "    \"\"\"visualizing the result\"\"\"\n",
    "    plt.imshow(fc1, vmin= 0, vmax = 1)\n",
    "    plt.colorbar()\n",
    "    plt.title('Thermal reduction factor (both conditions)')\n",
    "    plt.show()"
   ]
  },
  {
   "cell_type": "code",
   "execution_count": null,
   "metadata": {},
   "outputs": [],
   "source": [
    "\"\"\"Saving the thermal reduction factor as rasters\"\"\"\n",
    "\n",
    "if type(fc1)==list:\n",
    "    obj_util.saveRaster(r'.\\data_input\\LAO_Admin.tif', r'.\\data_output\\NB2\\sugar_fc1_rain.tif',fc1[0])\n",
    "    obj_util.saveRaster(r'.\\data_input\\LAO_Admin.tif', r'.\\data_output\\NB2\\sugar_fc1_irr.tif',fc1[1])\n",
    "else:\n",
    "    obj_util.saveRaster(r'.\\data_input\\LAO_Admin.tif', r'.\\data_output\\NB2\\sugar_fc1.tif',fc1)\n",
    "\n"
   ]
  },
  {
   "cell_type": "code",
   "execution_count": null,
   "metadata": {},
   "outputs": [],
   "source": [
    "\"\"\"Saving the moisture reduction factor as raster. Skip this for perennials\"\"\"\n",
    "if is_perennial:\n",
    "    pass\n",
    "else:\n",
    "    obj_util.saveRaster(r'.\\data_input\\LAO_Admin.tif', r'.\\data_output\\NB2\\sugar_fc2.tif',fc2)"
   ]
  },
  {
   "attachments": {},
   "cell_type": "markdown",
   "metadata": {},
   "source": [
    "<hr>\n",
    "\n",
    "### END OF MODULE 2: CROP SIMULATION\n",
    "\n",
    "<hr>"
   ]
  }
 ],
 "metadata": {
  "kernelspec": {
   "display_name": "Python 3 (ipykernel)",
   "language": "python",
   "name": "python3"
  },
  "language_info": {
   "codemirror_mode": {
    "name": "ipython",
    "version": 3
   },
   "file_extension": ".py",
   "mimetype": "text/x-python",
   "name": "python",
   "nbconvert_exporter": "python",
   "pygments_lexer": "ipython3",
   "version": "3.10.11"
  },
  "vscode": {
   "interpreter": {
    "hash": "1a1af0ee75eeea9e2e1ee996c87e7a2b11a0bebd85af04bb136d915cefc0abce"
   }
  }
 },
 "nbformat": 4,
 "nbformat_minor": 2
}
