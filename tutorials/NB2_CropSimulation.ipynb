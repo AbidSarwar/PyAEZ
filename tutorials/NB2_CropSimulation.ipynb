{
 "cells": [
  {
   "cell_type": "markdown",
   "metadata": {
    "id": "mRbqt1RgvivS"
   },
   "source": [
    "<br>"
   ]
  },
  {
   "cell_type": "markdown",
   "metadata": {
    "id": "UyWnMyfJvivY"
   },
   "source": [
    "# Notebook 2 - Crop Simulation\n",
    "\n",
    "<hr>\n",
    "This key module simulates all the possible crop cycles to  find the best crop cycle that produces maximum yield for a particular grid. During the simulation process for each grid, 365 crop cycle simulations are performed. Each simulation corresponds to cycles that start from each day of the year (starting from Julian date 0 to Julian date 365). Similarly, this process is performed by the program for each grid in the study area. \n",
    "\n",
    "Prepared by Geoinformatics Center, AIT\n",
    "<hr>\n"
   ]
  },
  {
   "cell_type": "markdown",
   "metadata": {
    "id": "dogzzpELviva"
   },
   "source": [
    "### Google drive connection\n",
    "In this step, we will connect to Google Drive service and mount the drive where we will start our PyAEZ project"
   ]
  },
  {
   "cell_type": "code",
   "execution_count": null,
   "metadata": {
    "id": "Hg3rKX2Zvivb"
   },
   "outputs": [],
   "source": [
    "# from google.colab import drive\n",
    "# drive.mount('/content/gdrive', force_remount=True)"
   ]
  },
  {
   "cell_type": "markdown",
   "metadata": {
    "id": "5StDcSI5vivc"
   },
   "source": [
    "Then, installing any additional python packages that required to run PyAEZ.\n",
    "If working on your own PC/machine, these additional installation will vary depending on what is already installed in your Python library. "
   ]
  },
  {
   "cell_type": "code",
   "execution_count": 1,
   "metadata": {
    "id": "KbgZv37Rvivd"
   },
   "outputs": [],
   "source": [
    "# 'Installing neccessary packages'\n",
    "# !pip install gdal\n",
    "# # !pip install pyaez==2.0.0"
   ]
  },
  {
   "cell_type": "markdown",
   "metadata": {
    "id": "IjcvrW78vivd"
   },
   "source": [
    "Now, we will import the specific Python packages we need for PyAEZ."
   ]
  },
  {
   "cell_type": "code",
   "execution_count": 2,
   "metadata": {
    "id": "uIsCbRERvive"
   },
   "outputs": [],
   "source": [
    "'''import supporting libraries'''\n",
    "import numpy as np\n",
    "import matplotlib.pyplot as plt\n",
    "import numpy as np\n",
    "import os\n",
    "try:\n",
    "    from osgeo import gdal\n",
    "except:\n",
    "    import gdal\n",
    "import sys"
   ]
  },
  {
   "cell_type": "markdown",
   "metadata": {
    "id": "FaR4AduNvivf"
   },
   "source": [
    "Setting the working directory -- where our PyAEZ project is located."
   ]
  },
  {
   "cell_type": "code",
   "execution_count": 3,
   "metadata": {
    "colab": {
     "base_uri": "https://localhost:8080/"
    },
    "executionInfo": {
     "elapsed": 319,
     "status": "ok",
     "timestamp": 1669251089224,
     "user": {
      "displayName": "Kittiphon Boonma",
      "userId": "12978929851753297733"
     },
     "user_tz": -420
    },
    "id": "38Tr2F2zvivg",
    "outputId": "ceadd174-0473-4ad5-bb5a-61107584543e"
   },
   "outputs": [
    {
     "name": "stdout",
     "output_type": "stream",
     "text": [
      "/Volumes/GoogleDrive/My Drive/PyAEZv2\r\n"
     ]
    }
   ],
   "source": [
    "'Set the working directory'\n",
    "# Replace with path to your PyAEZv2 folder\n",
    "work_dir = '/Volumes/GoogleDrive/My Drive/PyAEZv2'\n",
    "os.chdir(work_dir)\n",
    "sys.path.append('./pyaez/')\n",
    "!pwd\n",
    "\n",
    "# Check whether the specified path exists or not\n",
    "out_path = './data_output/NB2/'\n",
    "isExist = os.path.exists(out_path)\n",
    "if not isExist:\n",
    "   # Create a new directory because it does not exist\n",
    "   os.makedirs(out_path)\n",
    "   print(\"The new directory is created!\")\n"
   ]
  },
  {
   "cell_type": "markdown",
   "metadata": {
    "id": "BepjZiVqvivi"
   },
   "source": [
    "<hr>\n",
    "\n",
    "## MODULE 2: CROP SIMULATION\n",
    "Now, we will start executing the routines in Module 2\n",
    "\n",
    "\n",
    "First, we initiate Module 2 Class instance by invoking the following commands:"
   ]
  },
  {
   "cell_type": "code",
   "execution_count": 4,
   "metadata": {
    "id": "6lZ_yCzovivj"
   },
   "outputs": [],
   "source": [
    "'''importing library'''\n",
    "# Import Module 2 and initate Class intance\n",
    "import CropSimulation\n",
    "aez = CropSimulation.CropSimulation()\n",
    "\n",
    "# Importing UtilitiesCalc\n",
    "import UtilitiesCalc\n",
    "obj_utilities = UtilitiesCalc.UtilitiesCalc()\n"
   ]
  },
  {
   "cell_type": "markdown",
   "metadata": {
    "id": "2_D9bgxhvivj"
   },
   "source": [
    "### Importing the climate dataset and the geographical data/rasters.\n",
    "\n",
    "The package expects six climate variables, as daily or monthly observations, as Numpy arrays.\n",
    "Arrays must be 3-dimensional, with the third axes containing the time dimension.\n",
    "Unit of measures are expected as follows:\n",
    "- Minimum temperature = Degree Celsius\n",
    "- Maximum temperature = Degree Celsius\n",
    "- Precipitation = Accumulated mm / day (or per month)\n",
    "- Solar radiation = W/m$^2$\n",
    "- Wind speed = Average m/s\n",
    "- Relative humidity = Average fraction (0 to 1)\n",
    "\n",
    "In addition to climate data, the system requires:\n",
    "- A binary admin_mask, with 0 and 1 values. 0 pixels values will be not executed, while 1 pixels values will be executed\n",
    "- An elevation layer\n",
    "- Soil/terrain/special land cover classes\n",
    "  \n",
    "\n",
    "**All the datasets must have the same shape.**## Reading Data"
   ]
  },
  {
   "cell_type": "code",
   "execution_count": 5,
   "metadata": {
    "id": "M2rQyRIBvivk"
   },
   "outputs": [],
   "source": [
    "'''reading climate data'''\n",
    "# Importing the climate data\n",
    "max_temp = np.load(r'./data_input/climate/max_temp.npy')  # maximum temperature\n",
    "min_temp = np.load(r'./data_input/climate/min_temp.npy')  # minimum temperature\n",
    "precipitation = np.load(r'./data_input/climate/precipitation.npy')  # precipitation\n",
    "rel_humidity = np.load(r'./data_input/climate/relative_humidity.npy')  # relative humidity\n",
    "wind_speed = np.load(r'./data_input/climate/wind_speed.npy')# wind speed measured at two meters\n",
    "short_rad = np.load(r'./data_input/climate/short_rad.npy') # shortwave radiation\n",
    "\n",
    "# Load the geographical data/rasters\n",
    "mask_path = r'./data_input/LAO_Admin.tif'\n",
    "mask = gdal.Open(mask_path).ReadAsArray()\n",
    "elevation = gdal.Open(r'./data_input/LAO_Elevation.tif').ReadAsArray()\n",
    "soil_terrain_lulc = gdal.Open(r'./data_input/LAO_soil_terrain_lulc.tif').ReadAsArray()\n"
   ]
  },
  {
   "cell_type": "markdown",
   "metadata": {
    "id": "-mlrUJgtvivl"
   },
   "source": [
    "This section contains parameters that can be modified by the user:\n",
    "- lat_min = minimum latitude of analysis\n",
    "- lat_max = maximum latitude of analysis\n",
    "- mask_value = the value in the admin_mask to exclude from the analysis (typically 0)\n",
    "- daily = whether climate input data are daily (True) or monthly (False)"
   ]
  },
  {
   "cell_type": "code",
   "execution_count": 6,
   "metadata": {
    "id": "cQ8j8a3Tvivl"
   },
   "outputs": [],
   "source": [
    "# Define the Area-Of-Interest's geographical extents\n",
    "lat_min = 13.87\n",
    "lat_max = 22.59\n",
    "mask_value = 0  # pixel value in admin_mask to exclude from the analysis\n",
    "daily = False #Type of climate data = True: daily, False: monthly"
   ]
  },
  {
   "cell_type": "markdown",
   "metadata": {
    "id": "5Ajh0N0rvivm"
   },
   "source": [
    "### Loading the imported data into the Object Class ('*aez*' Class)"
   ]
  },
  {
   "cell_type": "code",
   "execution_count": 7,
   "metadata": {
    "id": "0D8_uencvivm",
    "scrolled": false
   },
   "outputs": [],
   "source": [
    "aez.setStudyAreaMask(mask, mask_value)\n",
    "aez.setLocationTerrainData(lat_min, lat_max, elevation)\n",
    "if daily:\n",
    "    aez.setDailyClimateData(\n",
    "        min_temp, max_temp, precipitation, short_rad, wind_speed, rel_humidity)\n",
    "else:\n",
    "    aez.setMonthlyClimateData(min_temp, max_temp, precipitation, short_rad, wind_speed, rel_humidity)\n"
   ]
  },
  {
   "cell_type": "markdown",
   "metadata": {
    "id": "0q0HQK60igbO"
   },
   "source": [
    "### Setting up the crop parameter/ crop cycle parameter and soil water parameters (Mandatory)"
   ]
  },
  {
   "cell_type": "code",
   "execution_count": 8,
   "metadata": {
    "id": "akwy5gzRifuP"
   },
   "outputs": [],
   "source": [
    "# setting up the crop parameters, crop cycle and soil water parameters ***mandatory step\n",
    "aez.setCropParameters(LAI=2.3, HI=0.33, legume=0, adaptability=4, cycle_len=115, D1=0.3, D2=1)\n",
    "\n",
    "aez.setCropCycleParameters(stage_per=[16, 26, 33, 25], kc=[0.3, 1.2, 0.5], kc_all=0.85, yloss_f=[0.4, 0.4, 0.9, 0.5], yloss_f_all=1.25)\n",
    "\n",
    "aez.setSoilWaterParameters(Sa= 100*np.ones((mask.shape)), pc=0.5)"
   ]
  },
  {
   "cell_type": "markdown",
   "metadata": {
    "id": "k-0QnnwBkkCm"
   },
   "source": [
    "### Setting up the thermal screening parameters (Optional)"
   ]
  },
  {
   "cell_type": "code",
   "execution_count": 13,
   "metadata": {
    "id": "zd3ro1fBvivo"
   },
   "outputs": [],
   "source": [
    "# Uncomment these screening options -- depend from case-to-case\n",
    "tclimate = gdal.Open(\"./data_output/NB1/LAO_ThermalClimate.tif\").ReadAsArray() # User to change this TClimate file \n",
    "\n",
    "## Thermal Climate screening\n",
    "aez.setThermalClimateScreening(tclimate, no_t_climate=[2, 5, 6])\n",
    "\n",
    "## Temperature Growing Period Screening \n",
    "aez.setLGPTScreening(no_lgpt=[75,75,75], optm_lgpt=[105,105,105])\n",
    "\n",
    "## Temperature Summation Screening \n",
    "# aez.setTSumScreening(no_Tsum=[2100, 3600], optm_Tsum=[2300, 3150])\n",
    "\n",
    "## Temperature Profile Screening \n",
    "# aez.setTProfileScreening(no_Tprofile=[], optm_Tprofile=[])\n"
   ]
  },
  {
   "cell_type": "markdown",
   "metadata": {},
   "source": [
    "### Adjustment for Perennial Crop (optional)"
   ]
  },
  {
   "cell_type": "code",
   "execution_count": 14,
   "metadata": {},
   "outputs": [],
   "source": [
    "# If you're working with perennial crops, this adjustment is a mandatory step\n",
    "# to do\n",
    "\n",
    "## an example for sugarcane,\n",
    "#aez.adjustForPerennialCrop(aLAI=70, bLAI=200, aHI=120, bHI=180)\n",
    "\n",
    "# but we're using non-perennial crop, so we can skip this step.\n"
   ]
  },
  {
   "cell_type": "markdown",
   "metadata": {
    "id": "6nasET1jvivo"
   },
   "source": [
    "### Simulate crop cycle\n"
   ]
  },
  {
   "cell_type": "code",
   "execution_count": 15,
   "metadata": {
    "colab": {
     "base_uri": "https://localhost:8080/",
     "height": 356
    },
    "executionInfo": {
     "elapsed": 371,
     "status": "error",
     "timestamp": 1669252728293,
     "user": {
      "displayName": "Kittiphon Boonma",
      "userId": "12978929851753297733"
     },
     "user_tz": -420
    },
    "id": "69HDg1x3vivo",
    "outputId": "f80f715b-94a7-49d3-c0fa-5a014e4b3214",
    "scrolled": true
   },
   "outputs": [
    {
     "name": "stdout",
     "output_type": "stream",
     "text": [
      "Done: 0 %\n",
      "Done: 0 %\n",
      "Done: 0 %\n",
      "Done: 0 %\n",
      "Done: 0 %\n",
      "Done: 0 %\n",
      "Done: 0 %\n",
      "Done: 0 %\n",
      "Done: 0 %\n",
      "Done: 0 %\n",
      "Done: 0 %\n",
      "Done: 1 %\n",
      "Done: 1 %\n",
      "Done: 1 %\n",
      "Done: 1 %\n",
      "Done: 1 %\n",
      "Done: 2 %\n",
      "Done: 2 %\n",
      "Done: 2 %\n",
      "Done: 2 %\n",
      "Done: 3 %\n",
      "Done: 3 %\n",
      "Done: 3 %\n",
      "Done: 3 %\n",
      "Done: 4 %\n",
      "Done: 4 %\n",
      "Done: 4 %\n",
      "Done: 5 %\n",
      "Done: 5 %\n",
      "Done: 5 %\n",
      "Done: 6 %\n",
      "Done: 6 %\n",
      "Done: 6 %\n",
      "Done: 7 %\n",
      "Done: 8 %\n",
      "Done: 8 %\n",
      "Done: 9 %\n",
      "Done: 9 %\n",
      "Done: 10 %\n",
      "Done: 11 %\n",
      "Done: 12 %\n",
      "Done: 12 %\n",
      "Done: 13 %\n",
      "Done: 14 %\n",
      "Done: 15 %\n",
      "Done: 16 %\n",
      "Done: 17 %\n",
      "Done: 18 %\n",
      "Done: 19 %\n",
      "Done: 20 %\n",
      "Done: 21 %\n",
      "Done: 22 %\n",
      "Done: 23 %\n",
      "Done: 24 %\n",
      "Done: 25 %\n",
      "Done: 26 %\n",
      "Done: 27 %\n",
      "Done: 28 %\n",
      "Done: 29 %\n",
      "Done: 30 %\n",
      "Done: 31 %\n",
      "Done: 32 %\n",
      "Done: 33 %\n",
      "Done: 34 %\n",
      "Done: 35 %\n",
      "Done: 36 %\n",
      "Done: 37 %\n"
     ]
    },
    {
     "ename": "KeyboardInterrupt",
     "evalue": "",
     "output_type": "error",
     "traceback": [
      "\u001b[0;31m---------------------------------------------------------------------------\u001b[0m",
      "\u001b[0;31mKeyboardInterrupt\u001b[0m                         Traceback (most recent call last)",
      "Cell \u001b[0;32mIn [15], line 2\u001b[0m\n\u001b[1;32m      1\u001b[0m \u001b[38;5;124;03m'''run simulations'''\u001b[39;00m\n\u001b[0;32m----> 2\u001b[0m \u001b[43maez\u001b[49m\u001b[38;5;241;43m.\u001b[39;49m\u001b[43msimulateCropCycle\u001b[49m\u001b[43m(\u001b[49m\u001b[43m \u001b[49m\u001b[43mstart_doy\u001b[49m\u001b[38;5;241;43m=\u001b[39;49m\u001b[38;5;241;43m1\u001b[39;49m\u001b[43m,\u001b[49m\u001b[43m \u001b[49m\u001b[43mend_doy\u001b[49m\u001b[38;5;241;43m=\u001b[39;49m\u001b[38;5;241;43m365\u001b[39;49m\u001b[43m,\u001b[49m\u001b[43m \u001b[49m\u001b[43mstep_doy\u001b[49m\u001b[38;5;241;43m=\u001b[39;49m\u001b[38;5;241;43m1\u001b[39;49m\u001b[43m,\u001b[49m\u001b[43m \u001b[49m\u001b[43mleap_year\u001b[49m\u001b[38;5;241;43m=\u001b[39;49m\u001b[38;5;28;43;01mFalse\u001b[39;49;00m\u001b[43m)\u001b[49m \u001b[38;5;66;03m# results are in kg / hectare\u001b[39;00m\n",
      "File \u001b[0;32m/Volumes/GoogleDrive/My Drive/PyAEZv2/./pyaez/CropSimulation.py:376\u001b[0m, in \u001b[0;36mCropSimulation.simulateCropCycle\u001b[0;34m(self, start_doy, end_doy, step_doy, leap_year)\u001b[0m\n\u001b[1;32m    374\u001b[0m \u001b[38;5;66;03m# get maximum yield from all simulation for a particular location (pixel) and assign to final map\u001b[39;00m\n\u001b[1;32m    375\u001b[0m \u001b[38;5;28;01mif\u001b[39;00m \u001b[38;5;28mlen\u001b[39m(yield_of_all_crop_cycles_irrig) \u001b[38;5;241m>\u001b[39m \u001b[38;5;241m0\u001b[39m:\n\u001b[0;32m--> 376\u001b[0m     \u001b[38;5;28mself\u001b[39m\u001b[38;5;241m.\u001b[39mfinal_yield_rainfed[i_row, i_col] \u001b[38;5;241m=\u001b[39m \u001b[43mnp\u001b[49m\u001b[38;5;241;43m.\u001b[39;49m\u001b[43mmax\u001b[49m\u001b[43m(\u001b[49m\n\u001b[1;32m    377\u001b[0m \u001b[43m        \u001b[49m\u001b[43myield_of_all_crop_cycles_rainfed\u001b[49m\u001b[43m)\u001b[49m\n\u001b[1;32m    378\u001b[0m     \u001b[38;5;28mself\u001b[39m\u001b[38;5;241m.\u001b[39mfinal_yield_irrig[i_row, i_col] \u001b[38;5;241m=\u001b[39m np\u001b[38;5;241m.\u001b[39mmax(\n\u001b[1;32m    379\u001b[0m         yield_of_all_crop_cycles_irrig)\n\u001b[1;32m    380\u001b[0m     \u001b[38;5;28mself\u001b[39m\u001b[38;5;241m.\u001b[39mcrop_calender[i_row, i_col] \u001b[38;5;241m=\u001b[39m np\u001b[38;5;241m.\u001b[39mwhere(yield_of_all_crop_cycles_rainfed \u001b[38;5;241m==\u001b[39m np\u001b[38;5;241m.\u001b[39mmax(\n\u001b[1;32m    381\u001b[0m         yield_of_all_crop_cycles_rainfed))[\u001b[38;5;241m0\u001b[39m][\u001b[38;5;241m0\u001b[39m] \u001b[38;5;241m*\u001b[39m step_doy\n",
      "File \u001b[0;32m<__array_function__ internals>:180\u001b[0m, in \u001b[0;36mamax\u001b[0;34m(*args, **kwargs)\u001b[0m\n",
      "File \u001b[0;32m/usr/local/lib/python3.10/site-packages/numpy/core/fromnumeric.py:2793\u001b[0m, in \u001b[0;36mamax\u001b[0;34m(a, axis, out, keepdims, initial, where)\u001b[0m\n\u001b[1;32m   2677\u001b[0m \u001b[38;5;129m@array_function_dispatch\u001b[39m(_amax_dispatcher)\n\u001b[1;32m   2678\u001b[0m \u001b[38;5;28;01mdef\u001b[39;00m \u001b[38;5;21mamax\u001b[39m(a, axis\u001b[38;5;241m=\u001b[39m\u001b[38;5;28;01mNone\u001b[39;00m, out\u001b[38;5;241m=\u001b[39m\u001b[38;5;28;01mNone\u001b[39;00m, keepdims\u001b[38;5;241m=\u001b[39mnp\u001b[38;5;241m.\u001b[39m_NoValue, initial\u001b[38;5;241m=\u001b[39mnp\u001b[38;5;241m.\u001b[39m_NoValue,\n\u001b[1;32m   2679\u001b[0m          where\u001b[38;5;241m=\u001b[39mnp\u001b[38;5;241m.\u001b[39m_NoValue):\n\u001b[1;32m   2680\u001b[0m     \u001b[38;5;124;03m\"\"\"\u001b[39;00m\n\u001b[1;32m   2681\u001b[0m \u001b[38;5;124;03m    Return the maximum of an array or maximum along an axis.\u001b[39;00m\n\u001b[1;32m   2682\u001b[0m \n\u001b[0;32m   (...)\u001b[0m\n\u001b[1;32m   2791\u001b[0m \u001b[38;5;124;03m    5\u001b[39;00m\n\u001b[1;32m   2792\u001b[0m \u001b[38;5;124;03m    \"\"\"\u001b[39;00m\n\u001b[0;32m-> 2793\u001b[0m     \u001b[38;5;28;01mreturn\u001b[39;00m \u001b[43m_wrapreduction\u001b[49m\u001b[43m(\u001b[49m\u001b[43ma\u001b[49m\u001b[43m,\u001b[49m\u001b[43m \u001b[49m\u001b[43mnp\u001b[49m\u001b[38;5;241;43m.\u001b[39;49m\u001b[43mmaximum\u001b[49m\u001b[43m,\u001b[49m\u001b[43m \u001b[49m\u001b[38;5;124;43m'\u001b[39;49m\u001b[38;5;124;43mmax\u001b[39;49m\u001b[38;5;124;43m'\u001b[39;49m\u001b[43m,\u001b[49m\u001b[43m \u001b[49m\u001b[43maxis\u001b[49m\u001b[43m,\u001b[49m\u001b[43m \u001b[49m\u001b[38;5;28;43;01mNone\u001b[39;49;00m\u001b[43m,\u001b[49m\u001b[43m \u001b[49m\u001b[43mout\u001b[49m\u001b[43m,\u001b[49m\n\u001b[1;32m   2794\u001b[0m \u001b[43m                          \u001b[49m\u001b[43mkeepdims\u001b[49m\u001b[38;5;241;43m=\u001b[39;49m\u001b[43mkeepdims\u001b[49m\u001b[43m,\u001b[49m\u001b[43m \u001b[49m\u001b[43minitial\u001b[49m\u001b[38;5;241;43m=\u001b[39;49m\u001b[43minitial\u001b[49m\u001b[43m,\u001b[49m\u001b[43m \u001b[49m\u001b[43mwhere\u001b[49m\u001b[38;5;241;43m=\u001b[39;49m\u001b[43mwhere\u001b[49m\u001b[43m)\u001b[49m\n",
      "File \u001b[0;32m/usr/local/lib/python3.10/site-packages/numpy/core/fromnumeric.py:86\u001b[0m, in \u001b[0;36m_wrapreduction\u001b[0;34m(obj, ufunc, method, axis, dtype, out, **kwargs)\u001b[0m\n\u001b[1;32m     83\u001b[0m         \u001b[38;5;28;01melse\u001b[39;00m:\n\u001b[1;32m     84\u001b[0m             \u001b[38;5;28;01mreturn\u001b[39;00m reduction(axis\u001b[38;5;241m=\u001b[39maxis, out\u001b[38;5;241m=\u001b[39mout, \u001b[38;5;241m*\u001b[39m\u001b[38;5;241m*\u001b[39mpasskwargs)\n\u001b[0;32m---> 86\u001b[0m \u001b[38;5;28;01mreturn\u001b[39;00m \u001b[43mufunc\u001b[49m\u001b[38;5;241;43m.\u001b[39;49m\u001b[43mreduce\u001b[49m\u001b[43m(\u001b[49m\u001b[43mobj\u001b[49m\u001b[43m,\u001b[49m\u001b[43m \u001b[49m\u001b[43maxis\u001b[49m\u001b[43m,\u001b[49m\u001b[43m \u001b[49m\u001b[43mdtype\u001b[49m\u001b[43m,\u001b[49m\u001b[43m \u001b[49m\u001b[43mout\u001b[49m\u001b[43m,\u001b[49m\u001b[43m \u001b[49m\u001b[38;5;241;43m*\u001b[39;49m\u001b[38;5;241;43m*\u001b[39;49m\u001b[43mpasskwargs\u001b[49m\u001b[43m)\u001b[49m\n",
      "\u001b[0;31mKeyboardInterrupt\u001b[0m: "
     ]
    }
   ],
   "source": [
    "'''run simulations'''\n",
    "aez.simulateCropCycle( start_doy=1, end_doy=365, step_doy=1, leap_year=False) # results are in kg / hectare"
   ]
  },
  {
   "cell_type": "markdown",
   "metadata": {
    "id": "GKD3JNSsrg8Q"
   },
   "source": [
    "### Maximum Attainable Yield for Rainfed and Irrigated Condition/ Optimum starting date\n",
    "\n",
    "\n",
    "Yield Classification\n",
    "1.   not suitable (yields between 0% and 20%)\n",
    "2.   marginally suitable (yields between 20% and 40%)\n",
    "3.   moderately suitable (yields between 40% and 60%)\n",
    "4. suitable (yields between 60% and 80%)\n",
    "5. very suitable (yields are equivalent to 80% or more of the overall maximum yield)\n",
    "\n"
   ]
  },
  {
   "cell_type": "code",
   "execution_count": null,
   "metadata": {
    "id": "RMDZr1wrvivp"
   },
   "outputs": [],
   "source": [
    "# Now, showing the estimated and highly obtainable yield of a particular crop, results are in kg / hectare\n",
    "yield_map_rain = aez.getEstimatedYieldRainfed()  # for rainfed\n",
    "yield_map_irr = aez.getEstimatedYieldIrrigated()  # for irrigated\n",
    "\n",
    "# Optimum cycle start date, the date when the highest yield are produced referenced from the start of crop cycle\n",
    "starting_date = aez.getOptimumCycleStartDate()\n",
    "\n",
    "## get classified output of yield\n",
    "yield_map_rain_class = obj_utilities.classifyFinalYield(yield_map_rain)\n",
    "yield_map_irr_class = obj_utilities.classifyFinalYield(yield_map_irr)\n",
    "yield_map_rain_class = np.ma.masked_where(aez.im_mask==0,yield_map_rain)\n",
    "yield_map_irr_class = np.ma.masked_where(aez.im_mask==0,yield_map_irr)"
   ]
  },
  {
   "cell_type": "code",
   "execution_count": null,
   "metadata": {},
   "outputs": [],
   "source": [
    "# Read the saved GeoTIFF files\n",
    "yield_map_rain = gdal.Open('./data_output/NB2/LAO_CropSuitability_rain.tif').ReadAsArray() # for rainfed\n",
    "yield_map_irr = gdal.Open(\n",
    "    './data_output/NB2/LAO_CropSuitability_irr.tif').ReadAsArray()  # for irrigated\n",
    "\n",
    "# Optimum cycle start date, the date when the highest yield are produced referenced from the start of crop cycle\n",
    "starting_date = gdal.Open(\n",
    "    './data_output/NB2/LAO_Starting_date.tif').ReadAsArray()\n",
    "\n",
    "# get classified output of yield\n",
    "yield_map_rain_class = gdal.Open(\n",
    "    './data_output/NB2/LAO_CropSuitability_rain_class.tif').ReadAsArray()\n",
    "yield_map_irr_class = gdal.Open(\n",
    "    './data_output/NB2/LAO_CropSuitability_irr_class.tif').ReadAsArray()\n",
    "\n",
    "yield_map_rain = np.ma.masked_where(aez.im_mask==0, yield_map_rain)\n",
    "yield_map_irr = np.ma.masked_where(aez.im_mask == 0, yield_map_irr)\n",
    "starting_date = np.ma.masked_where(aez.im_mask == 0, starting_date)\n",
    "yield_map_rain_class = np.ma.masked_where(aez.im_mask == 0, yield_map_rain_class)\n",
    "yield_map_irr_class = np.ma.masked_where(aez.im_mask == 0, yield_map_irr_class)\n"
   ]
  },
  {
   "cell_type": "code",
   "execution_count": null,
   "metadata": {
    "id": "CnLmMJ63vivp",
    "outputId": "0c03983f-52bd-4031-944f-96bde480f0f2"
   },
   "outputs": [],
   "source": [
    "'''visualize result'''\n",
    "\n",
    "plt.figure(figsize=(8,12))\n",
    "plt.subplot(3, 2, 1)\n",
    "plt.imshow(yield_map_rain, cmap=plt.get_cmap('tab10', 6), vmin=-0.2, vmax=5.3)\n",
    "plt.title('Crop Suitability: Rainfed')\n",
    "plt.colorbar(shrink=0.9)\n",
    "\n",
    "\n",
    "plt.subplot(3, 2, 2)\n",
    "plt.imshow(yield_map_irr, cmap=plt.get_cmap('tab10', 6), vmin=-0.2, vmax=5.3)\n",
    "plt.title('Crop Suitability: Rainfed')\n",
    "plt.colorbar(shrink=0.9)\n",
    "\n",
    "plt.subplot(3,2,3)\n",
    "plt.imshow(yield_map_rain_class, cmap=plt.get_cmap('tab10', 6), vmin=-0.2, vmax=5.3)\n",
    "plt.title('Yield Classes: Rainfed')\n",
    "plt.colorbar(shrink=0.9)\n",
    "\n",
    "\n",
    "plt.subplot(3, 2,4)\n",
    "plt.imshow(yield_map_irr_class, cmap=plt.get_cmap('tab10', 6), vmin=-0.2, vmax=5.3)\n",
    "plt.title('Yield Classes: Irrigated')\n",
    "plt.colorbar(shrink=0.9)\n",
    "\n",
    "\n",
    "plt.subplot(3, 2, 5)\n",
    "plt.imshow(starting_date, vmin=0)\n",
    "plt.title('Optimum starting date (Julian day)')\n",
    "plt.colorbar(shrink=0.9)\n",
    "plt.savefig(\"./data_output/NB2/LAO_CropSuitability.png\",bbox_inches='tight',dpi=300)\n",
    "plt.show()"
   ]
  },
  {
   "cell_type": "code",
   "execution_count": null,
   "metadata": {
    "id": "DpkE9XWKvivp"
   },
   "outputs": [],
   "source": [
    "# '''save result'''\n",
    "\n",
    "obj_utilities.saveRaster(mask_path, './data_output/NB2/LAO_CropSuitability_rain.tif', yield_map_rain)\n",
    "obj_utilities.saveRaster(mask_path, './data_output/NB2/LAO_CropSuitability_irr.tif', yield_map_irr)\n",
    "\n",
    "obj_utilities.saveRaster(mask_path, './data_output/NB2/LAO_Starting_date.tif', starting_date)\n",
    "\n",
    "obj_utilities.saveRaster(mask_path, './data_output/NB2/LAO_CropSuitability_rain_class.tif', yield_map_rain_class)\n",
    "obj_utilities.saveRaster(mask_path, './data_output/NB2/LAO_CropSuitability_irr_class.tif',yield_map_irr_class)"
   ]
  },
  {
   "cell_type": "markdown",
   "metadata": {
    "id": "BepjZiVqvivi"
   },
   "source": [
    "<hr>\n",
    "\n",
    "## END OF MODULE 2: CROP SIMULATION\n",
    "<hr>"
   ]
  }
 ],
 "metadata": {
  "colab": {
   "provenance": []
  },
  "kernelspec": {
   "display_name": "Python 3 (ipykernel)",
   "language": "python",
   "name": "python3"
  },
  "language_info": {
   "codemirror_mode": {
    "name": "ipython",
    "version": 3
   },
   "file_extension": ".py",
   "mimetype": "text/x-python",
   "name": "python",
   "nbconvert_exporter": "python",
   "pygments_lexer": "ipython3",
   "version": "3.10.8"
  },
  "vscode": {
   "interpreter": {
    "hash": "31f2aee4e71d21fbe5cf8b01ff0e069b9275f58929596ceb00d14d90e3e16cd6"
   }
  }
 },
 "nbformat": 4,
 "nbformat_minor": 1
}
