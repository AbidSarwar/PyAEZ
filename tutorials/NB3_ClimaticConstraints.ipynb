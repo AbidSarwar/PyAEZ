{
 "cells": [
  {
   "attachments": {},
   "cell_type": "markdown",
   "metadata": {},
   "source": [
    "# Notebook III - Climatic Constraints\n",
    "\n",
    "<hr>\n",
    "This module uses various yield reduction factors to apply the obtained maximum attainable yield from Module 2 to consider the constraint effects separately from Module II. This modules works with two separate python look-up scripts ALL_REDUCTION_FACTORS_IRR and ALL_REDUCTION_FACTORS_RAIN which must be manually edited for crop/LUT specific reduction factors.\n",
    "\n",
    "Prepared by Geoinformatics Center, AIT\n",
    "<hr>"
   ]
  },
  {
   "attachments": {},
   "cell_type": "markdown",
   "metadata": {},
   "source": [
    "### Google drive connection\n",
    "In this step, we will connect to Google Drive service and mount the drive where we will start our PyAEZ project"
   ]
  },
  {
   "cell_type": "code",
   "execution_count": null,
   "metadata": {},
   "outputs": [],
   "source": [
    "# from google.colab import drive\n",
    "# drive.mount('/content/gdrive', force_remount=True)"
   ]
  },
  {
   "attachments": {},
   "cell_type": "markdown",
   "metadata": {},
   "source": [
    "Then, installing any additional python packages that required to run PyAEZ.\n",
    "If working on your own PC/machine, these additional installation will vary depending on what is already installed in your Python library. "
   ]
  },
  {
   "cell_type": "code",
   "execution_count": null,
   "metadata": {},
   "outputs": [],
   "source": [
    "# 'Installing neccessary packages'\n",
    "# !pip install gdal\n",
    "# # !pip install pyaez==2.1.0"
   ]
  },
  {
   "attachments": {},
   "cell_type": "markdown",
   "metadata": {},
   "source": [
    "## Importing Libraries"
   ]
  },
  {
   "cell_type": "code",
   "execution_count": null,
   "metadata": {},
   "outputs": [],
   "source": [
    "'''import supporting libraries'''\n",
    "# import pyaez\n",
    "import matplotlib.pyplot as plt\n",
    "import numpy as np\n",
    "import os\n",
    "try:\n",
    "    from osgeo import gdal\n",
    "except:\n",
    "    import gdal\n",
    "import sys"
   ]
  },
  {
   "attachments": {},
   "cell_type": "markdown",
   "metadata": {},
   "source": [
    "Setting the working directory -- where our PyAEZ project is located."
   ]
  },
  {
   "cell_type": "code",
   "execution_count": null,
   "metadata": {},
   "outputs": [],
   "source": [
    "'Set the working directory'\n",
    "# work_dir = r'/content/gdrive/MyDrive/PyAEZv2/'\n",
    "work_dir = r'D:\\PyAEZv2.1_Draft'\n",
    "os.chdir(work_dir)\n",
    "sys.path.append('./pyaez/')\n",
    "!pwd"
   ]
  },
  {
   "attachments": {},
   "cell_type": "markdown",
   "metadata": {},
   "source": [
    "## Applying Climate Constraints"
   ]
  },
  {
   "cell_type": "code",
   "execution_count": null,
   "metadata": {},
   "outputs": [],
   "source": [
    "'''importing library'''\n",
    "\n",
    "from pyaez import ClimaticConstraints\n",
    "clim_con = ClimaticConstraints.ClimaticConstraints()\n",
    "\n",
    "from pyaez import UtilitiesCalc\n",
    "obj_utilities = UtilitiesCalc.UtilitiesCalc()"
   ]
  },
  {
   "cell_type": "code",
   "execution_count": null,
   "metadata": {},
   "outputs": [],
   "source": [
    "'''Reading data'''\n",
    "lgp = gdal.Open(r'.\\data_output\\NB1\\LAO_LGP.tif').ReadAsArray()\n",
    "lgp_equv = gdal.Open(r'.\\data_output\\NB1\\LAO_LGPEquivalent.tif').ReadAsArray()\n",
    "lgp10 = gdal.Open(r'.\\data_output\\NB1\\LAO_LGPt10.tif').ReadAsArray()\n",
    "tclimate = gdal.Open(r'.\\data_output\\NB1\\LAO_ThermalClimate.tif').ReadAsArray()\n",
    "\n",
    "max_temp = np.load(r'./data_input/climate/max_temp.npy')# maximum temperature (Daily or Monthly)\n",
    "min_temp = np.load(r'./data_input/climate/min_temp.npy')  # minimum temperature (Daily or Monthly)\n",
    "\n",
    "yield_map_rain = gdal.Open(r'.\\data_output\\NB2\\maiz_yield_rain.tif').ReadAsArray()\n",
    "yield_map_irr = gdal.Open(r'.\\data_output\\NB2\\maiz_yield_irr.tif').ReadAsArray()"
   ]
  },
  {
   "cell_type": "code",
   "execution_count": null,
   "metadata": {},
   "outputs": [],
   "source": [
    "'''Applying climatic constraints. Note that constraints for rainfed and irrigated conditions are run separately'''\n",
    "# Yield Reduction for Rainfed Conditions\n",
    "clim_con.applyClimaticConstraints(min_temp = min_temp,\n",
    "                                  max_temp = max_temp,\n",
    "                                  lgp= lgp, lgp_equv = lgp_equv,\n",
    "                                  lgpt10 = lgp10,\n",
    "                                  yield_input = yield_map_rain,\n",
    "                                  irr_or_rain = 'rain',\n",
    "                                  tclimate= tclimate,\n",
    "                                  no_tclimate = [2,6,7,8,9,10,11,12]) # for maize\n",
    "\n",
    "# Getting the climate adjusted yield (rainfed)\n",
    "clim_yield_rain_maiz = clim_con.getClimateAdjustedYield()\n",
    "\n",
    "# Getting agro-climatic constraint factor (fc3) (rainfed)\n",
    "fc3_maiz_rain = clim_con.getClimateReductionFactor()"
   ]
  },
  {
   "cell_type": "code",
   "execution_count": null,
   "metadata": {},
   "outputs": [],
   "source": [
    "'''visualize results'''\n",
    "plt.figure(1, figsize=(22,9))\n",
    "plt.subplot(1,3,1)\n",
    "plt.imshow(yield_map_rain, vmax = np.max([clim_yield_rain_maiz, yield_map_rain]))\n",
    "plt.colorbar(shrink=0.6)\n",
    "plt.title('Original Rainfed Yield Maize')\n",
    "\n",
    "plt.subplot(1,3,2)\n",
    "plt.imshow(clim_yield_rain_maiz, vmax = np.max([clim_yield_rain_maiz, yield_map_rain]))\n",
    "plt.colorbar(shrink=0.6)\n",
    "plt.title('Climate Constrainted Rainfed Yield Maize')\n",
    "\n",
    "plt.subplot(1,3,3)\n",
    "plt.imshow(fc3_maiz_rain, vmax = 1)\n",
    "plt.colorbar(shrink=0.6)\n",
    "plt.title('Fc3 Maize Rainfed')\n"
   ]
  },
  {
   "cell_type": "code",
   "execution_count": null,
   "metadata": {},
   "outputs": [],
   "source": [
    "'''save result (Rainfed Condition)'''\n",
    "obj_utilities.saveRaster(r'.\\data_input\\LAO_Admin.tif', r'.\\data_output\\NB3\\clim_maiz_yield_rain.tif', clim_yield_rain_maiz)\n",
    "obj_utilities.saveRaster(r'.\\data_input\\LAO_Admin.tif', r'.\\data_output\\NB3\\fc3_maiz_rain.tif', fc3_maiz_rain)"
   ]
  },
  {
   "cell_type": "code",
   "execution_count": null,
   "metadata": {},
   "outputs": [],
   "source": [
    "'''Applying climatic constraints. Note that constraints for rainfed and irrigated conditions are run separately'''\n",
    "# Yield Reduction for Rainfed Conditions\n",
    "clim_con.applyClimaticConstraints(min_temp = min_temp,\n",
    "                                  max_temp = max_temp,\n",
    "                                  lgp= lgp, lgp_equv = lgp_equv,\n",
    "                                  lgpt10 = lgp10,\n",
    "                                  yield_input = yield_map_irr,\n",
    "                                  irr_or_rain = 'irr',\n",
    "                                  tclimate= tclimate,\n",
    "                                  no_tclimate = [2,6,7,8,9,10,11,12]) # for maize\n",
    "\n",
    "# Getting the climate adjusted yield (rainfed)\n",
    "clim_yield_irr_maiz = clim_con.getClimateAdjustedYield()\n",
    "\n",
    "# Getting agro-climatic constraint factor (fc3) (rainfed)\n",
    "fc3_maiz_irr = clim_con.getClimateReductionFactor()"
   ]
  },
  {
   "cell_type": "code",
   "execution_count": null,
   "metadata": {},
   "outputs": [],
   "source": [
    "'''visualize results'''\n",
    "plt.figure(1, figsize=(22,9))\n",
    "plt.subplot(1,3,1)\n",
    "plt.imshow(yield_map_irr, vmax = np.max([clim_yield_irr_maiz, yield_map_irr]))\n",
    "plt.colorbar(shrink=0.6)\n",
    "plt.title('Original Irrigated Yield Maize')\n",
    "\n",
    "plt.subplot(1,3,2)\n",
    "plt.imshow(clim_yield_irr_maiz, vmax = np.max([clim_yield_irr_maiz, yield_map_irr]))\n",
    "plt.colorbar(shrink=0.6)\n",
    "plt.title('Climate Constrainted Irrigated Yield Maize')\n",
    "\n",
    "plt.subplot(1,3,3)\n",
    "plt.imshow(fc3_maiz_rain, vmax = 1)\n",
    "plt.colorbar(shrink=0.6)\n",
    "plt.title('Fc3 Maize Irrigated')\n"
   ]
  },
  {
   "cell_type": "code",
   "execution_count": null,
   "metadata": {},
   "outputs": [],
   "source": [
    "'''save result (Irrigated Condition)'''\n",
    "obj_utilities.saveRaster(r'.\\data_input\\LAO_Admin.tif', r'.\\data_output\\NB3\\clim_maiz_yield_irr.tif', clim_yield_irr_maiz)\n",
    "obj_utilities.saveRaster(r'.\\data_input\\LAO_Admin.tif', r'.\\data_output\\NB3\\fc3_maiz_irr.tif', fc3_maiz_irr)"
   ]
  },
  {
   "attachments": {},
   "cell_type": "markdown",
   "metadata": {},
   "source": [
    "<hr>\n",
    "\n",
    "### END OF MODULE 3: CLIMATIC CONSTRAINTS\n",
    "\n",
    "<hr>"
   ]
  }
 ],
 "metadata": {
  "interpreter": {
   "hash": "c850a2594b7e1855751d8292f154ed7bbf5bbcf1f35d42e79c4115abacc147cb"
  },
  "kernelspec": {
   "display_name": "Python 3.8.8 64-bit ('env': conda)",
   "name": "python3"
  },
  "language_info": {
   "codemirror_mode": {
    "name": "ipython",
    "version": 3
   },
   "file_extension": ".py",
   "mimetype": "text/x-python",
   "name": "python",
   "nbconvert_exporter": "python",
   "pygments_lexer": "ipython3",
   "version": "3.9.13"
  }
 },
 "nbformat": 4,
 "nbformat_minor": 2
}
