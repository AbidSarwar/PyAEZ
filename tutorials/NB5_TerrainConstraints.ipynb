{
 "cells": [
  {
   "attachments": {},
   "cell_type": "markdown",
   "metadata": {},
   "source": [
    "# Notebook V - Terrain Constraints\n",
    "\n",
    "<hr>\n",
    "This module calculates the yield reduction due to terrain slope, soil erosion, and Fournier Index (FI). Note that starting from v2.2, all terrain reduction factors are to be provided as excel sheets.\n",
    "\n",
    "Prepared by Geoinformatics Center, AIT\n",
    "<hr>"
   ]
  },
  {
   "attachments": {},
   "cell_type": "markdown",
   "metadata": {},
   "source": [
    "### Google drive connection\n",
    "In this step, we will connect to Google Drive service and mount the drive where we will start our PyAEZ project"
   ]
  },
  {
   "cell_type": "code",
   "execution_count": null,
   "metadata": {},
   "outputs": [],
   "source": [
    "# from google.colab import drive\n",
    "# drive.mount('/content/gdrive', force_remount=True)"
   ]
  },
  {
   "attachments": {},
   "cell_type": "markdown",
   "metadata": {},
   "source": [
    "Then, installing any additional python packages that required to run PyAEZ.\n",
    "If working on your own PC/machine, these additional installation will vary depending on what is already installed in your Python library. "
   ]
  },
  {
   "cell_type": "code",
   "execution_count": null,
   "metadata": {},
   "outputs": [],
   "source": [
    "# 'Installing neccessary packages'\n",
    "# !pip install gdal\n",
    "# # !pip install pyaez==2.1.0"
   ]
  },
  {
   "attachments": {},
   "cell_type": "markdown",
   "metadata": {},
   "source": [
    "## Importing Libraries"
   ]
  },
  {
   "cell_type": "code",
   "execution_count": null,
   "metadata": {},
   "outputs": [],
   "source": [
    "'''import supporting libraries'''\n",
    "# import pyaez\n",
    "import matplotlib.pyplot as plt\n",
    "import numpy as np\n",
    "import os\n",
    "import pandas\n",
    "try:\n",
    "    from osgeo import gdal\n",
    "except:\n",
    "    import gdal\n",
    "import sys"
   ]
  },
  {
   "attachments": {},
   "cell_type": "markdown",
   "metadata": {},
   "source": [
    "Setting the working directory -- where our PyAEZ project is located."
   ]
  },
  {
   "cell_type": "code",
   "execution_count": null,
   "metadata": {},
   "outputs": [],
   "source": [
    "'Set the working directory'\n",
    "work_dir = r'D:\\test_working_folder'  # Please change this to your working directory\n",
    "os.chdir(work_dir)\n",
    "sys.path.append('D:\\PyAEZ_iiasa')\n",
    "os.getcwd()\n"
   ]
  },
  {
   "attachments": {},
   "cell_type": "markdown",
   "metadata": {},
   "source": [
    "Check and create data output folder"
   ]
  },
  {
   "cell_type": "code",
   "execution_count": null,
   "metadata": {},
   "outputs": [],
   "source": [
    "import os\n",
    "folder_path = './data_output/NB5/'\n",
    "if not os.path.exists(folder_path):\n",
    "    os.makedirs(folder_path)\n",
    "    print(\"Folder created successfully.\")\n",
    "else:\n",
    "    print(\"Folder already exists.\")\n"
   ]
  },
  {
   "attachments": {},
   "cell_type": "markdown",
   "metadata": {},
   "source": [
    "## Applying Terrain Constraints"
   ]
  },
  {
   "cell_type": "code",
   "execution_count": null,
   "metadata": {},
   "outputs": [],
   "source": [
    "'''importing library'''\n",
    "\n",
    "from pyaez import TerrainConstraints\n",
    "terrain_constraints = TerrainConstraints.TerrainConstraints()\n",
    "\n",
    "from pyaez import UtilitiesCalc\n",
    "obj_utilities = UtilitiesCalc.UtilitiesCalc()"
   ]
  },
  {
   "cell_type": "code",
   "execution_count": null,
   "metadata": {},
   "outputs": [],
   "source": [
    "'''reading climate and slope data'''\n",
    "basepath = r'D:\\PyAEZ_iiasa\\data_input\\LAO_Admin.tif'\n",
    "precipitation = np.load(r'D:\\PyAEZ_iiasa\\data_input\\climate/precipitation.npy') # mm / day\n",
    "\n",
    "slope_map = gdal.Open(r'D:\\PyAEZ_iiasa\\data_input\\LAO_Slope.tif').ReadAsArray() # Percentage Slope"
   ]
  },
  {
   "cell_type": "markdown",
   "metadata": {},
   "source": [
    "New Feature: Importing Terrain Reduction Factor Setting as Excel Sheets"
   ]
  },
  {
   "cell_type": "code",
   "execution_count": null,
   "metadata": {},
   "outputs": [],
   "source": [
    "terrain_constraints.importTerrainReductionSheet(irr_file_path=r'D:\\PyAEZ_iiasa\\data_input\\maiz_terrain_constraints_irr.xlsx',\n",
    "                                rain_file_path=r'D:\\PyAEZ_iiasa\\data_input\\maiz_terrain_constraints_rain.xlsx')\n"
   ]
  },
  {
   "cell_type": "code",
   "execution_count": null,
   "metadata": {},
   "outputs": [],
   "source": [
    "'''passing climate and slope data'''\n",
    "\n",
    "terrain_constraints.setClimateTerrainData(precipitation, slope_map)"
   ]
  },
  {
   "cell_type": "code",
   "execution_count": null,
   "metadata": {},
   "outputs": [],
   "source": [
    "'''calculation of Fournier index'''\n",
    "terrain_constraints.calculateFI()\n",
    "\n",
    "# extraction of Fournier index (FI) if required\n",
    "fi = terrain_constraints.getFI()"
   ]
  },
  {
   "cell_type": "code",
   "execution_count": null,
   "metadata": {},
   "outputs": [],
   "source": [
    "# Visualizing the outputs\n",
    "plt.imshow(fi)\n",
    "plt.colorbar()\n",
    "plt.title('Fournier Index')"
   ]
  },
  {
   "cell_type": "code",
   "execution_count": null,
   "metadata": {},
   "outputs": [],
   "source": [
    "# saving FI data\n",
    "obj_utilities.saveRaster(basepath, r'./data_output/NB5/fournier_index.tif',fi)"
   ]
  },
  {
   "cell_type": "code",
   "execution_count": null,
   "metadata": {},
   "outputs": [],
   "source": [
    "'''reading yield data'''\n",
    "yield_map_rain = gdal.Open('./data_output/NB4/soil_clim_yld_maiz_rain.tif').ReadAsArray()"
   ]
  },
  {
   "cell_type": "markdown",
   "metadata": {},
   "source": [
    "Applying Terrain Constraints for Rainfed Condition"
   ]
  },
  {
   "cell_type": "code",
   "execution_count": null,
   "metadata": {},
   "outputs": [],
   "source": [
    "'''applying terrain constraints (Rainfed)'''\n",
    "\n",
    "yield_map_rain_m5 = terrain_constraints.applyTerrainConstraints(yield_map_rain, 'R') # I: Irrigated, R: Rain-fed\n",
    "\n",
    "## get classified output\n",
    "# yield_map_rain_class_m5 = obj_utilities.classifyFinalYield(yield_map_rain_m5)\n",
    "\n",
    "# getting the terrain reduction factor (fc5)\n",
    "fc5_rain = terrain_constraints.getTerrainReductionFactor()"
   ]
  },
  {
   "cell_type": "code",
   "execution_count": null,
   "metadata": {},
   "outputs": [],
   "source": [
    "'''visualize result'''\n",
    "\n",
    "plt.figure(1, figsize=(18,9))\n",
    "plt.subplot(1,2,1)\n",
    "plt.imshow(yield_map_rain, vmax = np.max([yield_map_rain_m5, yield_map_rain]))\n",
    "plt.colorbar(shrink=0.8)\n",
    "plt.title('Original Rainfed Yield Maize')\n",
    "\n",
    "plt.subplot(1,2,1)\n",
    "plt.imshow(yield_map_rain_m5, vmax = np.max([yield_map_rain_m5, yield_map_rain]))\n",
    "plt.colorbar(shrink=0.8)\n",
    "plt.title('Terrain Constrainted Rainfed Yield Maize')\n",
    "\n",
    "plt.subplot(1,2,3)\n",
    "plt.imshow(fc5_rain, vmax = 1, vmin = 0)\n",
    "plt.colorbar(shrink=0.8)\n",
    "plt.title('Terrain Constrainted Rainfed Yield Maize')"
   ]
  },
  {
   "cell_type": "code",
   "execution_count": null,
   "metadata": {},
   "outputs": [],
   "source": [
    "# saving rainfed outputs\n",
    "obj_utilities.saveRaster(basepath, r'./data_output/NB5/terr_soil_clim_yld_maiz_rain.tif', yield_map_rain_m5)\n",
    "obj_utilities.saveRaster(basepath, r'./data_output/NB5/fc5_maiz_rain.tif', fc5_rain)"
   ]
  },
  {
   "cell_type": "markdown",
   "metadata": {},
   "source": [
    "Applying Terrain Constraints for Irrigated Condition"
   ]
  },
  {
   "cell_type": "code",
   "execution_count": null,
   "metadata": {},
   "outputs": [],
   "source": [
    "'''reading Irrigated yield data'''\n",
    "\n",
    "yield_map_irr = gdal.Open('./data_output/NB4/soil_clim_yld_maiz_irr.tif').ReadAsArray()"
   ]
  },
  {
   "cell_type": "code",
   "execution_count": null,
   "metadata": {},
   "outputs": [],
   "source": [
    "'''applying terrain constraints (Irrigated)'''\n",
    "yield_map_irr_m5 = terrain_constraints.applyTerrainConstraints(yield_map_irr, 'I') # I: Irrigated, R: Rain-fed\n",
    "\n",
    "## get classified output\n",
    "\n",
    "# yield_map_irr_class_m5 = obj_utilities.classifyFinalYield(yield_map_irr_m5)\n",
    "\n",
    "# getting the terrain reduction factor (fc5)\n",
    "fc5_irr = terrain_constraints.getTerrainReductionFactor()"
   ]
  },
  {
   "cell_type": "code",
   "execution_count": null,
   "metadata": {},
   "outputs": [],
   "source": [
    "'''visualize result'''\n",
    "\n",
    "plt.figure(1, figsize=(18,9))\n",
    "plt.subplot(1,2,1)\n",
    "plt.imshow(yield_map_irr, vmax = np.max([yield_map_irr_m5, yield_map_irr]))\n",
    "plt.colorbar(shrink=0.8)\n",
    "plt.title('Original Irrigated Yield Maize')\n",
    "\n",
    "plt.subplot(1,2,1)\n",
    "plt.imshow(yield_map_irr_m5, vmax = np.max([yield_map_irr_m5, yield_map_irr]))\n",
    "plt.colorbar(shrink=0.8)\n",
    "plt.title('Terrain Constrainted Irrigated Yield Maize')\n",
    "\n",
    "plt.subplot(1,2,3)\n",
    "plt.imshow(fc5_irr, vmax = 1, vmin = 0)\n",
    "plt.colorbar(shrink=0.8)\n",
    "plt.title('Terrain Constrainted Irrigated Yield Maize')"
   ]
  },
  {
   "cell_type": "code",
   "execution_count": null,
   "metadata": {},
   "outputs": [],
   "source": [
    "# saving irrigated outputs\n",
    "obj_utilities.saveRaster(basepath, r'./data_output/NB5/terr_soil_clim_yld_maiz_irr.tif', yield_map_irr_m5)\n",
    "obj_utilities.saveRaster(basepath, r'./data_output/NB5/fc5_maiz_irr.tif', fc5_irr)"
   ]
  },
  {
   "attachments": {},
   "cell_type": "markdown",
   "metadata": {},
   "source": [
    "<hr>\n",
    "\n",
    "### END OF MODULE 5: TERRAIN CONSTRAINTS\n",
    "\n",
    "<hr>"
   ]
  }
 ],
 "metadata": {
  "kernelspec": {
   "display_name": "Python 3",
   "language": "python",
   "name": "python3"
  },
  "language_info": {
   "codemirror_mode": {
    "name": "ipython",
    "version": 3
   },
   "file_extension": ".py",
   "mimetype": "text/x-python",
   "name": "python",
   "nbconvert_exporter": "python",
   "pygments_lexer": "ipython3",
   "version": "3.9.13"
  }
 },
 "nbformat": 4,
 "nbformat_minor": 2
}
